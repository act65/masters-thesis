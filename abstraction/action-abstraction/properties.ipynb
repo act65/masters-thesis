{
 "cells": [
  {
   "cell_type": "code",
   "execution_count": 22,
   "metadata": {},
   "outputs": [],
   "source": [
    "# import jax.numpy as np\n",
    "import numpy as np\n",
    "import gym\n",
    "\n",
    "import tensorflow as tf\n",
    "tf.enable_eager_execution()"
   ]
  },
  {
   "cell_type": "code",
   "execution_count": 23,
   "metadata": {},
   "outputs": [
    {
     "name": "stderr",
     "output_type": "stream",
     "text": [
      "/home/telfaralex/.local/lib/python3.6/site-packages/gym/envs/registration.py:14: PkgResourcesDeprecationWarning: Parameters to load are deprecated.  Call .resolve and .require separately.\n",
      "  result = entry_point.load(False)\n"
     ]
    }
   ],
   "source": [
    "env = gym.make('LunarLander-v2')"
   ]
  },
  {
   "cell_type": "code",
   "execution_count": 24,
   "metadata": {},
   "outputs": [],
   "source": [
    "def play_episode(player, env, len_episode=100):\n",
    "    obs = env.reset()\n",
    "    trajectory = []\n",
    "    old_obs = obs\n",
    "    done = False\n",
    "    \n",
    "    # need fixed length trajectories\n",
    "    for i in range(len_episode):\n",
    "        if not done:\n",
    "            a = player(obs)\n",
    "            obs, r, done, info = env.step(a)\n",
    "            \n",
    "        else:  # pad with zeros\n",
    "            a = 0\n",
    "            obs, r, done, info = (np.zeros(old_obs.shape), 0, done, None)\n",
    "\n",
    "        trajectory.append(np.concatenate([np.array([a]), old_obs, np.array([r])]))\n",
    "        old_obs = obs\n",
    "    return np.vstack(trajectory)"
   ]
  },
  {
   "cell_type": "code",
   "execution_count": 25,
   "metadata": {},
   "outputs": [],
   "source": [
    "rnd_player = lambda s: env.action_space.sample()\n",
    "\n",
    "data = play_episode(rnd_player, env, 101)\n",
    "actions = data[:-1, 0]\n",
    "deltas = data[1:, 1:] - data[:-1, 1:]"
   ]
  },
  {
   "cell_type": "code",
   "execution_count": 26,
   "metadata": {},
   "outputs": [
    {
     "data": {
      "text/plain": [
       "((100, 9), (100,))"
      ]
     },
     "execution_count": 26,
     "metadata": {},
     "output_type": "execute_result"
    }
   ],
   "source": [
    "deltas.shape, actions.shape"
   ]
  },
  {
   "cell_type": "markdown",
   "metadata": {},
   "source": [
    "## Independent\n",
    "\n",
    "Want a set of actions that are orthogonal / modular. (disentangled)\n",
    "\n",
    "$$\n",
    "\\begin{align}\n",
    "\\Delta s(a) = \\mathbb E[\\tau(s, a) - s] \\\\\n",
    "\\\\\n",
    "\\forall i\\neq j:i,j \\in [1:K] \\;\\; \\\\\n",
    "\\langle\\Delta s(f(w_i)), \\Delta s(f(w_j)) \\rangle = 0 \\\\\n",
    "\\end{align}\n",
    "$$\n"
   ]
  },
  {
   "cell_type": "code",
   "execution_count": 36,
   "metadata": {},
   "outputs": [
    {
     "data": {
      "text/plain": [
       "<tf.Tensor: id=48, shape=(4, 9), dtype=float64, numpy=\n",
       "array([[-1.48288241e-02, -4.24741790e-03, -4.04429232e-02,\n",
       "         2.77148169e-02,  3.13965139e-02,  1.30061496e-02,\n",
       "        -2.43902439e-02,  0.00000000e+00,  2.09429161e+00],\n",
       "       [ 1.03362994e-02, -2.21525815e-02, -5.82436100e-03,\n",
       "        -2.21881354e-02, -2.12912476e-02,  4.57255105e-02,\n",
       "         0.00000000e+00,  0.00000000e+00, -2.19994062e+00],\n",
       "       [ 1.09077700e-02, -2.27179063e-02,  4.95382798e-02,\n",
       "         3.90037424e-03, -2.22582868e-02, -2.92850011e-03,\n",
       "         0.00000000e+00,  0.00000000e+00,  2.09208150e+00],\n",
       "       [ 9.53963174e-03, -1.86591316e-02,  6.73618664e-03,\n",
       "        -3.03167682e-02, -2.15115810e-02, -4.42639279e-02,\n",
       "         4.16666667e-02,  0.00000000e+00, -3.67450803e+00]])>"
      ]
     },
     "execution_count": 36,
     "metadata": {},
     "output_type": "execute_result"
    }
   ],
   "source": [
    "expected_deltas = tf.math.unsorted_segment_mean(tf.constant(deltas), tf.constant(actions, tf.int32), 4)\n",
    "expected_deltas"
   ]
  },
  {
   "cell_type": "markdown",
   "metadata": {},
   "source": [
    "## Regular\n",
    "\n",
    "Learn a consistent action space\n",
    "Want to learn a space where the actions act regularly.\n",
    "\n",
    "$$\n",
    "\\begin{align}\n",
    "\\Delta s(a) = \\mathbb E[\\tau(s, a) - s] \\\\\n",
    "\\\\\n",
    "\\exists c_i\\in \\mathbb R^d \\;\\;\\text{s.t.} \\\\\n",
    "\\parallel \\Delta s(a_i) - c_i \\parallel_2^2 =0\\\\\n",
    "\\end{align}\n",
    "$$\n",
    "\n",
    "Should point in the same direction, and have the same magnitude.\n",
    "Does it really need to have the same magnitude??"
   ]
  },
  {
   "cell_type": "code",
   "execution_count": null,
   "metadata": {},
   "outputs": [],
   "source": []
  }
 ],
 "metadata": {
  "kernelspec": {
   "display_name": "Python (venv)",
   "language": "python",
   "name": "venv"
  },
  "language_info": {
   "codemirror_mode": {
    "name": "ipython",
    "version": 3
   },
   "file_extension": ".py",
   "mimetype": "text/x-python",
   "name": "python",
   "nbconvert_exporter": "python",
   "pygments_lexer": "ipython3",
   "version": "3.6.7"
  }
 },
 "nbformat": 4,
 "nbformat_minor": 2
}
