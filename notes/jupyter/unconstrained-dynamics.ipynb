{
 "cells": [
  {
   "cell_type": "code",
   "execution_count": 1,
   "metadata": {},
   "outputs": [],
   "source": [
    "import sympy as sym"
   ]
  },
  {
   "cell_type": "code",
   "execution_count": 2,
   "metadata": {},
   "outputs": [],
   "source": [
    "def mdp_encoder(P, r):\n",
    "    \"\"\"\n",
    "    Args:\n",
    "        P (np.array): The transition function. shape = [n_states, n_states, n_actions]\n",
    "        r (np.array): The reward function. shape = [n_states, n_actions]\n",
    "\n",
    "    Returns:\n",
    "        p (np.array): the uncontrolled transition matrix\n",
    "        q (np.array): the pseudo reward\n",
    "\n",
    "    Needs to be solved for every state.\n",
    "    \"\"\"\n",
    "    # QUESTION Are there similarities between the action embeddings in each state?\n",
    "    # QUESTION How does this embedding change the set of policies that can be represented? Does this transformation preserve the optima?\n",
    "    def embed_state(idx_x):\n",
    "        \"\"\"\n",
    "        Solves\n",
    "        r(s, a) = q(s) + E_s'~p(s' | s, a) log( p(s' | s, a) / p(x' | x))\n",
    "        See supplementary material of todorov 2009 for more info\n",
    "        \"\"\"\n",
    "        # b_a = r(x, a) - E_s'~p(s' | s, a) log( p(s' | s, a) / p(x' | x))\n",
    "        b = r[idx_x] - np.sum(P[:, idx_x, :] * np.log(P[:, idx_x, :]+1e-8), axis=0)\n",
    "        # D_ax' = p(x' | x, a)\n",
    "        D = P[:, idx_x, :]\n",
    "\n",
    "        # D(q.1 - m) = b, c = q.1 - m\n",
    "        c = np.dot(b, np.linalg.pinv(D))\n",
    "        q = -np.log(np.sum(np.exp(-c)))\n",
    "\n",
    "        m = np.sum(q) - c\n",
    "        p = np.exp(m)\n",
    "\n",
    "        return p, [q]\n",
    "\n",
    "    # TODO, should be able to solve these in parallel.\n",
    "    # maybe even share some knowledge???!\n",
    "    pnqs = [embed_state(i) for i in range(P.shape[0])]\n",
    "    return tuple([np.stack(val, axis=1) for val in zip(*pnqs)])"
   ]
  },
  {
   "cell_type": "code",
   "execution_count": 10,
   "metadata": {},
   "outputs": [],
   "source": [
    "p000, p001, p010, p011, p100, p101, p110, p111 = sym.symbols('p000, p001, p010, p011, p100, p101, p110, p111')\n",
    "P = sym.Array([[[p000, p001], [p010, p011]], [[p100, p101], [p110, p111]]])"
   ]
  },
  {
   "cell_type": "code",
   "execution_count": 18,
   "metadata": {},
   "outputs": [],
   "source": [
    "r00, r01, r10, r11 = sym.symbols('r00, r01, r10, r11')\n",
    "r = sym.Matrix([[r00, r01], [r10, r11]])"
   ]
  },
  {
   "cell_type": "code",
   "execution_count": 24,
   "metadata": {},
   "outputs": [
    {
     "data": {
      "text/plain": [
       "[p000, p001, p010, p011, p100, p101, p110, p111]"
      ]
     },
     "execution_count": 24,
     "metadata": {},
     "output_type": "execute_result"
    }
   ],
   "source": []
  },
  {
   "cell_type": "code",
   "execution_count": null,
   "metadata": {},
   "outputs": [],
   "source": []
  }
 ],
 "metadata": {
  "kernelspec": {
   "display_name": "Python (venv)",
   "language": "python",
   "name": "venv"
  },
  "language_info": {
   "codemirror_mode": {
    "name": "ipython",
    "version": 3
   },
   "file_extension": ".py",
   "mimetype": "text/x-python",
   "name": "python",
   "nbconvert_exporter": "python",
   "pygments_lexer": "ipython3",
   "version": "3.6.7"
  }
 },
 "nbformat": 4,
 "nbformat_minor": 2
}
