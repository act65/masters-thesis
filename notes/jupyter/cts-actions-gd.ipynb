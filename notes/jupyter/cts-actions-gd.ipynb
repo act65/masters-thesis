{
 "cells": [
  {
   "cell_type": "code",
   "execution_count": 9,
   "metadata": {},
   "outputs": [],
   "source": [
    "import tensorflow as tf\n",
    "import numpy as np\n",
    "import matplotlib.pyplot as plt\n",
    "import gym"
   ]
  },
  {
   "cell_type": "code",
   "execution_count": 3,
   "metadata": {},
   "outputs": [],
   "source": [
    "tf.enable_eager_execution()"
   ]
  },
  {
   "cell_type": "code",
   "execution_count": 24,
   "metadata": {},
   "outputs": [],
   "source": [
    "def make_nn(n_inputs, n_outputs, width=32, activation=tf.nn.selu, depth=3):\n",
    "    layers = [tf.keras.layers.Dense(width, activation=activation)] * depth\n",
    "    net = tf.keras.Sequential(\n",
    "        [tf.keras.layers.Dense(width, activation=activation, input_shape=(n_inputs,))]\n",
    "        + layers +\n",
    "        [tf.keras.layers.Dense(n_outputs)]\n",
    "        )\n",
    "    return net\n",
    "\n",
    "\n",
    "class QNet():\n",
    "    def __init__(self, d_states, d_actions):\n",
    "        self.d_states = d_states\n",
    "        self.d_actions = d_actions\n",
    "        self.net = make_nn(d_states+d_actions, 1)\n",
    "        self.variables = self.net.variables\n",
    "        \n",
    "        self.action_energy_fn = lambda a: tf.reduce_mean(self.__call__(s, a))\n",
    "\n",
    "    def __call__(self, s, a):\n",
    "        x = tf.concat([s, a], axis=1)\n",
    "        return self.net(x)\n",
    "    \n",
    "    def choose_action(self, s):\n",
    "        B = tf.shape(s)[0]\n",
    "        a = langevin_dynamics(self.action_energy_fn, 200, (B, self.d_actions))\n",
    "        return a\n",
    "        \n",
    "def langevin_dynamics(energy_fn, n, shape, step_size=1e-2, discount=0.9):\n",
    "    a = tf.random.normal(shape)\n",
    "    momentum = tf.zeros(shape)\n",
    "    for _ in range(n):\n",
    "        with tf.GradientTape() as tape:\n",
    "            tape.watch(a)\n",
    "            energy = energy_fn(a)\n",
    "        gradient = tape.gradient(energy, a)\n",
    "#         momentum = discount*momentum + gradient\n",
    "        noise = tf.random.normal(a.shape)\n",
    "        a += step_size * gradient + 0.1*n\n",
    "    return a"
   ]
  },
  {
   "cell_type": "code",
   "execution_count": 25,
   "metadata": {},
   "outputs": [],
   "source": [
    "net = QNet(8, 2)\n",
    "s = tf.random.normal((1, 8))\n",
    "a = tf.random.normal((1, 2))"
   ]
  },
  {
   "cell_type": "code",
   "execution_count": 26,
   "metadata": {},
   "outputs": [
    {
     "name": "stdout",
     "output_type": "stream",
     "text": [
      "[[3999.7676 4000.1274]]\n"
     ]
    }
   ],
   "source": [
    "print(net.choose_action(s).numpy())"
   ]
  },
  {
   "cell_type": "code",
   "execution_count": 27,
   "metadata": {},
   "outputs": [
    {
     "data": {
      "text/plain": [
       "<matplotlib.collections.PathCollection at 0x7fc61bd95518>"
      ]
     },
     "execution_count": 27,
     "metadata": {},
     "output_type": "execute_result"
    },
    {
     "data": {
      "image/png": "[encoded data removed]",
      "text/plain": [
       "<Figure size 432x288 with 1 Axes>"
      ]
     },
     "metadata": {
      "needs_background": "light"
     },
     "output_type": "display_data"
    }
   ],
   "source": [
    "s = tf.random.normal((1, 8))\n",
    "s = tf.concat([s for _ in range(100)], axis=0)\n",
    "actions = net.choose_action(s).numpy()\n",
    "plt.scatter(actions[:, 0], actions[:, 1])\n",
    "\n",
    "s = tf.random.normal((1, 8))\n",
    "s = tf.concat([s for _ in range(100)], axis=0)\n",
    "actions = net.choose_action(s).numpy()\n",
    "plt.scatter(actions[:, 0], actions[:, 1])"
   ]
  },
  {
   "cell_type": "code",
   "execution_count": 19,
   "metadata": {},
   "outputs": [],
   "source": [
    "# now train it and see what this looks like!?"
   ]
  },
  {
   "cell_type": "code",
   "execution_count": null,
   "metadata": {},
   "outputs": [],
   "source": []
  }
 ],
 "metadata": {
  "kernelspec": {
   "display_name": "Python 3",
   "language": "python",
   "name": "python3"
  },
  "language_info": {
   "codemirror_mode": {
    "name": "ipython",
    "version": 3
   },
   "file_extension": ".py",
   "mimetype": "text/x-python",
   "name": "python",
   "nbconvert_exporter": "python",
   "pygments_lexer": "ipython3",
   "version": "3.7.3"
  }
 },
 "nbformat": 4,
 "nbformat_minor": 2
}
