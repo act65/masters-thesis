{
 "cells": [
  {
   "cell_type": "code",
   "execution_count": 1,
   "metadata": {},
   "outputs": [],
   "source": [
    "import numpy as np\n",
    "import numpy.random as rnd\n",
    "import matplotlib.pyplot as plt\n",
    "\n",
    "import scipy.linalg as linalg"
   ]
  },
  {
   "cell_type": "code",
   "execution_count": 150,
   "metadata": {},
   "outputs": [],
   "source": [
    "class LinearQuadraticRegulator():\n",
    "    def __init__(self, n, m):\n",
    "        \"\"\"\n",
    "        Initialises:\n",
    "            A (np.array): a matrix (n x n) representing the dynamics of the system\n",
    "            B (np.array): a matrix (n x m) representing how the controls effect the system\n",
    "            Q (np.array): a matrix (n x n) representing the payoffs of different states\n",
    "            R (np.array): a matrix (m x m) representing the costs of the controls\n",
    "        \"\"\"\n",
    "        self.n = n\n",
    "        self.m = m\n",
    "        \n",
    "        self.A = rnd.standard_normal((n, n))/n/n\n",
    "        self.B = rnd.standard_normal((n, m))/n/m\n",
    "        self.Q = rnd.standard_normal((n, n))/n/n\n",
    "        self.R = rnd.standard_normal((m, m))/m/m\n",
    "        \n",
    "        self.lambda_k = 0\n",
    "        self.stddev = 0.1\n",
    "        \n",
    "    def step(self, x_t, K):\n",
    "        \"\"\"\n",
    "        Args:\n",
    "            x_t (np.array): a vector (n x 1) representing the current state\n",
    "            stddev (float): the standard deviation of the added noise\n",
    "\n",
    "        Returns:\n",
    "            x_tp1 (np.array): a vector (n x 1) representing the next state\n",
    "        \"\"\"\n",
    "        return np.dot(self.A, x_t) + np.dot(self.B, np.dot(K, x_t)) + self.stddev*rnd.standard_normal(x_t.shape)\n",
    "    \n",
    "    def rollout(self, x0, T, K):\n",
    "        xs = [x0]\n",
    "        for t in range(T-1):\n",
    "            xs.append(self.step(xs[-1], K))\n",
    "        return xs\n",
    "    \n",
    "    def reset(self):\n",
    "        return np.zeros((self.n, 1)) + self.stddev*rnd.standard_normal((self.n, 1))\n",
    "    \n",
    "    def asymptotic_value(self, x, K):\n",
    "        P = self.solve_dynamics(K)\n",
    "        return self.stddev**2 * np.dot(x.T, np.dot(P, x))\n",
    "        \n",
    "    def solve_dynamics(self, K):\n",
    "        return linalg.solve_discrete_lyapunov(self.A + np.dot(self.B, K), \n",
    "                                              self.Q + np.dot(K.T, np.dot(self.R, K)))\n",
    "    \n",
    "    def reward_fn(self, x, K):\n",
    "        u = np.dot(K, x)\n",
    "        return np.dot(x.T, np.dot(self.Q, x)) + np.dot(u.T, np.dot(self.R, u)) - self.lambda_k"
   ]
  },
  {
   "cell_type": "code",
   "execution_count": 172,
   "metadata": {},
   "outputs": [],
   "source": [
    "n, m = (12, 3)\n",
    "lqr = LinearQuadraticRegulator(n, m)\n",
    "K = rnd.standard_normal((m, n))/n/m"
   ]
  },
  {
   "cell_type": "code",
   "execution_count": 173,
   "metadata": {},
   "outputs": [],
   "source": [
    "def estimate_value(xs, lqr):\n",
    "    \"\"\"\n",
    "    Args:\n",
    "        xs (list): a list of T vectors (n x 1). a roll out trajectory\n",
    "    \"\"\"\n",
    "    return np.sum([lqr.reward_fn(x, K) for x in xs])"
   ]
  },
  {
   "cell_type": "code",
   "execution_count": 174,
   "metadata": {},
   "outputs": [],
   "source": [
    "def estimate_model(xs, lambda_r=0.001):\n",
    "    \"\"\"\n",
    "    Estimate the model via least squares, min_x ||Ax - b||_2^2.\n",
    "    A = xts, b = xtp1s\n",
    "    \"\"\"\n",
    "    # how does this actually work. what is it doing!?\n",
    "    \n",
    "    shape = xs[0].shape\n",
    "    xts = np.hstack(xs[:-1])\n",
    "    xtp1s = np.hstack(xs[1:])\n",
    "    dx = np.dot(xts, xtp1s.T)\n",
    "    xx = np.dot(xts, xts.T) + lambda_r * np.eye(shape[0])\n",
    "    \n",
    "    # L, _, r, s = np.linalg.lstsq(xts.T, xtp1s.T, rcond=-1)\n",
    "    return np.dot(dx, np.linalg.inv(xx))\n",
    "\n",
    "def model_based_evaluation(xs, K, Q, R):\n",
    "    L = estimate_model(xs)\n",
    "    return linalg.solve_discrete_lyapunov(L, Q + np.dot(K.T, np.dot(R, K)))"
   ]
  },
  {
   "cell_type": "code",
   "execution_count": 177,
   "metadata": {},
   "outputs": [],
   "source": [
    "P = lqr.solve_dynamics(K)\n",
    "xs = lqr.rollout(lqr.reset(), 10000, K)"
   ]
  },
  {
   "cell_type": "code",
   "execution_count": 179,
   "metadata": {},
   "outputs": [
    {
     "data": {
      "text/plain": [
       "[<matplotlib.lines.Line2D at 0x7ff804af8390>]"
      ]
     },
     "execution_count": 179,
     "metadata": {},
     "output_type": "execute_result"
    },
    {
     "data": {
      "image/png": "[encoded data removed]",
      "text/plain": [
       "<Figure size 432x288 with 1 Axes>"
      ]
     },
     "metadata": {
      "needs_background": "light"
     },
     "output_type": "display_data"
    }
   ],
   "source": [
    "err = []\n",
    "\n",
    "for i in range(200, len(xs)-1, 10):\n",
    "    P_hat = model_based_evaluation(xs[:i+1], K, lqr.Q, lqr.R)\n",
    "    err.append(np.linalg.norm(P - P_hat)**2)\n",
    "    \n",
    "plt.plot(err)"
   ]
  },
  {
   "cell_type": "code",
   "execution_count": 171,
   "metadata": {},
   "outputs": [],
   "source": [
    "def model_free_evaluation(xs):\n",
    "    V = np.sum([lqr.reward_fn(x) for x in xs])\n",
    "    lambda_t = np.trace()\n",
    "    return linalg.solve_discrete_lyapunov(L, Q + np.dot(K.T, np.dot(R, K)))"
   ]
  },
  {
   "cell_type": "code",
   "execution_count": null,
   "metadata": {},
   "outputs": [],
   "source": []
  }
 ],
 "metadata": {
  "kernelspec": {
   "display_name": "Python (venv)",
   "language": "python",
   "name": "venv"
  },
  "language_info": {
   "codemirror_mode": {
    "name": "ipython",
    "version": 3
   },
   "file_extension": ".py",
   "mimetype": "text/x-python",
   "name": "python",
   "nbconvert_exporter": "python",
   "pygments_lexer": "ipython3",
   "version": "3.6.7"
  }
 },
 "nbformat": 4,
 "nbformat_minor": 2
}
