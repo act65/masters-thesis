{
 "cells": [
  {
   "cell_type": "code",
   "execution_count": 1,
   "metadata": {},
   "outputs": [],
   "source": [
    "import tensorflow as tf\n",
    "import itertools\n",
    "import matplotlib.pyplot as plt\n",
    "tf.enable_eager_execution()"
   ]
  },
  {
   "cell_type": "markdown",
   "metadata": {},
   "source": [
    "For a long time, when I was approaching HRL I was trying to figure out how it was better then RL.\n",
    "Obvious (in hindsight) but not so short answer is: it isn't 'better'. That is because of the no-free-lunch theorem.\n",
    "\n",
    "Simply split the learning complexity between discovering a higher level language.\n",
    "And the using it.\n",
    "\n",
    "> The challenge in the single-task case is overcoming the additional cost of discovering the options; this results in a narrow opportu- nity for performance improvements, but a well-defined objective. In the skill transfer case, the key challenge is predicting the usefulness of a particular option to future tasks, given limited data.\n",
    "Combined. (Konidaris 2019)\n"
   ]
  },
  {
   "cell_type": "markdown",
   "metadata": {},
   "source": [
    "\n",
    "$$\n",
    "E_{f\\in F}\\Big[E_{x\\sim A}[ f(x)]\\Big] = E_{x\\sim B}[ f(x)] \\\\\n",
    "$$\n",
    "\n",
    "Refs\n",
    "\n",
    "- [No Free Lunch Theorems for Optimization](https://ti.arc.nasa.gov/m/profile/dhw/papers/78.pdf)\n",
    "- [A conservation law for generalization performance](http://dml.cs.byu.edu/~cgc/docs/mldm_tools/Reading/LCG.pdf)\n",
    "- [No More Lunch: Analysis of Sequential Search](https://acff25e7-a-62cb3a1a-s-sites.googlegroups.com/site/boundedtheoretics/CEC04.pdf)\n",
    "- [A No-Free-Lunch Theorem for Non-Uniform Distributions of Target Functions](http://citeseerx.ist.psu.edu/viewdoc/download?doi=10.1.1.71.8446&rep=rep1&type=pdf)\n",
    "- [Simple Explanation of the No-Free-Lunch Theorem and Its Implications](https://link.springer.com/content/pdf/10.1023%2FA%3A1021251113462.pdf)\n",
    "\n",
    "If you find a search algorithm that performs worse than randomly on some set of optimisation problems, you know it must perform better on the set if all other optimisation problems.\n",
    "(not quite? as we are not allowed rnd search algols here?)\n",
    "\n",
    "> Focusing on generalisation rather than accuracy has the effect of normalising differences in traniing set size. The conservation law tells is that overall generalisation performance remains null for every n. As a consequence, performance will increase with increasing n for some regualrities only to the extent that it decreases with n for others.\n",
    "\n",
    "(can I simulate this empirically. an example!? of decreasing performance?)\n",
    "\n",
    "\n",
    "\n",
    "- Want to explore a proof where the cost functions have bounded complexity (in the information theorietic sense. they are compressible. Maybe we pick all f such that their information is <= k). Does NFL still hold? (related [paper](https://ieeexplore.ieee.org/stamp/stamp.jsp?arnumber=870741) and [this one - bounded info](http://mattstreeter.org/Research/mstreeter_gecco_2003.pdf)?)\n"
   ]
  },
  {
   "cell_type": "code",
   "execution_count": 2,
   "metadata": {},
   "outputs": [
    {
     "data": {
      "text/plain": [
       "TensorShape([Dimension(8), Dimension(3)])"
      ]
     },
     "execution_count": 2,
     "metadata": {},
     "output_type": "execute_result"
    }
   ],
   "source": [
    "# search space\n",
    "n_x = 2\n",
    "d_x = 3\n",
    "dims = [tf.range(n_x) for _ in range(d_x)]\n",
    "X = tf.reshape(tf.stack(tf.meshgrid(*dims)), (n_x**d_x, d_x))\n",
    "X.shape"
   ]
  },
  {
   "cell_type": "code",
   "execution_count": 3,
   "metadata": {},
   "outputs": [
    {
     "data": {
      "text/plain": [
       "256"
      ]
     },
     "execution_count": 3,
     "metadata": {},
     "output_type": "execute_result"
    }
   ],
   "source": [
    "# space of possible cost functions. only 1 dim output\n",
    "n_y = 2  # 2 possible labels, {0, 1}\n",
    "n_y ** X.shape[0].value"
   ]
  },
  {
   "cell_type": "code",
   "execution_count": 4,
   "metadata": {},
   "outputs": [
    {
     "data": {
      "text/plain": [
       "TensorShape([Dimension(256), Dimension(8)])"
      ]
     },
     "execution_count": 4,
     "metadata": {},
     "output_type": "execute_result"
    }
   ],
   "source": [
    "# all possible cost functions\n",
    "Y = tf.stack(list(itertools.product(*[range(n_y) for _ in range(n_x**d_x)])))\n",
    "Y.shape"
   ]
  },
  {
   "cell_type": "code",
   "execution_count": 5,
   "metadata": {},
   "outputs": [],
   "source": [
    "def make_dataset(X, f, N, batch_size, train=True):\n",
    "    \"\"\"\n",
    "    Args:\n",
    "        X (array[n, d]): the possible input values.\n",
    "        f (array[n]): the cost function / labellings\n",
    "        N (int): the total number of examples to generate\n",
    "        batch_size (int): the size of the batches\n",
    "        train (bool): whether to yield training or test data\n",
    "        \n",
    "    Yields:\n",
    "        (tuple): (array[batch_size, d], array[batch_size]). the x, y pairs for supervised training\n",
    "    \"\"\"\n",
    "    # train versus valid set\n",
    "    minval = 0 if train else int(X.shape[0].value*0.8)\n",
    "    maxval = int(X.shape[0].value*0.8) if train else X.shape[0]\n",
    "    \n",
    "    for _ in range(N):\n",
    "        idx = tf.random.uniform((batch_size,), minval, maxval, dtype=tf.int32)\n",
    "        yield tf.gather(X, idx), tf.gather(f, idx)"
   ]
  },
  {
   "cell_type": "code",
   "execution_count": 6,
   "metadata": {},
   "outputs": [],
   "source": [
    "def update(learner, batch):\n",
    "    with tf.GradientTape() as tape:\n",
    "        loss = learner.loss_fn(*batch)\n",
    "\n",
    "    grads = tape.gradient(loss, learner.net.variables)\n",
    "    learner.opt.apply_gradients(zip(grads, learner.net.variables))\n",
    "\n",
    "    return loss\n",
    "\n",
    "class MLP():\n",
    "    def __init__(self):\n",
    "\n",
    "        self.net = tf.keras.Sequential([\n",
    "            tf.keras.layers.Dense(64, activation=tf.nn.selu),\n",
    "            tf.keras.layers.Dense(n_y)\n",
    "        ])\n",
    "        self.opt = tf.train.AdamOptimizer(1e-3)\n",
    "        \n",
    "    def __call__(self, x):\n",
    "        x = tf.cast(x, tf.float32)\n",
    "        return tf.argmax(self.net(x), axis=1)\n",
    "\n",
    "    def loss_fn(self, x, t):\n",
    "        x = tf.cast(x, tf.float32)\n",
    "        y = self.net(x)\n",
    "        loss = tf.losses.sparse_softmax_cross_entropy(logits=y, labels=t)\n",
    "        return tf.reduce_mean(loss)"
   ]
  },
  {
   "cell_type": "code",
   "execution_count": 7,
   "metadata": {},
   "outputs": [],
   "source": [
    "def eval_learner(X, f, learner):\n",
    "    \"\"\"\n",
    "    Args:\n",
    "        X (array[]): the search space\n",
    "        Y (array[]): the cost function\n",
    "        learner (Learner): a class with __call__ and .update methods\n",
    "    \"\"\"\n",
    "    # train\n",
    "    losses = []\n",
    "    for x, t in make_dataset(X, f, 1000, 10):\n",
    "        L = update(learner, (x, t))\n",
    "        losses.append(L)\n",
    "\n",
    "    # eval\n",
    "    gen_accs = [acc(learner(x), t) for x, t in make_dataset(X, f, 1000, 10, train=False)]\n",
    "\n",
    "    return losses, tf.reduce_mean(gen_accs)"
   ]
  },
  {
   "cell_type": "code",
   "execution_count": 8,
   "metadata": {},
   "outputs": [],
   "source": [
    "def acc(y, t):\n",
    "    return tf.reduce_mean(tf.cast(tf.equal(y, tf.cast(t, tf.int64)), tf.float32))"
   ]
  },
  {
   "cell_type": "code",
   "execution_count": 9,
   "metadata": {},
   "outputs": [],
   "source": [
    "def free_lunch(Learner, X, Y):\n",
    "    accs = []\n",
    "    for i in range(Y.shape[0]):\n",
    "        print('\\r {}'.format(i), end='', flush=True)\n",
    "        learner = Learner()\n",
    "        losses, gen_acc = eval_learner(X, Y[i], learner)\n",
    "        accs.append(gen_acc)\n",
    "        \n",
    "    return tf.stack(accs).numpy()"
   ]
  },
  {
   "cell_type": "code",
   "execution_count": 10,
   "metadata": {},
   "outputs": [
    {
     "name": "stdout",
     "output_type": "stream",
     "text": [
      " 255"
     ]
    }
   ],
   "source": [
    "gen_accs = free_lunch(MLP, X, Y)"
   ]
  },
  {
   "cell_type": "code",
   "execution_count": 12,
   "metadata": {},
   "outputs": [
    {
     "data": {
      "text/plain": [
       "<matplotlib.collections.PathCollection at 0x7ff89441bb70>"
      ]
     },
     "execution_count": 12,
     "metadata": {},
     "output_type": "execute_result"
    },
    {
     "data": {
      "image/png": "[encoded data removed]",
      "text/plain": [
       "<Figure size 432x288 with 1 Axes>"
      ]
     },
     "metadata": {
      "needs_background": "light"
     },
     "output_type": "display_data"
    }
   ],
   "source": [
    "plt.scatter(range(Y.shape[0]), gen_accs)\n",
    "# plt.plot(range(512), )"
   ]
  },
  {
   "cell_type": "code",
   "execution_count": 13,
   "metadata": {},
   "outputs": [
    {
     "data": {
      "text/plain": [
       "<tf.Tensor: id=37159735, shape=(), dtype=float32, numpy=-0.002035155>"
      ]
     },
     "execution_count": 13,
     "metadata": {},
     "output_type": "execute_result"
    }
   ],
   "source": [
    "tf.reduce_mean(gen_accs - 0.5)"
   ]
  },
  {
   "cell_type": "code",
   "execution_count": 15,
   "metadata": {},
   "outputs": [
    {
     "data": {
      "image/png": "[encoded data removed]",
      "text/plain": [
       "<Figure size 432x288 with 1 Axes>"
      ]
     },
     "metadata": {
      "needs_background": "light"
     },
     "output_type": "display_data"
    }
   ],
   "source": [
    "_ = plt.hist(gen_accs, bins=100)"
   ]
  },
  {
   "cell_type": "markdown",
   "metadata": {},
   "source": [
    "Ahh, i get it now.\n",
    "\n",
    "> For every cost function where a learner generalises correctly wrt label of $x$, there is another cost function (at least when $y \\in \\{0, 1\\}$) where the learner will generalise incorrectly."
   ]
  },
  {
   "cell_type": "markdown",
   "metadata": {},
   "source": [
    "\n",
    "## Matching\n",
    "\n",
    "> Empirical success in generalisation is always due to problem selection.\n",
    "\n",
    "We have a matching problem that needs to be solved. Problems to optimisers.\n",
    "What makes this matching problem hard?\n",
    "\n",
    "- It can be hard to etimate the problem from calls to the oracle... If we could do so then we could easily optimise it.\n",
    "- ???\n",
    "\n"
   ]
  }
 ],
 "metadata": {
  "kernelspec": {
   "display_name": "Python (venv)",
   "language": "python",
   "name": "venv"
  },
  "language_info": {
   "codemirror_mode": {
    "name": "ipython",
    "version": 3
   },
   "file_extension": ".py",
   "mimetype": "text/x-python",
   "name": "python",
   "nbconvert_exporter": "python",
   "pygments_lexer": "ipython3",
   "version": "3.6.7"
  }
 },
 "nbformat": 4,
 "nbformat_minor": 2
}
