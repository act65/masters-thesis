{
 "cells": [
  {
   "cell_type": "code",
   "execution_count": 1,
   "metadata": {},
   "outputs": [],
   "source": [
    "import numpy as np\n",
    "import numpy.random as rnd"
   ]
  },
  {
   "cell_type": "code",
   "execution_count": 2,
   "metadata": {},
   "outputs": [],
   "source": [
    "n_states = 2\n",
    "n_actions = 2"
   ]
  },
  {
   "cell_type": "code",
   "execution_count": 7,
   "metadata": {},
   "outputs": [
    {
     "data": {
      "text/plain": [
       "((4, 2), (4, 1))"
      ]
     },
     "execution_count": 7,
     "metadata": {},
     "output_type": "execute_result"
    }
   ],
   "source": [
    "def generate_rnd_problem(n_states, n_actions):\n",
    "    P = rnd.random((n_states * n_actions, n_states))**2\n",
    "    P = P/P.sum(axis=1, keepdims=True)\n",
    "    r = rnd.random((n_states * n_actions, 1))\n",
    "    d0 = rnd.random((n_states, 1))\n",
    "    d0 /= d0.sum()\n",
    "    return P, r, d0\n",
    "\n",
    "P, r, d0 = generate_rnd_problem(n_states, n_actions)\n",
    "P.shape, r.shape"
   ]
  },
  {
   "cell_type": "code",
   "execution_count": 9,
   "metadata": {},
   "outputs": [],
   "source": [
    "def generate_Mpi(n_states, n_actions, ps):\n",
    "    \"\"\"\n",
    "    A policy is represented by a block diagonal |S| x |S||A| matrix M.\n",
    "\n",
    "    Args:\n",
    "        n_states (int): the number of states\n",
    "        n-actions (int): the number of actions\n",
    "        ps (array[n_states, n_actions]): the probabilities of taking action a in state s.\n",
    "\n",
    "    Returns:\n",
    "        (array[n_states, n_states x n_actions])\n",
    "    \"\"\"\n",
    "    A = np.ones((1, n_actions))\n",
    "    S = np.eye(n_states)\n",
    "\n",
    "    M_pi = np.zeros((n_states, n_states * n_actions))\n",
    "    M_pi[np.where(np.equal(1, np.kron(S, A)))] = ps.reshape(-1)\n",
    "    return M_pi\n",
    "\n",
    "def pi(M_pi, s, a):\n",
    "    \"\"\"\n",
    "    Let state s be indexed by i and the action a be indexed by j.\n",
    "    Then we have that M[i, i x |A| + j] = pi(a|s)\n",
    "    \"\"\"\n",
    "    return M_pi[s, s*n_actions+a]\n",
    "\n",
    "def normalise(x, axis):\n",
    "    return x/np.sum(x, axis=axis, keepdims=True)\n",
    "\n",
    "def exp_dist(x, lambda_=3.5):  # why 3.5!?\n",
    "    return lambda_*np.exp(-lambda_*x)\n",
    "\n",
    "def uniform_simplex(shape):\n",
    "    # god damn. it's not as simple as I thought to generate uniform distributions on simplexs\n",
    "    # https://cs.stackexchange.com/questions/3227/uniform-sampling-from-a-simplex\n",
    "    # http://www.cs.cmu.edu/~nasmith/papers/smith+tromble.tr04.pdf\n",
    "    return normalise(exp_dist(rnd.random(shape)),axis=1)\n",
    "\n",
    "def generate_rnd_policy(n_states, n_actions):\n",
    "    return generate_Mpi(n_states, n_actions, uniform_simplex((n_states, n_actions)))\n",
    "\n"
   ]
  },
  {
   "cell_type": "markdown",
   "metadata": {},
   "source": [
    "Want to calculate the expected state distribution under a policy / MDP.\n",
    "\n",
    "$$\n",
    "\\begin{align}\n",
    "Pr^{\\pi}(\\tau) &= d_0(s_0)\\pi(a_0|s_0)P(s_1|s_0,a_0)\\pi(a_1|s_1)P(s_2|s_1,a_1) \\dots \\tag{prob of a trajectory}\\\\\n",
    "Pr^{\\pi}(s_t = s) &= \\sum_{i=0}^{\\mid T\\mid} Pr(T[i] | T[i]_t=s) \\tag{sum over traj sharing $s_t$}\\\\\n",
    "d^{\\pi}(s) &= (1-\\gamma)\\sum_{t=0}^{\\infty} \\gamma^t Pr^{\\pi}(s =s_t) \\\\\n",
    "\\end{align}\n",
    "$$\n",
    "\n",
    "For a synchronous, finite state MDP, we can write this in terms of state vectors, $s$ and policy conditioned transtition matrices, $P_{\\pi}$. By using $p(s_{t+1}) = P_{\\pi}p(s_t)$\n",
    "\n",
    "$$\n",
    "\\begin{align}\n",
    "d^{\\pi}(s) &= (1-\\gamma)\\sum_{t=0}^{\\infty} \\gamma^t P_{\\pi}p(s) \\\\\n",
    "&= (1-\\gamma)(P_{\\pi}p(s) + yP_{\\pi}P_{\\pi}p(s) + yyP_{\\pi}P_{\\pi}P_{\\pi}p(s) + \\dots) \\\\\n",
    "&= (1-\\gamma)(P_{\\pi} + yP_{\\pi}P_{\\pi} + yyP_{\\pi}P_{\\pi}P_{\\pi} + \\dots )p(s) \\\\\n",
    "&= (1-\\gamma)(I - yP_{\\pi})^{-1} p(s) \\\\\n",
    "\\end{align}\n",
    "$$\n",
    "\n",
    "But this doesnt work when $\\pi$ is not constant?!\n",
    "\n",
    "$$\n",
    "\\begin{align}\n",
    "d^{\\pi}(s) &= (1-\\gamma)\\sum_{t=0}^{\\infty} \\gamma^t P_{\\pi(t)}p(s) \\\\\n",
    "&= (1-\\gamma)(P_{\\pi(0)}p(s) + yP_{\\pi(1)}P_{\\pi(0)}p(s) + yyP_{\\pi(2)}P_{\\pi(1)}P_{\\pi(0)}p(s) + \\dots) \\\\\n",
    "&= ??\n",
    "\\end{align}\n",
    "$$"
   ]
  },
  {
   "cell_type": "code",
   "execution_count": 14,
   "metadata": {},
   "outputs": [],
   "source": [
    "def state_visitation_distribution(M_pi, discount, d_0, P):\n",
    "    \"\"\"\n",
    "    Ps + yPPs + yyPPPs + yyyPPPPs ...\n",
    "    (P + yPP + yyPPP + yyyPPPP ... )s\n",
    "    (I - yP)^-1 s\n",
    "    \"\"\"\n",
    "    n = d_0.size\n",
    "    P_pi = np.dot(M_pi, P)\n",
    "    \n",
    "    # check we have been given normalised distributions\n",
    "    assert np.isclose(d_0/d_0.sum(), d_0).all()\n",
    "    assert np.isclose(P_pi/P_pi.sum(axis=1), P_pi).all()\n",
    "    \n",
    "    return (1-discount)*np.dot(np.linalg.inv(np.eye(n) - discount * P_pi), d_0)"
   ]
  },
  {
   "cell_type": "code",
   "execution_count": 15,
   "metadata": {},
   "outputs": [
    {
     "data": {
      "text/plain": [
       "array([[0.55765921],\n",
       "       [0.50996122]])"
      ]
     },
     "execution_count": 15,
     "metadata": {},
     "output_type": "execute_result"
    }
   ],
   "source": [
    "M_pi = generate_rnd_policy(n_states, n_actions)\n",
    "state_visitation_distribution(M_pi, 0.9, d0, P)"
   ]
  },
  {
   "cell_type": "code",
   "execution_count": 6,
   "metadata": {},
   "outputs": [
    {
     "ename": "LinAlgError",
     "evalue": "Last 2 dimensions of the array must be square",
     "output_type": "error",
     "traceback": [
      "\u001b[0;31m---------------------------------------------------------------------------\u001b[0m",
      "\u001b[0;31mLinAlgError\u001b[0m                               Traceback (most recent call last)",
      "\u001b[0;32m<ipython-input-6-e2490b97ae07>\u001b[0m in \u001b[0;36m<module>\u001b[0;34m\u001b[0m\n\u001b[1;32m      1\u001b[0m d_empirical = (1-0.9)*sum([np.dot((0.9**(i-1))*np.linalg.matrix_power(P, i), s) \n\u001b[0;32m----> 2\u001b[0;31m                    for i in range(1, 100000)])\n\u001b[0m\u001b[1;32m      3\u001b[0m \u001b[0md_empirical\u001b[0m\u001b[0;34m\u001b[0m\u001b[0;34m\u001b[0m\u001b[0m\n",
      "\u001b[0;32m<ipython-input-6-e2490b97ae07>\u001b[0m in \u001b[0;36m<listcomp>\u001b[0;34m(.0)\u001b[0m\n\u001b[1;32m      1\u001b[0m d_empirical = (1-0.9)*sum([np.dot((0.9**(i-1))*np.linalg.matrix_power(P, i), s) \n\u001b[0;32m----> 2\u001b[0;31m                    for i in range(1, 100000)])\n\u001b[0m\u001b[1;32m      3\u001b[0m \u001b[0md_empirical\u001b[0m\u001b[0;34m\u001b[0m\u001b[0;34m\u001b[0m\u001b[0m\n",
      "\u001b[0;32m~/anaconda3/envs/masters/lib/python3.7/site-packages/numpy/linalg/linalg.py\u001b[0m in \u001b[0;36mmatrix_power\u001b[0;34m(a, n)\u001b[0m\n\u001b[1;32m    624\u001b[0m     \u001b[0ma\u001b[0m \u001b[0;34m=\u001b[0m \u001b[0masanyarray\u001b[0m\u001b[0;34m(\u001b[0m\u001b[0ma\u001b[0m\u001b[0;34m)\u001b[0m\u001b[0;34m\u001b[0m\u001b[0;34m\u001b[0m\u001b[0m\n\u001b[1;32m    625\u001b[0m     \u001b[0m_assertRankAtLeast2\u001b[0m\u001b[0;34m(\u001b[0m\u001b[0ma\u001b[0m\u001b[0;34m)\u001b[0m\u001b[0;34m\u001b[0m\u001b[0;34m\u001b[0m\u001b[0m\n\u001b[0;32m--> 626\u001b[0;31m     \u001b[0m_assertNdSquareness\u001b[0m\u001b[0;34m(\u001b[0m\u001b[0ma\u001b[0m\u001b[0;34m)\u001b[0m\u001b[0;34m\u001b[0m\u001b[0;34m\u001b[0m\u001b[0m\n\u001b[0m\u001b[1;32m    627\u001b[0m \u001b[0;34m\u001b[0m\u001b[0m\n\u001b[1;32m    628\u001b[0m     \u001b[0;32mtry\u001b[0m\u001b[0;34m:\u001b[0m\u001b[0;34m\u001b[0m\u001b[0;34m\u001b[0m\u001b[0m\n",
      "\u001b[0;32m~/anaconda3/envs/masters/lib/python3.7/site-packages/numpy/linalg/linalg.py\u001b[0m in \u001b[0;36m_assertNdSquareness\u001b[0;34m(*arrays)\u001b[0m\n\u001b[1;32m    211\u001b[0m         \u001b[0mm\u001b[0m\u001b[0;34m,\u001b[0m \u001b[0mn\u001b[0m \u001b[0;34m=\u001b[0m \u001b[0ma\u001b[0m\u001b[0;34m.\u001b[0m\u001b[0mshape\u001b[0m\u001b[0;34m[\u001b[0m\u001b[0;34m-\u001b[0m\u001b[0;36m2\u001b[0m\u001b[0;34m:\u001b[0m\u001b[0;34m]\u001b[0m\u001b[0;34m\u001b[0m\u001b[0;34m\u001b[0m\u001b[0m\n\u001b[1;32m    212\u001b[0m         \u001b[0;32mif\u001b[0m \u001b[0mm\u001b[0m \u001b[0;34m!=\u001b[0m \u001b[0mn\u001b[0m\u001b[0;34m:\u001b[0m\u001b[0;34m\u001b[0m\u001b[0;34m\u001b[0m\u001b[0m\n\u001b[0;32m--> 213\u001b[0;31m             \u001b[0;32mraise\u001b[0m \u001b[0mLinAlgError\u001b[0m\u001b[0;34m(\u001b[0m\u001b[0;34m'Last 2 dimensions of the array must be square'\u001b[0m\u001b[0;34m)\u001b[0m\u001b[0;34m\u001b[0m\u001b[0;34m\u001b[0m\u001b[0m\n\u001b[0m\u001b[1;32m    214\u001b[0m \u001b[0;34m\u001b[0m\u001b[0m\n\u001b[1;32m    215\u001b[0m \u001b[0;32mdef\u001b[0m \u001b[0m_assertFinite\u001b[0m\u001b[0;34m(\u001b[0m\u001b[0;34m*\u001b[0m\u001b[0marrays\u001b[0m\u001b[0;34m)\u001b[0m\u001b[0;34m:\u001b[0m\u001b[0;34m\u001b[0m\u001b[0;34m\u001b[0m\u001b[0m\n",
      "\u001b[0;31mLinAlgError\u001b[0m: Last 2 dimensions of the array must be square"
     ]
    }
   ],
   "source": [
    "d_empirical = (1-0.9)*sum([np.dot((0.9**(i-1))*np.linalg.matrix_power(P, i), s) \n",
    "                   for i in range(1, 100000)])\n",
    "d_empirical"
   ]
  },
  {
   "cell_type": "code",
   "execution_count": null,
   "metadata": {},
   "outputs": [],
   "source": []
  },
  {
   "cell_type": "code",
   "execution_count": null,
   "metadata": {},
   "outputs": [],
   "source": [
    "def entropy(d):\n",
    "    b = d.size\n",
    "    return - np.sum(d * np.log(d) / np.log(b)) \n",
    "\n",
    "def max_entropy_exploration(ds_0t):\n",
    "    g = dH(ds_0t, M_pi)\n",
    "    return M_pi - lr * g"
   ]
  },
  {
   "cell_type": "code",
   "execution_count": null,
   "metadata": {},
   "outputs": [],
   "source": [
    "def count_based_exploration(ds_0t, P):\n",
    "    # pick a policy that chooses actions\n",
    "    # with high probabilty if they have not been visited frequently\n",
    "    # P(s' | s, a) . (1-d(s'))\n",
    "    return np.einsum(P, (1-ds_0t), 'ijk,i->jk')"
   ]
  },
  {
   "cell_type": "code",
   "execution_count": null,
   "metadata": {},
   "outputs": [],
   "source": [
    "def udb_exploration(ds_0t):\n",
    "    # the confidence in what!?\n",
    "    return "
   ]
  },
  {
   "cell_type": "code",
   "execution_count": 19,
   "metadata": {},
   "outputs": [
    {
     "data": {
      "text/plain": [
       "0.09355220951751211"
      ]
     },
     "execution_count": 19,
     "metadata": {},
     "output_type": "execute_result"
    }
   ],
   "source": [
    "d_0 = normalise(np.random.random((n_states, 1)), 0)\n",
    "M_pi = generate_rnd_policy(n_states, n_actions)\n",
    "P, r = generate_rnd_problem(n_states, n_actions)\n",
    "\n",
    "d_pi = discounted_state_visitation_distribution(d_0, M_pi, P)\n",
    "np.sum(d_pi)"
   ]
  },
  {
   "cell_type": "markdown",
   "metadata": {},
   "source": [
    "Neumann series\n",
    "\n",
    "$$\n",
    "(Id - T)^{-1} = \\sum_{k=0}^{\\infty} T^k \\\\\n",
    "$$"
   ]
  },
  {
   "cell_type": "code",
   "execution_count": 17,
   "metadata": {},
   "outputs": [
    {
     "data": {
      "text/plain": [
       "True"
      ]
     },
     "execution_count": 17,
     "metadata": {},
     "output_type": "execute_result"
    }
   ],
   "source": [
    "T = 0.9 * np.dot(M_pi, P)\n",
    "seq = sum([np.linalg.matrix_power(T, i) for i in range(1000)])\n",
    "inv = np.linalg.inv(np.eye(n_states) - T)\n",
    "np.isclose(seq, inv).all()"
   ]
  },
  {
   "cell_type": "code",
   "execution_count": 22,
   "metadata": {},
   "outputs": [
    {
     "data": {
      "text/plain": [
       "array([[0.68985908, 0.31014092],\n",
       "       [0.68985908, 0.31014092]])"
      ]
     },
     "execution_count": 22,
     "metadata": {},
     "output_type": "execute_result"
    }
   ],
   "source": [
    "M = np.dot(M_pi, P)\n",
    "np.linalg.matrix_power(M, 1000)"
   ]
  },
  {
   "cell_type": "code",
   "execution_count": 38,
   "metadata": {},
   "outputs": [
    {
     "data": {
      "text/plain": [
       "array([-0.80563312, -0.62836267])"
      ]
     },
     "execution_count": 38,
     "metadata": {},
     "output_type": "execute_result"
    }
   ],
   "source": [
    "u, s, v = np.linalg.svd(M)\n",
    "u[:,0]*s[0]\n",
    "# u[1]*s[1]"
   ]
  },
  {
   "cell_type": "code",
   "execution_count": 36,
   "metadata": {},
   "outputs": [
    {
     "name": "stdout",
     "output_type": "stream",
     "text": [
      "Help on function svd in module numpy.linalg.linalg:\n",
      "\n",
      "svd(a, full_matrices=True, compute_uv=True)\n",
      "    Singular Value Decomposition.\n",
      "    \n",
      "    When `a` is a 2D array, it is factorized as ``u @ np.diag(s) @ vh\n",
      "    = (u * s) @ vh``, where `u` and `vh` are 2D unitary arrays and `s` is a 1D\n",
      "    array of `a`'s singular values. When `a` is higher-dimensional, SVD is\n",
      "    applied in stacked mode as explained below.\n",
      "    \n",
      "    Parameters\n",
      "    ----------\n",
      "    a : (..., M, N) array_like\n",
      "        A real or complex array with ``a.ndim >= 2``.\n",
      "    full_matrices : bool, optional\n",
      "        If True (default), `u` and `vh` have the shapes ``(..., M, M)`` and\n",
      "        ``(..., N, N)``, respectively.  Otherwise, the shapes are\n",
      "        ``(..., M, K)`` and ``(..., K, N)``, respectively, where\n",
      "        ``K = min(M, N)``.\n",
      "    compute_uv : bool, optional\n",
      "        Whether or not to compute `u` and `vh` in addition to `s`.  True\n",
      "        by default.\n",
      "    \n",
      "    Returns\n",
      "    -------\n",
      "    u : { (..., M, M), (..., M, K) } array\n",
      "        Unitary array(s). The first ``a.ndim - 2`` dimensions have the same\n",
      "        size as those of the input `a`. The size of the last two dimensions\n",
      "        depends on the value of `full_matrices`. Only returned when\n",
      "        `compute_uv` is True.\n",
      "    s : (..., K) array\n",
      "        Vector(s) with the singular values, within each vector sorted in\n",
      "        descending order. The first ``a.ndim - 2`` dimensions have the same\n",
      "        size as those of the input `a`.\n",
      "    vh : { (..., N, N), (..., K, N) } array\n",
      "        Unitary array(s). The first ``a.ndim - 2`` dimensions have the same\n",
      "        size as those of the input `a`. The size of the last two dimensions\n",
      "        depends on the value of `full_matrices`. Only returned when\n",
      "        `compute_uv` is True.\n",
      "    \n",
      "    Raises\n",
      "    ------\n",
      "    LinAlgError\n",
      "        If SVD computation does not converge.\n",
      "    \n",
      "    Notes\n",
      "    -----\n",
      "    \n",
      "    .. versionchanged:: 1.8.0\n",
      "       Broadcasting rules apply, see the `numpy.linalg` documentation for\n",
      "       details.\n",
      "    \n",
      "    The decomposition is performed using LAPACK routine ``_gesdd``.\n",
      "    \n",
      "    SVD is usually described for the factorization of a 2D matrix :math:`A`.\n",
      "    The higher-dimensional case will be discussed below. In the 2D case, SVD is\n",
      "    written as :math:`A = U S V^H`, where :math:`A = a`, :math:`U= u`,\n",
      "    :math:`S= \\mathtt{np.diag}(s)` and :math:`V^H = vh`. The 1D array `s`\n",
      "    contains the singular values of `a` and `u` and `vh` are unitary. The rows\n",
      "    of `vh` are the eigenvectors of :math:`A^H A` and the columns of `u` are\n",
      "    the eigenvectors of :math:`A A^H`. In both cases the corresponding\n",
      "    (possibly non-zero) eigenvalues are given by ``s**2``.\n",
      "    \n",
      "    If `a` has more than two dimensions, then broadcasting rules apply, as\n",
      "    explained in :ref:`routines.linalg-broadcasting`. This means that SVD is\n",
      "    working in \"stacked\" mode: it iterates over all indices of the first\n",
      "    ``a.ndim - 2`` dimensions and for each combination SVD is applied to the\n",
      "    last two indices. The matrix `a` can be reconstructed from the\n",
      "    decomposition with either ``(u * s[..., None, :]) @ vh`` or\n",
      "    ``u @ (s[..., None] * vh)``. (The ``@`` operator can be replaced by the\n",
      "    function ``np.matmul`` for python versions below 3.5.)\n",
      "    \n",
      "    If `a` is a ``matrix`` object (as opposed to an ``ndarray``), then so are\n",
      "    all the return values.\n",
      "    \n",
      "    Examples\n",
      "    --------\n",
      "    >>> a = np.random.randn(9, 6) + 1j*np.random.randn(9, 6)\n",
      "    >>> b = np.random.randn(2, 7, 8, 3) + 1j*np.random.randn(2, 7, 8, 3)\n",
      "    \n",
      "    Reconstruction based on full SVD, 2D case:\n",
      "    \n",
      "    >>> u, s, vh = np.linalg.svd(a, full_matrices=True)\n",
      "    >>> u.shape, s.shape, vh.shape\n",
      "    ((9, 9), (6,), (6, 6))\n",
      "    >>> np.allclose(a, np.dot(u[:, :6] * s, vh))\n",
      "    True\n",
      "    >>> smat = np.zeros((9, 6), dtype=complex)\n",
      "    >>> smat[:6, :6] = np.diag(s)\n",
      "    >>> np.allclose(a, np.dot(u, np.dot(smat, vh)))\n",
      "    True\n",
      "    \n",
      "    Reconstruction based on reduced SVD, 2D case:\n",
      "    \n",
      "    >>> u, s, vh = np.linalg.svd(a, full_matrices=False)\n",
      "    >>> u.shape, s.shape, vh.shape\n",
      "    ((9, 6), (6,), (6, 6))\n",
      "    >>> np.allclose(a, np.dot(u * s, vh))\n",
      "    True\n",
      "    >>> smat = np.diag(s)\n",
      "    >>> np.allclose(a, np.dot(u, np.dot(smat, vh)))\n",
      "    True\n",
      "    \n",
      "    Reconstruction based on full SVD, 4D case:\n",
      "    \n",
      "    >>> u, s, vh = np.linalg.svd(b, full_matrices=True)\n",
      "    >>> u.shape, s.shape, vh.shape\n",
      "    ((2, 7, 8, 8), (2, 7, 3), (2, 7, 3, 3))\n",
      "    >>> np.allclose(b, np.matmul(u[..., :3] * s[..., None, :], vh))\n",
      "    True\n",
      "    >>> np.allclose(b, np.matmul(u[..., :3], s[..., None] * vh))\n",
      "    True\n",
      "    \n",
      "    Reconstruction based on reduced SVD, 4D case:\n",
      "    \n",
      "    >>> u, s, vh = np.linalg.svd(b, full_matrices=False)\n",
      "    >>> u.shape, s.shape, vh.shape\n",
      "    ((2, 7, 8, 3), (2, 7, 3), (2, 7, 3, 3))\n",
      "    >>> np.allclose(b, np.matmul(u * s[..., None, :], vh))\n",
      "    True\n",
      "    >>> np.allclose(b, np.matmul(u, s[..., None] * vh))\n",
      "    True\n",
      "\n"
     ]
    }
   ],
   "source": [
    "help(np.linalg.svd)"
   ]
  },
  {
   "cell_type": "code",
   "execution_count": null,
   "metadata": {},
   "outputs": [],
   "source": []
  }
 ],
 "metadata": {
  "kernelspec": {
   "display_name": "Python 3",
   "language": "python",
   "name": "python3"
  },
  "language_info": {
   "codemirror_mode": {
    "name": "ipython",
    "version": 3
   },
   "file_extension": ".py",
   "mimetype": "text/x-python",
   "name": "python",
   "nbconvert_exporter": "python",
   "pygments_lexer": "ipython3",
   "version": "3.7.3"
  }
 },
 "nbformat": 4,
 "nbformat_minor": 2
}
