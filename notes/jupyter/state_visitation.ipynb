{
 "cells": [
  {
   "cell_type": "code",
   "execution_count": 1,
   "metadata": {},
   "outputs": [],
   "source": [
    "import numpy as np"
   ]
  },
  {
   "cell_type": "code",
   "execution_count": 2,
   "metadata": {},
   "outputs": [],
   "source": [
    "n = 10\n",
    "P = np.abs(np.random.standard_normal((n,n)))\n",
    "P = P/P.sum(axis=0)\n",
    "# eig <= 1"
   ]
  },
  {
   "cell_type": "code",
   "execution_count": 3,
   "metadata": {},
   "outputs": [
    {
     "data": {
      "text/plain": [
       "array([1.01005746, 0.43543193, 0.3719264 , 0.30972128, 0.28689935,\n",
       "       0.22216912, 0.20360059, 0.16879595, 0.06406778, 0.02268558])"
      ]
     },
     "execution_count": 3,
     "metadata": {},
     "output_type": "execute_result"
    }
   ],
   "source": [
    "u, s, vt = np.linalg.svd(P)\n",
    "s"
   ]
  },
  {
   "cell_type": "code",
   "execution_count": 4,
   "metadata": {},
   "outputs": [
    {
     "data": {
      "text/plain": [
       "array([0.90905171, 0.39188874, 0.33473376, 0.27874915, 0.25820942,\n",
       "       0.19995221, 0.18324053, 0.15191636, 0.05766101, 0.02041702])"
      ]
     },
     "execution_count": 4,
     "metadata": {},
     "output_type": "execute_result"
    }
   ],
   "source": [
    "u, s, vt = np.linalg.svd(0.9*P)\n",
    "s"
   ]
  },
  {
   "cell_type": "code",
   "execution_count": 5,
   "metadata": {},
   "outputs": [
    {
     "data": {
      "text/plain": [
       "array([1., 1., 1., 1., 1., 1., 1., 1., 1., 1.])"
      ]
     },
     "execution_count": 5,
     "metadata": {},
     "output_type": "execute_result"
    }
   ],
   "source": [
    "_, s, _ = np.linalg.svd(u)\n",
    "s"
   ]
  },
  {
   "cell_type": "code",
   "execution_count": null,
   "metadata": {},
   "outputs": [],
   "source": []
  },
  {
   "cell_type": "code",
   "execution_count": 6,
   "metadata": {},
   "outputs": [
    {
     "data": {
      "text/plain": [
       "array([ 0.,  0.,  0.,  0.,  0.,  0.,  0.,  0., -0., -0.])"
      ]
     },
     "execution_count": 6,
     "metadata": {},
     "output_type": "execute_result"
    }
   ],
   "source": [
    "np.linalg.solve(np.eye(n) - P, np.zeros(n))"
   ]
  },
  {
   "cell_type": "code",
   "execution_count": 7,
   "metadata": {},
   "outputs": [],
   "source": [
    "# s = Ps\n",
    "# s - Ps = 0\n",
    "# (I - P)s = 0"
   ]
  },
  {
   "cell_type": "code",
   "execution_count": 13,
   "metadata": {},
   "outputs": [],
   "source": [
    "s = np.random.random(n)\n",
    "s = s / s.sum()"
   ]
  },
  {
   "cell_type": "code",
   "execution_count": 23,
   "metadata": {},
   "outputs": [],
   "source": [
    "def state_visitation_distribution(M_pi, discount, d_0, P):\n",
    "    # Ps + yPPs + yyPPPs + yyyPPPPs ...\n",
    "    # (P + yPP + yyPPP + yyyPPPP ... )s\n",
    "    # (I - yP)^-1 s\n",
    "    \n",
    "    n = d_0.size\n",
    "    P_pi = np.dot(M_pi, P)\n",
    "    \n",
    "    # check we have been given normalised distributions\n",
    "    assert np.isclose(d_0/d_0.sum(), d_0).all()\n",
    "    assert np.isclose(P_pi/P_pi.sum(0), P_pi).all()\n",
    "    \n",
    "    return (1-discount)*np.dot(np.linalg.inv(np.eye(n) - discount * P_pi), d_0)"
   ]
  },
  {
   "cell_type": "code",
   "execution_count": 24,
   "metadata": {},
   "outputs": [],
   "source": [
    "def entropy(d):\n",
    "    b = d.size\n",
    "    return - np.sum(d * np.log(d) / np.log(b)) \n",
    "\n",
    "def max_entropy_exploration(ds_0t):\n",
    "    g = dH(ds_0t, M_pi)\n",
    "    return M_pi - lr * g"
   ]
  },
  {
   "cell_type": "code",
   "execution_count": null,
   "metadata": {},
   "outputs": [],
   "source": [
    "def count_based_exploration(ds_0t, P):\n",
    "    # pick a policy that chooses actions\n",
    "    # with high probabilty if they have not been visited frequently\n",
    "    # P(s' | s, a) . (1-d(s'))\n",
    "    return np.einsum(P, (1-ds_0t), 'ijk,i->jk')"
   ]
  },
  {
   "cell_type": "code",
   "execution_count": null,
   "metadata": {},
   "outputs": [],
   "source": [
    "def udb_exploration(ds_0t):\n",
    "    # the confidence in what!?\n",
    "    return "
   ]
  },
  {
   "cell_type": "code",
   "execution_count": null,
   "metadata": {},
   "outputs": [],
   "source": []
  },
  {
   "cell_type": "code",
   "execution_count": null,
   "metadata": {},
   "outputs": [],
   "source": []
  },
  {
   "cell_type": "code",
   "execution_count": 15,
   "metadata": {},
   "outputs": [
    {
     "data": {
      "text/plain": [
       "array([0.08550294, 0.09573569, 0.11021839, 0.12092368, 0.08210548,\n",
       "       0.0834563 , 0.11916286, 0.10651392, 0.08473119, 0.11164954])"
      ]
     },
     "execution_count": 15,
     "metadata": {},
     "output_type": "execute_result"
    }
   ],
   "source": [
    "d_empirical = (1-0.9)*sum([np.dot((0.9**(i-1))*np.linalg.matrix_power(P, i), s) \n",
    "                   for i in range(1, 100000)])\n",
    "d_empirical"
   ]
  },
  {
   "cell_type": "code",
   "execution_count": 16,
   "metadata": {},
   "outputs": [
    {
     "data": {
      "text/plain": [
       "array([-0.00182639, -0.00077783, -0.00948273, -0.00204928, -0.00200989,\n",
       "       -0.00234924, -0.00030575,  0.00174053,  0.01509885,  0.00196174])"
      ]
     },
     "execution_count": 16,
     "metadata": {},
     "output_type": "execute_result"
    }
   ],
   "source": [
    "d_analytic - d_empirical"
   ]
  },
  {
   "cell_type": "code",
   "execution_count": 19,
   "metadata": {},
   "outputs": [
    {
     "data": {
      "text/plain": [
       "array([0.08367655, 0.09495786, 0.10073565, 0.1188744 , 0.08009559,\n",
       "       0.08110706, 0.11885711, 0.10825445, 0.09983004, 0.11361129])"
      ]
     },
     "execution_count": 19,
     "metadata": {},
     "output_type": "execute_result"
    }
   ],
   "source": [
    "d_analytic"
   ]
  }
 ],
 "metadata": {
  "kernelspec": {
   "display_name": "Python 3",
   "language": "python",
   "name": "python3"
  },
  "language_info": {
   "codemirror_mode": {
    "name": "ipython",
    "version": 3
   },
   "file_extension": ".py",
   "mimetype": "text/x-python",
   "name": "python",
   "nbconvert_exporter": "python",
   "pygments_lexer": "ipython3",
   "version": "3.7.3"
  }
 },
 "nbformat": 4,
 "nbformat_minor": 2
}
