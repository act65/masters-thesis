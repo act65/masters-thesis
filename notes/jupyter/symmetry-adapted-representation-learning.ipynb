{
 "cells": [
  {
   "cell_type": "code",
   "execution_count": 2,
   "metadata": {},
   "outputs": [],
   "source": [
    "import numpy as np\n",
    "import matplotlib.pyplot as plt"
   ]
  },
  {
   "cell_type": "code",
   "execution_count": 3,
   "metadata": {},
   "outputs": [],
   "source": [
    "# 90 degree rotation group.\n",
    "# + mod 4.\n",
    "G = [\n",
    "    np.array([[1, 0], \n",
    "              [0, 1]]),\n",
    "    np.array([[0, 1], \n",
    "              [-1, 0]]),\n",
    "    np.array([[-1, 0], \n",
    "              [0, -1]]),\n",
    "    np.array([[0, -1], \n",
    "              [1, 0]]),\n",
    "]"
   ]
  },
  {
   "cell_type": "code",
   "execution_count": 12,
   "metadata": {},
   "outputs": [
    {
     "data": {
      "image/png": "[encoded data removed]",
      "text/plain": [
       "<Figure size 432x288 with 1 Axes>"
      ]
     },
     "metadata": {
      "needs_background": "light"
     },
     "output_type": "display_data"
    }
   ],
   "source": [
    "x = np.hstack([np.dot(g, np.array([[1],[1]])) for g in G])\n",
    "plt.scatter(x[0,:], x[1,:])\n",
    "plt.scatter(0,0)\n",
    "plt.grid()"
   ]
  },
  {
   "cell_type": "code",
   "execution_count": 13,
   "metadata": {},
   "outputs": [
    {
     "data": {
      "text/plain": [
       "True"
      ]
     },
     "execution_count": 13,
     "metadata": {},
     "output_type": "execute_result"
    }
   ],
   "source": [
    "def is_closed(G):\n",
    "    for i in range(len(G)):\n",
    "        for j in range(len(G)):\n",
    "            # for each possible combination of group elements\n",
    "            k = np.dot(G[i], G[j])\n",
    "            # does their combination result in another element in the group?\n",
    "            closed = bool(sum([np.equal(k, g).all() for g in G]))\n",
    "            if not closed:\n",
    "                return False\n",
    "    return True\n",
    "\n",
    "is_closed(G)"
   ]
  },
  {
   "cell_type": "code",
   "execution_count": 25,
   "metadata": {},
   "outputs": [],
   "source": [
    "def orbit(x, G):\n",
    "    \"\"\"\n",
    "    Args:\n",
    "        x (np.array): x.shape = [B, D]\n",
    "        G (list): a representation of the group in GL(D). len(G) = n\n",
    "        \n",
    "    Returns:\n",
    "        (np.array): [B x n, D]\n",
    "    \"\"\"\n",
    "    return np.stack([np.dot(g, x.T) for g in G]).T"
   ]
  },
  {
   "cell_type": "code",
   "execution_count": 26,
   "metadata": {},
   "outputs": [
    {
     "data": {
      "text/plain": [
       "(1000, 2, 4)"
      ]
     },
     "execution_count": 26,
     "metadata": {},
     "output_type": "execute_result"
    }
   ],
   "source": [
    "x = np.random.standard_normal((1000, 2))\n",
    "orbit(x, G).shape"
   ]
  },
  {
   "cell_type": "code",
   "execution_count": 53,
   "metadata": {},
   "outputs": [],
   "source": [
    "def nonlin(z, a):\n",
    "    return 1/(1+np.exp(z-a))\n",
    "\n",
    "def construct_weights(T, G):\n",
    "    \"\"\"\n",
    "    Args:\n",
    "        T (np.array): each row is a basis point. Q of them\n",
    "        G (list): a list of representations in GL(d)\n",
    "        \n",
    "    Returns:\n",
    "        W (np.array): [|T| x d x |G|]\n",
    "    \"\"\"\n",
    "    return np.stack([orbit(t, G) for t in T])\n",
    "\n",
    "def fn(W, x, n_a=10):\n",
    "    \"\"\"\n",
    "    Args:\n",
    "        W (np.array): [|T| x d x |G|]\n",
    "        x (np.array): [B, d] the input datapoints\n",
    "        \n",
    "    Returns:\n",
    "        (np.array): [B, |T|, n_a]\n",
    "    \"\"\"\n",
    "    # [N(T) x num_dims x num_group] . [batch x num_dims] -> [batch x N(T)]\n",
    "    h = np.einsum('ijk,lj->li', W, x)\n",
    "    # batch x T x n_a\n",
    "    y = np.stack([nonlin(h, a) for a in np.linspace(-3, 3, n_a)], axis=-1)\n",
    "    return y"
   ]
  },
  {
   "cell_type": "code",
   "execution_count": 56,
   "metadata": {},
   "outputs": [
    {
     "name": "stdout",
     "output_type": "stream",
     "text": [
      "(20, 100, 10)\n"
     ]
    }
   ],
   "source": [
    "x = np.random.standard_normal((1000, 2))\n",
    "T = x[0:100, :]\n",
    "W = construct_weights(T, G)\n",
    "y = fn(W, x[-20:,:])\n",
    "print(y.shape)"
   ]
  },
  {
   "cell_type": "code",
   "execution_count": 344,
   "metadata": {},
   "outputs": [],
   "source": [
    "def delta(x):\n",
    "    z = np.equal(x, np.zeros_like(x)).astype(np.float32)\n",
    "    return z  # np.abs(1-z)\n",
    "\n",
    "def make_pairwise_diffs(d):\n",
    "    n = (d**2) * ((d**2) - 1) // 2\n",
    "    C = np.zeros((n, d**2))\n",
    "    tau = np.zeros((n,))\n",
    "    count = 0\n",
    "    for i in range(d**2):\n",
    "        for j in range(d**2):\n",
    "            if i < j:\n",
    "                C[count, :] = np.eye(d**2)[i] - np.eye(d**2)[j]\n",
    "                I = i % d\n",
    "                J = j % d\n",
    "                tau[count] = d*delta(I-J) - 1\n",
    "                count += 1\n",
    "                                \n",
    "    assert n == count\n",
    "    return C,  tau\n",
    "\n",
    "def permuted_columns(M):\n",
    "    \"\"\"\n",
    "    Want to check that the representation has group structure.\n",
    "    That it is closed!?!\n",
    "    Want a differentiable regulariser.\n",
    "    \n",
    "    Args:\n",
    "        M (np.array): shape = (d, d)\n",
    "        \n",
    "    Returns:\n",
    "        (float): the 'soft' (??) measure of row permutation invariance\n",
    "    \"\"\"\n",
    "    d = M.shape[0]\n",
    "#     C, tau = make_pairwise_diffs(d)\n",
    "#     vecM = np.reshape(M, -1)\n",
    "#     return np.dot(tau.T, delta(np.dot(C, vecM)))\n",
    "\n",
    "    # TODO this is v slow\n",
    "    return np.sum([(d*delta(i-j) - 1) * delta(M[k, i] - M[l, j]) \n",
    "                  for i in range(d)\n",
    "                  for j in range(d)\n",
    "                  for k in range(d)\n",
    "                  for l in range(d)])"
   ]
  },
  {
   "cell_type": "code",
   "execution_count": 386,
   "metadata": {},
   "outputs": [
    {
     "name": "stdout",
     "output_type": "stream",
     "text": [
      "48.0\n",
      "36.0\n",
      "0.0\n"
     ]
    }
   ],
   "source": [
    "W = np.random.standard_normal((4,4))\n",
    "print(permuted_columns(W))\n",
    "\n",
    "\n",
    "W = np.random.standard_normal((2,4))\n",
    "print(permuted_columns(np.dot(W.T, W)))\n",
    "\n",
    "M = np.array([\n",
    "    [0, 1, 2],\n",
    "    [1, 2, 0],\n",
    "    [2, 0, 1]\n",
    "])\n",
    "print(permuted_columns(M))\n",
    "# these dont change with rnd inits...?!?"
   ]
  },
  {
   "cell_type": "code",
   "execution_count": 413,
   "metadata": {},
   "outputs": [],
   "source": [
    "# calc the inter distance\n",
    "xs = np.random.standard_normal((10, 2))\n",
    "\n",
    "#calc the intra distance\n",
    "y_intra = fn(T, G, xs)\n",
    "d_intra = permuted_columns(y_intra)\n",
    "\n",
    "zs = np.stack([orbit(xs[i:i+1, :], G) for i in range(xs.shape[0])], axis=0)\n",
    "y_inters = np.stack([fn(T, G, zs[i]) for i in range(xs.shape[0])], axis=0)\n",
    "\n",
    "# should be invariant to the group now!?\n",
    "d_inter = np.stack([permuted_columns(y_inters[i]) for i in range(xs.shape[0])], axis=0)"
   ]
  },
  {
   "cell_type": "code",
   "execution_count": 414,
   "metadata": {},
   "outputs": [
    {
     "data": {
      "text/plain": [
       "(900.0, array([ 96., 192., 108., 126., 156., 174., 138., 126., 168., 132.]))"
      ]
     },
     "execution_count": 414,
     "metadata": {},
     "output_type": "execute_result"
    }
   ],
   "source": [
    "d_intra, d_inter\n",
    "# BUG d_inter should be zero tho?!?"
   ]
  },
  {
   "cell_type": "code",
   "execution_count": 415,
   "metadata": {},
   "outputs": [
    {
     "data": {
      "text/plain": [
       "<matplotlib.collections.PathCollection at 0x7fad54d70588>"
      ]
     },
     "execution_count": 415,
     "metadata": {},
     "output_type": "execute_result"
    },
    {
     "data": {
      "image/png": "[encoded data removed]",
      "text/plain": [
       "<Figure size 432x288 with 1 Axes>"
      ]
     },
     "metadata": {
      "needs_background": "light"
     },
     "output_type": "display_data"
    }
   ],
   "source": [
    "# rnd projection down to 2d.\n",
    "P = np.random.standard_normal((1000, 2))\n",
    "p1 = np.dot(y1, P)/1000\n",
    "p2 = np.dot(y2, P)/1000\n",
    "\n",
    "plt.scatter(p1[:, 0], p1[:, 1])\n",
    "plt.scatter(p2[:, 0], p2[:, 1])"
   ]
  },
  {
   "cell_type": "code",
   "execution_count": 385,
   "metadata": {},
   "outputs": [
    {
     "data": {
      "image/png": "[encoded data removed]",
      "text/plain": [
       "<Figure size 432x288 with 1 Axes>"
      ]
     },
     "metadata": {
      "needs_background": "light"
     },
     "output_type": "display_data"
    }
   ],
   "source": [
    "plt.scatter(z[:, 0], z[:, 1])\n",
    "plt.grid()\n",
    "\n",
    "plt.scatter(T[:, 0], T[:, 1])\n",
    "plt.grid()"
   ]
  },
  {
   "cell_type": "code",
   "execution_count": null,
   "metadata": {},
   "outputs": [],
   "source": []
  },
  {
   "cell_type": "code",
   "execution_count": null,
   "metadata": {},
   "outputs": [],
   "source": []
  },
  {
   "cell_type": "code",
   "execution_count": 18,
   "metadata": {},
   "outputs": [],
   "source": [
    "def commutator(A, B):\n",
    "    \"\"\"\n",
    "    Want more intuition about this.\n",
    "    When does this equal zero? For what type of matrix?\n",
    "    Ones that share eigenspaces. But what does that mean...?\n",
    "    \"\"\"\n",
    "    return np.dot(A, B) - np.dot(B, A)"
   ]
  },
  {
   "cell_type": "code",
   "execution_count": 28,
   "metadata": {},
   "outputs": [
    {
     "name": "stdout",
     "output_type": "stream",
     "text": [
      "True\n"
     ]
    }
   ],
   "source": [
    "A = np.random.standard_normal((4,4))\n",
    "\n",
    "# make another matrix with the same engienspace\n",
    "U, S, Vt = np.linalg.svd(A)\n",
    "B = np.dot(np.dot(U, np.diag(2*S)), Vt)\n",
    "\n",
    "r = commutator(A, B)\n",
    "print(np.isclose(r, np.zeros_like(r)).all())"
   ]
  },
  {
   "cell_type": "code",
   "execution_count": 35,
   "metadata": {},
   "outputs": [
    {
     "name": "stdout",
     "output_type": "stream",
     "text": [
      "True\n"
     ]
    }
   ],
   "source": [
    "A = np.random.standard_normal((4,4))\n",
    "noise = 0.00000000001*np.random.standard_normal((4,4))\n",
    "# a small amount of noise pushes it away from being zero\n",
    "\n",
    "# make another matrix with approximately the same engienspace\n",
    "U, S, Vt = np.linalg.svd(A)\n",
    "B = np.dot(np.dot(U+noise, np.diag(S)), Vt)\n",
    "\n",
    "r = commutator(A, B)\n",
    "print(np.isclose(r, np.zeros_like(r)).all())"
   ]
  },
  {
   "cell_type": "code",
   "execution_count": 36,
   "metadata": {},
   "outputs": [
    {
     "name": "stdout",
     "output_type": "stream",
     "text": [
      "False\n"
     ]
    }
   ],
   "source": [
    "A = np.random.standard_normal((4,4))\n",
    "B = np.random.standard_normal((4,4))\n",
    "\n",
    "r = commutator(A, B)\n",
    "print(np.isclose(r, np.zeros_like(r)).all())"
   ]
  },
  {
   "cell_type": "code",
   "execution_count": null,
   "metadata": {},
   "outputs": [],
   "source": []
  }
 ],
 "metadata": {
  "kernelspec": {
   "display_name": "Python 3",
   "language": "python",
   "name": "python3"
  },
  "language_info": {
   "codemirror_mode": {
    "name": "ipython",
    "version": 3
   },
   "file_extension": ".py",
   "mimetype": "text/x-python",
   "name": "python",
   "nbconvert_exporter": "python",
   "pygments_lexer": "ipython3",
   "version": "3.6.7"
  }
 },
 "nbformat": 4,
 "nbformat_minor": 2
}
