{
 "cells": [
  {
   "cell_type": "code",
   "execution_count": 1,
   "metadata": {},
   "outputs": [],
   "source": [
    "import numpy as np\n",
    "import itertools\n",
    "import matplotlib.pyplot as plt"
   ]
  },
  {
   "cell_type": "code",
   "execution_count": 2,
   "metadata": {},
   "outputs": [],
   "source": [
    "# utils\n",
    "def onehot(idx, N): # hacky. i know...\n",
    "    return np.eye(N)[idx]\n",
    "\n",
    "def softmax(x):\n",
    "    return np.exp(x)/np.sum(np.exp(x))\n",
    "\n",
    "def sample(x, logits):\n",
    "    # or could use gumbel trick\n",
    "    p = softmax(logits)\n",
    "    return np.random.choice(x, p=p)"
   ]
  },
  {
   "cell_type": "code",
   "execution_count": 3,
   "metadata": {},
   "outputs": [],
   "source": [
    "class Env():\n",
    "    def __init__(self, n_states, n_actions):\n",
    "        \"\"\"\n",
    "        Args:\n",
    "            n_states (int): the number of states\n",
    "            n_actions (int): the number of action\n",
    "        \"\"\"\n",
    "        self.n_states = n_states\n",
    "        \n",
    "        self.S = np.arange(n_states)\n",
    "        self.A = np.arange(n_actions)\n",
    "        \n",
    "\n",
    "        # each action move from state(i) to state(j) with probability close to 1.\n",
    "        # BUG nope. softmax doesnt do this. will need to set to -infty\n",
    "        self.P = 20*np.stack([np.random.permutation(np.eye(n_states, dtype=np.float32)) for _ in range(n_actions-1)] + [np.eye(n_states, dtype=np.float32)],axis=0)  \n",
    "        # NOTE this graph might be disconnected. but is unlikely!?\n",
    "\n",
    "        # reward is only a fn of the current state - shape = [n_states]\n",
    "        # also. is sparse.\n",
    "        self.R = onehot(np.random.randint(0, n_states), n_states)\n",
    "\n",
    "    def step(self, state, action):\n",
    "        \"\"\"\n",
    "        A tabular, probabilistic step function. \n",
    "\n",
    "        Args:\n",
    "            state (int): An element of S. The current state\n",
    "            state (int): An element of A. The action to be taken\n",
    "\n",
    "        Returns:\n",
    "            new_state (int): An element of S.\n",
    "        \"\"\"\n",
    "        # step by selecting relevant transition matrix and applying\n",
    "        logits = np.matmul(self.P[action, ...], onehot(state, self.n_states))\n",
    "        # convert to a distribution and sample\n",
    "        new_s = np.random.choice(self.S, p=softmax(logits))\n",
    "        return new_s, self.R[new_s]\n",
    "    \n",
    "    def rnd_policy(self, s, *args):\n",
    "        return np.random.choice(self.A)\n",
    "    \n",
    "    def reset(self):\n",
    "        return np.random.choice(self.S)\n",
    "\n",
    "    def new_task(self):\n",
    "        self.R = onehot(np.random.randint(0, self.n_states), self.n_states)"
   ]
  },
  {
   "cell_type": "code",
   "execution_count": 4,
   "metadata": {},
   "outputs": [],
   "source": [
    "env = Env(5,3)"
   ]
  },
  {
   "cell_type": "code",
   "execution_count": 105,
   "metadata": {},
   "outputs": [],
   "source": [
    "class MultiStepMDP():\n",
    "    def __init__(self, mdp, k):\n",
    "        self.k = k\n",
    "        self.mdp = mdp\n",
    "        \n",
    "        self.S = mdp.S\n",
    "        self.A = list(itertools.product(*[mdp.A for _ in range(k)]))\n",
    "        \n",
    "    def step(self, state, action):\n",
    "        assert len(self.A[action]) == self.k\n",
    "        r = 0\n",
    "        states = []\n",
    "        for a in self.A[action]:\n",
    "            state, r = self.mdp.step(state, a)\n",
    "            r += r\n",
    "            states.append((state, a))\n",
    "        return states[-1][0], r, states\n",
    "    \n",
    "    def reset(self):\n",
    "        return self.mdp.reset()\n",
    "    \n",
    "    def rnd_policy(self, s, *args):\n",
    "        return np.random.choice(range(len(self.A)))"
   ]
  },
  {
   "cell_type": "code",
   "execution_count": 96,
   "metadata": {},
   "outputs": [],
   "source": [
    "class TabularSARSA():\n",
    "    def __init__(self, n_states, n_actions):\n",
    "        self.n_states = n_states\n",
    "        self.n_actions = n_actions\n",
    "        \n",
    "        self.gamma = 0.999\n",
    "        self.lr = 0.1\n",
    "\n",
    "        self.qs = np.zeros([n_states, n_actions])\n",
    "        \n",
    "        self.old_s = None\n",
    "        self.old_a = None\n",
    "        self.old_r = None\n",
    "    \n",
    "    def __call__(self, s, r):\n",
    "        a = sample(np.arange(self.n_actions), self.qs[s, ...])\n",
    "        # should change to epsilon greedy or entropy regularised\n",
    "        \n",
    "        if self.old_s is not None:\n",
    "            self.train_step(self.old_s, self.old_a, r, s, a)\n",
    "                \n",
    "        # loop past observations so we can use them for training\n",
    "        self.old_s = s\n",
    "        self.old_a = a\n",
    "                \n",
    "        return a\n",
    "    \n",
    "    def train_step(self, old_s, old_a, old_r, s, a):\n",
    "        target = (old_r + self.gamma*self.qs[s, a])  # bootstrap off next step. TD!\n",
    "        delta =  target - self.qs[old_s, old_a]\n",
    "        self.qs[old_s, old_a] += self.lr * delta  # incremental update. exp avg/GD!\n",
    "        self.qs -= 1e-4 * self.qs  # entropy regularisation"
   ]
  },
  {
   "cell_type": "code",
   "execution_count": 101,
   "metadata": {},
   "outputs": [],
   "source": [
    "def play_episode(env, player, len_episode, return_visited_state_actions=False):\n",
    "    # reset\n",
    "    s = env.reset()\n",
    "    total_r = 0\n",
    "    r = 0\n",
    "    \n",
    "    visited_state_actions = []\n",
    "    \n",
    "    # play an episode\n",
    "    for _ in range(len_episode):\n",
    "        a = player(s, r)\n",
    "        s, r, ss = env.step(s, a)\n",
    "        total_r += r\n",
    "        \n",
    "        visited_state_actions += ss\n",
    "        \n",
    "    if return_visited_state_actions:\n",
    "        return total_r, visited_state_actions\n",
    "    else:\n",
    "        return total_r"
   ]
  },
  {
   "cell_type": "code",
   "execution_count": 98,
   "metadata": {},
   "outputs": [],
   "source": [
    "n_states = 16\n",
    "n_actions = 3\n",
    "k = 5"
   ]
  },
  {
   "cell_type": "code",
   "execution_count": 57,
   "metadata": {},
   "outputs": [
    {
     "data": {
      "text/plain": [
       "13.840416000000001"
      ]
     },
     "execution_count": 57,
     "metadata": {},
     "output_type": "execute_result"
    }
   ],
   "source": [
    "env = Env(n_states, n_actions)\n",
    "player = TabularSARSA(n_states, n_actions)\n",
    "np.var([play_episode(env, env.rnd_policy, 100) for _ in range(500)])"
   ]
  },
  {
   "cell_type": "code",
   "execution_count": 29,
   "metadata": {},
   "outputs": [
    {
     "data": {
      "text/plain": [
       "0.707504"
      ]
     },
     "execution_count": 29,
     "metadata": {},
     "output_type": "execute_result"
    }
   ],
   "source": [
    "new_env = MultiStepMDP(env, k)\n",
    "new_player = TabularSARSA(n_states, len(new_env.A))\n",
    "np.var([play_episode(new_env, new_env.rnd_policy, 100//k) for _ in range(500)])"
   ]
  },
  {
   "cell_type": "code",
   "execution_count": 30,
   "metadata": {},
   "outputs": [
    {
     "name": "stdout",
     "output_type": "stream",
     "text": [
      "1\n",
      "2\n",
      "3\n",
      "4\n",
      "5\n",
      "6\n",
      "7\n",
      "8\n",
      "9\n"
     ]
    }
   ],
   "source": [
    "variances = []\n",
    "for k in range(1, 10):\n",
    "    print('\\r{}'.format(k))\n",
    "    new_env = MultiStepMDP(env, k)\n",
    "    new_player = TabularSARSA(n_states, len(new_env.A))\n",
    "    variances.append(np.var([play_episode(new_env, new_env.rnd_policy, 100//k) for _ in range(100)]))"
   ]
  },
  {
   "cell_type": "code",
   "execution_count": 31,
   "metadata": {},
   "outputs": [
    {
     "data": {
      "text/plain": [
       "<matplotlib.collections.PathCollection at 0x7f0e3c604da0>"
      ]
     },
     "execution_count": 31,
     "metadata": {},
     "output_type": "execute_result"
    },
    {
     "data": {
      "image/png": "[encoded data removed]",
      "text/plain": [
       "<Figure size 432x288 with 1 Axes>"
      ]
     },
     "metadata": {
      "needs_background": "light"
     },
     "output_type": "display_data"
    }
   ],
   "source": [
    "plt.scatter(range(1, 10), variances)"
   ]
  },
  {
   "cell_type": "code",
   "execution_count": null,
   "metadata": {},
   "outputs": [],
   "source": []
  },
  {
   "cell_type": "code",
   "execution_count": 32,
   "metadata": {},
   "outputs": [
    {
     "data": {
      "text/plain": [
       "<matplotlib.collections.PathCollection at 0x7f0e3c649978>"
      ]
     },
     "execution_count": 32,
     "metadata": {},
     "output_type": "execute_result"
    },
    {
     "data": {
      "image/png": "[encoded data removed]",
      "text/plain": [
       "<Figure size 432x288 with 1 Axes>"
      ]
     },
     "metadata": {
      "needs_background": "light"
     },
     "output_type": "display_data"
    }
   ],
   "source": [
    "n_states = 8\n",
    "n_actions = 2\n",
    "\n",
    "env = Env(n_states, n_actions)\n",
    "player = TabularSARSA(n_states, n_actions)\n",
    "\n",
    "variances = []\n",
    "for k in range(1, 10):\n",
    "#     print('\\r{}'.format(k))\n",
    "    new_env = MultiStepMDP(env, k)\n",
    "    new_player = TabularSARSA(n_states, len(new_env.A))\n",
    "    variances.append(np.var([play_episode(new_env, new_env.rnd_policy, 100//k) for _ in range(100)]))\n",
    "    \n",
    "plt.scatter(range(1, 10), variances)"
   ]
  },
  {
   "cell_type": "code",
   "execution_count": 106,
   "metadata": {},
   "outputs": [
    {
     "data": {
      "text/plain": [
       "<matplotlib.collections.PathCollection at 0x7f0e3bcf1eb8>"
      ]
     },
     "execution_count": 106,
     "metadata": {},
     "output_type": "execute_result"
    },
    {
     "data": {
      "image/png": "[encoded data removed]",
      "text/plain": [
       "<Figure size 432x288 with 1 Axes>"
      ]
     },
     "metadata": {
      "needs_background": "light"
     },
     "output_type": "display_data"
    }
   ],
   "source": [
    "n_states = 64\n",
    "n_actions = 3\n",
    "\n",
    "env = Env(n_states, n_actions)\n",
    "player = TabularSARSA(n_states, n_actions)\n",
    "\n",
    "variances = []\n",
    "for k in range(1, 10):\n",
    "#     print('\\r{}'.format(k))\n",
    "    new_env = MultiStepMDP(env, k)\n",
    "    new_player = TabularSARSA(n_states, len(new_env.A))\n",
    "    variances.append(np.var([play_episode(new_env, new_env.rnd_policy, 100//k) for _ in range(100)]))\n",
    "    \n",
    "plt.scatter(range(1, 10), variances)"
   ]
  },
  {
   "cell_type": "code",
   "execution_count": 143,
   "metadata": {},
   "outputs": [],
   "source": [
    "def collect_visitation_counts(env, player, k):\n",
    "    visitation_counts = np.zeros((n_states, n_actions))\n",
    "    for _ in range(1000):\n",
    "        rs, sas = play_episode(new_env, new_env.rnd_policy, 100//k, return_visited_state_actions=True)\n",
    "\n",
    "        visitation_counts[tuple(zip(*sas))] += 1\n",
    "\n",
    "    return visitation_counts"
   ]
  },
  {
   "cell_type": "code",
   "execution_count": 170,
   "metadata": {},
   "outputs": [
    {
     "data": {
      "text/plain": [
       "5.242779605283963"
      ]
     },
     "execution_count": 170,
     "metadata": {},
     "output_type": "execute_result"
    },
    {
     "data": {
      "image/png": "[encoded data removed]",
      "text/plain": [
       "<Figure size 432x288 with 1 Axes>"
      ]
     },
     "metadata": {
      "needs_background": "light"
     },
     "output_type": "display_data"
    }
   ],
   "source": [
    "n_states = 64\n",
    "n_actions = 3\n",
    "k=1\n",
    "\n",
    "env = Env(n_states, n_actions)\n",
    "player = TabularSARSA(n_states, n_actions)\n",
    "\n",
    "new_env = MultiStepMDP(env, k)\n",
    "new_player = TabularSARSA(n_states, len(new_env.A))\n",
    "\n",
    "\n",
    "state_action_visitations = collect_visitation_counts(new_env, new_player, k)\n",
    "_ = plt.bar(range(n_states*n_actions), state_action_visitations.ravel())\n",
    "entropy(state_action_visitations)"
   ]
  },
  {
   "cell_type": "code",
   "execution_count": 169,
   "metadata": {},
   "outputs": [
    {
     "data": {
      "text/plain": [
       "5.2440018948782825"
      ]
     },
     "execution_count": 169,
     "metadata": {},
     "output_type": "execute_result"
    },
    {
     "data": {
      "image/png": "[encoded data removed]",
      "text/plain": [
       "<Figure size 432x288 with 1 Axes>"
      ]
     },
     "metadata": {
      "needs_background": "light"
     },
     "output_type": "display_data"
    }
   ],
   "source": [
    "k=3\n",
    "\n",
    "new_env = MultiStepMDP(env, k)\n",
    "new_player = TabularSARSA(n_states, len(new_env.A))\n",
    "\n",
    "state_action_visitations = collect_visitation_counts(new_env, new_player, k)\n",
    "_ = plt.bar(range(n_states*n_actions), state_action_visitations.ravel())\n",
    "entropy(state_action_visitations)"
   ]
  },
  {
   "cell_type": "code",
   "execution_count": 168,
   "metadata": {},
   "outputs": [
    {
     "data": {
      "text/plain": [
       "5.244052242637402"
      ]
     },
     "execution_count": 168,
     "metadata": {},
     "output_type": "execute_result"
    },
    {
     "data": {
      "image/png": "[encoded data removed]",
      "text/plain": [
       "<Figure size 432x288 with 1 Axes>"
      ]
     },
     "metadata": {
      "needs_background": "light"
     },
     "output_type": "display_data"
    }
   ],
   "source": [
    "k=5\n",
    "\n",
    "new_env = MultiStepMDP(env, k)\n",
    "new_player = TabularSARSA(n_states, len(new_env.A))\n",
    "\n",
    "state_action_visitations = collect_visitation_counts(new_env, new_player, k)\n",
    "_ = plt.bar(range(n_states*n_actions), state_action_visitations.ravel())\n",
    "entropy(state_action_visitations)"
   ]
  },
  {
   "cell_type": "code",
   "execution_count": 167,
   "metadata": {},
   "outputs": [
    {
     "data": {
      "text/plain": [
       "5.244233065511663"
      ]
     },
     "execution_count": 167,
     "metadata": {},
     "output_type": "execute_result"
    },
    {
     "data": {
      "image/png": "[encoded data removed]",
      "text/plain": [
       "<Figure size 432x288 with 1 Axes>"
      ]
     },
     "metadata": {
      "needs_background": "light"
     },
     "output_type": "display_data"
    }
   ],
   "source": [
    "k=7\n",
    "\n",
    "new_env = MultiStepMDP(env, k)\n",
    "new_player = TabularSARSA(n_states, len(new_env.A))\n",
    "\n",
    "state_action_visitations = collect_visitation_counts(new_env, new_player, k)\n",
    "_ = plt.bar(range(n_states*n_actions), state_action_visitations.ravel())\n",
    "entropy(state_action_visitations)"
   ]
  },
  {
   "cell_type": "code",
   "execution_count": 166,
   "metadata": {},
   "outputs": [],
   "source": [
    "def entropy(counts):\n",
    "    p = counts / np.sum(counts)\n",
    "    return np.sum(- p * np.log(p))"
   ]
  },
  {
   "cell_type": "code",
   "execution_count": null,
   "metadata": {},
   "outputs": [],
   "source": []
  }
 ],
 "metadata": {
  "kernelspec": {
   "display_name": "Python (venv)",
   "language": "python",
   "name": "venv"
  },
  "language_info": {
   "codemirror_mode": {
    "name": "ipython",
    "version": 3
   },
   "file_extension": ".py",
   "mimetype": "text/x-python",
   "name": "python",
   "nbconvert_exporter": "python",
   "pygments_lexer": "ipython3",
   "version": "3.6.7"
  }
 },
 "nbformat": 4,
 "nbformat_minor": 2
}
