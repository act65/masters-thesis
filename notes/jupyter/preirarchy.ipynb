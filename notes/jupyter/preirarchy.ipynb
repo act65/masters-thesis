{
 "cells": [
  {
   "cell_type": "code",
   "execution_count": 28,
   "metadata": {},
   "outputs": [],
   "source": [
    "import numpy as np\n",
    "import tensorflow as tf\n",
    "import matplotlib.pyplot as plt\n",
    "import copy\n",
    "\n",
    "tf.enable_eager_execution()"
   ]
  },
  {
   "cell_type": "code",
   "execution_count": 4,
   "metadata": {},
   "outputs": [],
   "source": [
    "def play_episode(env, player, len_episode):\n",
    "    # reset\n",
    "    s = env.reset()\n",
    "    total_r = 0\n",
    "    r = 0\n",
    "    w = np.random.randint(8)\n",
    "    \n",
    "    # play an episode\n",
    "    for _ in range(len_episode):\n",
    "        a = player.choose_action(s, r)\n",
    "        s, r = env.step(s, a)\n",
    "        total_r += r\n",
    "        \n",
    "    return total_r/len_episode"
   ]
  },
  {
   "cell_type": "code",
   "execution_count": 10,
   "metadata": {},
   "outputs": [],
   "source": [
    "def recursive_action_choice(heirarchy, x):\n",
    "    # want to keep track of which policies are getting called\n",
    "    # and how much\n",
    "    a = heirarchy[0](x)\n",
    "    if len(heirarchy) == 1:\n",
    "        return a\n",
    "    elif entropy(a) < n_actions//2:\n",
    "        return a\n",
    "    else:\n",
    "        return recursive_action_choice(heirarchy[1:], x)\n",
    "\n",
    "class Heirarchy():\n",
    "    \"\"\"\n",
    "    Residual policy learning.\n",
    "    Learn to act when uncertain.\n",
    "    \n",
    "    \n",
    "    What if each policy were trained at different discounts!?\n",
    "    The first one with low discount.\n",
    "    The next one with higher.\n",
    "    ...?\n",
    "    \n",
    "    Higher up in the heirarchy corresponds to more specific knowledge.\n",
    "    What to do in a specific situation.\n",
    "    More general knowledge. Is lower down.\n",
    "    \"\"\"\n",
    "    def __init__(self, n_states, n_actions):\n",
    "        self.n_actions = n_actions\n",
    "        self.policies = [TabularSARSA(n_states, n_actions)]\n",
    "        self.record = []\n",
    "        self.step = 0\n",
    "        \n",
    "    def choose_action(self, s, r):\n",
    "        # want to keep track of which policies are getting called\n",
    "        # and how much\n",
    "        certain = False\n",
    "        counter = 0\n",
    "        while not certain and (counter < len(self.policies)):\n",
    "            pi = self.policies[counter]\n",
    "            qs = pi(s)  # pi(s) returns the Q values\n",
    "            p_a = softmax(qs)\n",
    "            # p is based on the value. \n",
    "            # but this means high entropy can come from having many good options... \n",
    "\n",
    "            if entropy(p_a) < 0.25:\n",
    "                certain = True\n",
    "            \n",
    "            counter += 1\n",
    "\n",
    "        a = pi.choose_action(s, r)\n",
    "            \n",
    "        # track which policies are being used\n",
    "        self.record.append(counter)\n",
    "        \n",
    "        # only train the latest policy.\n",
    "        if self.step % 1000 == 0 and self.step > 0:\n",
    "            self.policies.append(TabularSARSA(n_states, n_actions))\n",
    "#         self.policies[-1].choose_action(s, r)\n",
    "        \n",
    "        self.step += 1\n",
    "        \n",
    "        return a"
   ]
  },
  {
   "cell_type": "code",
   "execution_count": 16,
   "metadata": {},
   "outputs": [],
   "source": [
    "n_actions = 3\n",
    "n_states = 512\n",
    "env = Env(n_states, n_actions)\n",
    "player = Heirarchy(n_states, n_actions)"
   ]
  },
  {
   "cell_type": "code",
   "execution_count": 17,
   "metadata": {},
   "outputs": [
    {
     "data": {
      "text/plain": [
       "0.00214"
      ]
     },
     "execution_count": 17,
     "metadata": {},
     "output_type": "execute_result"
    }
   ],
   "source": [
    "play_episode(env, player, 50000)"
   ]
  },
  {
   "cell_type": "code",
   "execution_count": 18,
   "metadata": {},
   "outputs": [
    {
     "name": "stdout",
     "output_type": "stream",
     "text": [
      "50\n"
     ]
    },
    {
     "data": {
      "text/plain": [
       "(array([5001., 5000., 5000., 5000., 5000., 5000., 5000., 5000., 5000.,\n",
       "        4999.]),\n",
       " array([ 1. ,  5.9, 10.8, 15.7, 20.6, 25.5, 30.4, 35.3, 40.2, 45.1, 50. ]),\n",
       " <a list of 10 Patch objects>)"
      ]
     },
     "execution_count": 18,
     "metadata": {},
     "output_type": "execute_result"
    },
    {
     "data": {
      "image/png": "[encoded data removed]",
      "text/plain": [
       "<Figure size 432x288 with 1 Axes>"
      ]
     },
     "metadata": {
      "needs_background": "light"
     },
     "output_type": "display_data"
    }
   ],
   "source": [
    "print(len(player.policies))\n",
    "plt.hist(player.record)"
   ]
  },
  {
   "cell_type": "code",
   "execution_count": null,
   "metadata": {},
   "outputs": [],
   "source": []
  },
  {
   "cell_type": "code",
   "execution_count": null,
   "metadata": {},
   "outputs": [],
   "source": [
    "# damn. lower level policies are certain when they shouldnt be...\n",
    "# also the value changes."
   ]
  },
  {
   "cell_type": "code",
   "execution_count": null,
   "metadata": {},
   "outputs": [],
   "source": []
  },
  {
   "cell_type": "code",
   "execution_count": null,
   "metadata": {},
   "outputs": [],
   "source": []
  },
  {
   "cell_type": "markdown",
   "metadata": {},
   "source": [
    "Show temporal abstraction with preirarchy.\n",
    "\n",
    "- Learn a prior. In this case, a policy that repeats actions n times.\n",
    "- Learn a new policy, which is regularised with the prior."
   ]
  },
  {
   "cell_type": "code",
   "execution_count": 81,
   "metadata": {},
   "outputs": [],
   "source": [
    "class EntropyPrior():\n",
    "    def __init__(self):\n",
    "        self.policy = MLP()\n",
    "\n",
    "    def __call__(self, s_t):\n",
    "        return tf.ones(shape=(self.n_actions,))/self.n_actions\n",
    "    \n",
    "class NStepPrior():\n",
    "    def __init__(self, n_actions):\n",
    "        self.n = 2\n",
    "        self.n_actions = n_actions\n",
    "\n",
    "    def __call__(self, s_t):\n",
    "        # needs to know the most recent action and the time step.\n",
    "        # can cheat and add these to the state vector\n",
    "        # generalising n to values higher than 2 would require storing more actions\n",
    "        a_tm1 = s_t[-1]\n",
    "        t = s_t[-2]\n",
    "        \n",
    "        if t.numpy() % self.n == 0:\n",
    "            return tf.ones(shape=(self.n_actions,))/self.n_actions\n",
    "        else:\n",
    "            return tf.one_hot(int(a_tm1), self.n_actions)\n",
    "        \n",
    "# want other priors can we write down that might help!?\n",
    "# - repeated actions for long periods of time is probably bad?! although, not always...\n",
    "# - "
   ]
  },
  {
   "cell_type": "code",
   "execution_count": 172,
   "metadata": {},
   "outputs": [
    {
     "name": "stdout",
     "output_type": "stream",
     "text": [
      "5\n",
      "5\n",
      "1\n",
      "1\n",
      "0\n",
      "0\n",
      "1\n",
      "1\n",
      "6\n",
      "6\n"
     ]
    }
   ],
   "source": [
    "def sample(logits):\n",
    "    g = -tf.log(-tf.log(tf.random.uniform(logits.shape)))\n",
    "    return tf.argmax(logits + g)\n",
    "\n",
    "n_actions = 8\n",
    "prior = NStepPrior(n_actions, 2)\n",
    "a_t = np.random.randint(0, n_actions)\n",
    "for i in range(10):\n",
    "    s_t = tf.cast(tf.constant([0,0,i,int(a_t)]), tf.float32)\n",
    "    a_t = np.random.choice(range(n_actions), p=prior(s_t))\n",
    "    print(a_t)"
   ]
  },
  {
   "cell_type": "code",
   "execution_count": 68,
   "metadata": {},
   "outputs": [],
   "source": [
    "def KL(P, Q):\n",
    "    return -tf.reduce_sum(P * tf.log(Q/P))\n",
    "\n",
    "class Pierarchy():\n",
    "    def __init__(self, prior):\n",
    "        self.prior = prior\n",
    "        self.policy = MLP()\n",
    "        \n",
    "    def __call__(self, s_t):\n",
    "        return softmax(self.policy(s_t))\n",
    "        \n",
    "    def loss_fn(self, s_t, a_t, r_t, R_t):\n",
    "        P = self.__call__(s_t)\n",
    "        Q = self.prior(s_t)\n",
    "        prior_loss = KL(P, Q)\n",
    "        \n",
    "        pg_loss = PG(s, a, R)\n",
    "        \n",
    "        return prior_loss + pg_loss"
   ]
  },
  {
   "cell_type": "code",
   "execution_count": null,
   "metadata": {},
   "outputs": [],
   "source": [
    "# what does better?\n",
    "# - Pierarchy + EntropyPrior\n",
    "# - Pierarchy + NStepPrior\n",
    "# - Pierarchy + Pierarchy"
   ]
  }
 ],
 "metadata": {
  "kernelspec": {
   "display_name": "Python 3",
   "language": "python",
   "name": "python3"
  },
  "language_info": {
   "codemirror_mode": {
    "name": "ipython",
    "version": 3
   },
   "file_extension": ".py",
   "mimetype": "text/x-python",
   "name": "python",
   "nbconvert_exporter": "python",
   "pygments_lexer": "ipython3",
   "version": "3.7.3"
  }
 },
 "nbformat": 4,
 "nbformat_minor": 2
}
