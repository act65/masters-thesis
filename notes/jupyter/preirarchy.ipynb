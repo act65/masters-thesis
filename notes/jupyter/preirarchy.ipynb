{
 "cells": [
  {
   "cell_type": "code",
   "execution_count": 3,
   "metadata": {},
   "outputs": [],
   "source": [
    "import numpy as np\n",
    "import matplotlib.pyplot as plt\n",
    "import copy"
   ]
  },
  {
   "cell_type": "markdown",
   "metadata": {},
   "source": [
    "Want to show a connection between the prierarchy idea and the composability of LMDPs.\n",
    "\n",
    "$$\n",
    "\\begin{align}\n",
    "v(s) &= \\mathop{\\text{min}}_a \\big[ r(s, a) + \\mathop{\\mathbb E}_{x' \\sim p(\\cdot | x, a)} v(x') \\big]\\\\\n",
    "p_i(x' | x) &= \\tau(x' | x, \\pi_i(x)) \\\\\n",
    "r(s, a) &= q(x) +  \\mathop{\\mathbb E}_{x'\\sim a(\\cdot | x)} \\log \\frac{a(x' | x)}{p(x' | x)} - \\sum_{i=1}^k \\mathop{\\mathbb E}_{x'\\sim a(\\cdot | x)} \\log p_i(x' | x) \\\\\n",
    "&= q(x) +  \\mathop{\\mathbb E}_{x'\\sim a(\\cdot | x)} \\log \\frac{a(x' | x)}{p(x' | x)\\prod_{i=1}^k p_i(x' | x)} \\\\\n",
    "\\end{align}\n",
    "$$\n",
    "\n",
    "These priors maybe added sequential as training progresses.\n",
    "\n",
    "$$\n",
    "\\begin{align}\n",
    "-log(x) &= q(x) + \\mathop{\\text{min}}_a \\big[\\mathop{\\mathbb E}_{x'\\sim a(\\cdot | x)} \\log \\frac{a(x' | x)}{z(x')p(x' | x)\\prod_{i=1}^k p_i(x' | x)}\\big]\\\\\n",
    "\\end{align}\n",
    "$$\n",
    "\n",
    "???\n",
    "\n",
    "$$\n",
    "\\begin{align}\n",
    "d(\\cdot | x) &= \\prod_{i=1}^k p_i(x' | x) \\\\\n",
    "a^{* }(x' | x) &= \\frac{p(x' | x)z(x')d(\\cdot | x)}{G[z](x)} \\\\\n",
    "G[z](x) &= \\mathop{\\mathbb E}_{x'\\sim p(\\cdot | x)d(\\cdot | x)} z(x') \\\\\n",
    "&=  \\mathop{\\mathbb E}_{x'\\sim d(\\cdot | x)} \\mathop{\\mathbb E}_{x'\\sim p(\\cdot | x)}z(x') \\\\\n",
    "z_k(x) &:= \\mathop{\\mathbb E}_{x'\\sim p(\\cdot | x)p_k(\\cdot | x)}z(x') \\\\\n",
    "G[z](x) &= \\sum_k w_k z_k(x') \\\\\n",
    "z(x) &= e^{-q(x)}G[z](x) \\\\\n",
    "\\end{align}\n",
    "$$\n",
    "\n",
    "\n",
    "Want to find a relationship to this.\n",
    "http://papers.nips.cc/paper/3842-compositionality-of-optimal-control-laws.pdf\n"
   ]
  },
  {
   "cell_type": "code",
   "execution_count": 4,
   "metadata": {},
   "outputs": [],
   "source": [
    "# utils\n",
    "def onehot(idx, N): # hacky. i know...\n",
    "    return np.eye(N)[idx]\n",
    "\n",
    "def softmax(x):\n",
    "    return np.exp(x)/np.sum(np.exp(x))\n",
    "\n",
    "def sample(x, logits):\n",
    "    # or could use gumbel trick\n",
    "    p = softmax(logits)\n",
    "    return np.random.choice(x, p=p)\n",
    "\n",
    "def entropy(z):\n",
    "    p = softmax(z)\n",
    "    return -np.sum(p*np.log(p)/np.log(n_actions))\n",
    "\n",
    "class Env():\n",
    "    def __init__(self, n_states, n_actions):\n",
    "        \"\"\"\n",
    "        Args:\n",
    "            n_states (int): the number of states\n",
    "            n_actions (int): the number of action\n",
    "        \"\"\"\n",
    "        self.S = np.arange(n_states)\n",
    "        self.A = np.arange(n_actions)\n",
    "\n",
    "        # each action move from state(i) to state(j) with probability close to 1.\n",
    "        # BUG nope. softmax doesnt do this. will need to set to -infty\n",
    "        self.P = 20*np.stack([np.random.permutation(np.eye(n_states, dtype=np.float32)) for _ in range(n_actions-1)] + [np.eye(n_states, dtype=np.float32)],axis=0)  \n",
    "        # NOTE this graph might be disconnected. but is unlikely!?\n",
    "\n",
    "        # reward is only a fn of the current state - shape = [n_states]\n",
    "        # also. is sparse.\n",
    "        self.R = onehot(np.random.randint(0, n_states), n_states)\n",
    "\n",
    "    def step(self, state, action):\n",
    "        \"\"\"\n",
    "        A tabular, probabilistic step function. \n",
    "\n",
    "        Args:\n",
    "            state (int): An element of S. The current state\n",
    "            state (int): An element of A. The action to be taken\n",
    "\n",
    "        Returns:\n",
    "            new_state (int): An element of S.\n",
    "        \"\"\"\n",
    "        # step by selecting relevant transition matrix and applying\n",
    "        logits = np.matmul(self.P[action, ...], onehot(state, n_states))\n",
    "        # convert to a distribution and sample\n",
    "        new_s = np.random.choice(self.S, p=softmax(logits))\n",
    "        return new_s, self.R[new_s]\n",
    "    \n",
    "    def rnd_policy(self, s, *args):\n",
    "        return np.random.choice(self.A)\n",
    "    \n",
    "    def reset(self):\n",
    "        return np.random.choice(self.S)\n",
    "\n",
    "    def new_task(self):\n",
    "        self.R = onehot(np.random.randint(0, n_states), n_states)"
   ]
  },
  {
   "cell_type": "code",
   "execution_count": 5,
   "metadata": {},
   "outputs": [],
   "source": [
    "class TabularSARSA():\n",
    "    def __init__(self, n_states, n_actions):\n",
    "        self.gamma = 0.999\n",
    "        self.lr = 0.1\n",
    "\n",
    "        self.qs = np.zeros([n_states, n_actions])\n",
    "        \n",
    "        self.old_s = None\n",
    "        self.old_a = None\n",
    "        self.old_r = None\n",
    "    \n",
    "    def choose_action(self, s, r):\n",
    "        a = sample(np.arange(n_actions), self.qs[s, ...])\n",
    "        # should change to epsilon greedy or entropy regularised\n",
    "        \n",
    "        if self.old_s is not None:\n",
    "            self.train_step(self.old_s, self.old_a, r, s, a)\n",
    "                \n",
    "        # loop past observations so we can use them for training\n",
    "        self.old_s = s\n",
    "        self.old_a = a\n",
    "                \n",
    "        return a\n",
    "    \n",
    "    def __call__(self, s):\n",
    "        return softmax(self.qs[s, ...])\n",
    "    \n",
    "    def train_step(self, old_s, old_a, old_r, s, a):\n",
    "        target = (old_r + self.gamma*self.qs[s, a])  # bootstrap off next step. TD!\n",
    "        delta =  target - self.qs[old_s, old_a]\n",
    "        self.qs[old_s, old_a] += self.lr * delta  # incremental update. exp avg/GD!\n",
    "        self.qs -= 1e-4 * (self.qs-np.mean(self.qs, axis=1, keepdims=True))  # a form of entropy regularisation"
   ]
  },
  {
   "cell_type": "code",
   "execution_count": 6,
   "metadata": {},
   "outputs": [],
   "source": [
    "def play_episode(env, player, len_episode):\n",
    "    # reset\n",
    "    s = env.reset()\n",
    "    total_r = 0\n",
    "    r = 0\n",
    "    w = np.random.randint(8)\n",
    "    \n",
    "    # play an episode\n",
    "    for _ in range(len_episode):\n",
    "        a = player.choose_action(s, r)\n",
    "        s, r = env.step(s, a)\n",
    "        total_r += r\n",
    "        \n",
    "    return total_r/len_episode"
   ]
  },
  {
   "cell_type": "code",
   "execution_count": 7,
   "metadata": {},
   "outputs": [
    {
     "data": {
      "text/plain": [
       "0.809"
      ]
     },
     "execution_count": 7,
     "metadata": {},
     "output_type": "execute_result"
    }
   ],
   "source": [
    "n_actions = 12\n",
    "n_states = 3\n",
    "env = Env(n_states, n_actions)\n",
    "player = TabularSARSA(n_states, n_actions)\n",
    "\n",
    "play_episode(env, player, 1000)"
   ]
  },
  {
   "cell_type": "code",
   "execution_count": null,
   "metadata": {},
   "outputs": [],
   "source": []
  },
  {
   "cell_type": "code",
   "execution_count": null,
   "metadata": {},
   "outputs": [],
   "source": []
  },
  {
   "cell_type": "code",
   "execution_count": 202,
   "metadata": {},
   "outputs": [],
   "source": [
    "def recursive_action_choice(heirarchy, x):\n",
    "    # want to keep track of which policies are getting called\n",
    "    # and how much\n",
    "    a = heirarchy[0](x)\n",
    "    if len(heirarchy) == 1:\n",
    "        return a\n",
    "    elif entropy(a) < n_actions//2:\n",
    "        return a\n",
    "    else:\n",
    "        return recursive_action_choice(heirarchy[1:], x)\n",
    "    \n",
    "\n",
    "\n",
    "\n",
    "class Heirarchy():\n",
    "    \"\"\"\n",
    "    Residual policy learning.\n",
    "    Learn to act when uncertain.\n",
    "    \n",
    "    \n",
    "    What if each policy were trained at different discounts!?\n",
    "    The first one with low discount.\n",
    "    The next one with higher.\n",
    "    ...?\n",
    "    \"\"\"\n",
    "    def __init__(self, n_states, n_actions):\n",
    "        self.n_actions = n_actions\n",
    "        self.policies = [TabularSARSA(n_states, n_actions)]\n",
    "        self.record = []\n",
    "        self.step = 0\n",
    "        \n",
    "    def choose_action(self, s, r):\n",
    "        # want to keep track of which policies are getting called\n",
    "        # and how much\n",
    "        certain = False\n",
    "        counter = 0\n",
    "        while not certain and (counter < len(self.policies)):\n",
    "            pi = self.policies[counter]\n",
    "            \n",
    "            p_a = pi(s)\n",
    "            pi.choose_action(s, r)\n",
    "            if entropy(p_a) < self.n_actions // 10 or (len(self.policies)-1 == counter):\n",
    "                certain = True\n",
    "            \n",
    "            # track which policies are being used\n",
    "            self.record.append(counter)\n",
    "            counter += 1\n",
    "        \n",
    "        a = sample(np.arange(self.n_actions), p_a)\n",
    "        \n",
    "        # only train the latest policy.\n",
    "        if self.step % 1000 == 0 and self.step > 0:\n",
    "            self.policies.append(TabularSARSA(n_states, n_actions))\n",
    "        self.policies[-1].choose_action(s, r)\n",
    "        \n",
    "        self.step += 1\n",
    "        \n",
    "        return a"
   ]
  },
  {
   "cell_type": "code",
   "execution_count": 203,
   "metadata": {},
   "outputs": [],
   "source": [
    "n_actions = 3\n",
    "n_states = 128\n",
    "env = Env(n_states, n_actions)\n",
    "player = Heirarchy(n_states, n_actions)"
   ]
  },
  {
   "cell_type": "code",
   "execution_count": 223,
   "metadata": {},
   "outputs": [
    {
     "data": {
      "text/plain": [
       "0.01"
      ]
     },
     "execution_count": 223,
     "metadata": {},
     "output_type": "execute_result"
    }
   ],
   "source": [
    "\n",
    "play_episode(env, player, 1000)"
   ]
  },
  {
   "cell_type": "code",
   "execution_count": 221,
   "metadata": {},
   "outputs": [
    {
     "data": {
      "text/plain": [
       "(array([9000., 7999., 6999., 5999.,    0., 4999., 3999., 2999., 1999.,\n",
       "         999.]),\n",
       " array([0. , 0.8, 1.6, 2.4, 3.2, 4. , 4.8, 5.6, 6.4, 7.2, 8. ]),\n",
       " <a list of 10 Patch objects>)"
      ]
     },
     "execution_count": 221,
     "metadata": {},
     "output_type": "execute_result"
    },
    {
     "data": {
      "image/png": "[encoded data removed]",
      "text/plain": [
       "<Figure size 432x288 with 1 Axes>"
      ]
     },
     "metadata": {
      "needs_background": "light"
     },
     "output_type": "display_data"
    }
   ],
   "source": [
    "plt.hist(player.record)"
   ]
  },
  {
   "cell_type": "code",
   "execution_count": 201,
   "metadata": {},
   "outputs": [
    {
     "data": {
      "text/plain": [
       "27"
      ]
     },
     "execution_count": 201,
     "metadata": {},
     "output_type": "execute_result"
    }
   ],
   "source": [
    "len(player.policies)"
   ]
  },
  {
   "cell_type": "code",
   "execution_count": null,
   "metadata": {},
   "outputs": [],
   "source": [
    "# damn. lower level policies are certain when they shouldnt be...\n",
    "# also the value changes."
   ]
  }
 ],
 "metadata": {
  "kernelspec": {
   "display_name": "Python 3",
   "language": "python",
   "name": "python3"
  },
  "language_info": {
   "codemirror_mode": {
    "name": "ipython",
    "version": 3
   },
   "file_extension": ".py",
   "mimetype": "text/x-python",
   "name": "python",
   "nbconvert_exporter": "python",
   "pygments_lexer": "ipython3",
   "version": "3.7.3"
  }
 },
 "nbformat": 4,
 "nbformat_minor": 2
}
