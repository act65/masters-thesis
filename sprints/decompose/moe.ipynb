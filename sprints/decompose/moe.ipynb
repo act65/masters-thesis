{
 "cells": [
  {
   "cell_type": "code",
   "execution_count": 1,
   "metadata": {},
   "outputs": [
    {
     "name": "stderr",
     "output_type": "stream",
     "text": [
      "/home/telfaralex/anaconda3/envs/venv/lib/python3.6/site-packages/tensorflow/python/util/tf_inspect.py:75: DeprecationWarning: inspect.getargspec() is deprecated, use inspect.signature() or inspect.getfullargspec()\n",
      "  return _inspect.getargspec(target)\n",
      "/home/telfaralex/anaconda3/envs/venv/lib/python3.6/site-packages/tensorflow/python/util/tf_inspect.py:75: DeprecationWarning: inspect.getargspec() is deprecated, use inspect.signature() or inspect.getfullargspec()\n",
      "  return _inspect.getargspec(target)\n",
      "/home/telfaralex/anaconda3/envs/venv/lib/python3.6/site-packages/tensorflow/python/util/tf_inspect.py:75: DeprecationWarning: inspect.getargspec() is deprecated, use inspect.signature() or inspect.getfullargspec()\n",
      "  return _inspect.getargspec(target)\n",
      "/home/telfaralex/anaconda3/envs/venv/lib/python3.6/site-packages/tensorflow/python/util/tf_inspect.py:75: DeprecationWarning: inspect.getargspec() is deprecated, use inspect.signature() or inspect.getfullargspec()\n",
      "  return _inspect.getargspec(target)\n",
      "/home/telfaralex/anaconda3/envs/venv/lib/python3.6/site-packages/tensorflow/python/util/tf_inspect.py:75: DeprecationWarning: inspect.getargspec() is deprecated, use inspect.signature() or inspect.getfullargspec()\n",
      "  return _inspect.getargspec(target)\n",
      "/home/telfaralex/anaconda3/envs/venv/lib/python3.6/site-packages/tensorflow/python/util/tf_inspect.py:75: DeprecationWarning: inspect.getargspec() is deprecated, use inspect.signature() or inspect.getfullargspec()\n",
      "  return _inspect.getargspec(target)\n",
      "/home/telfaralex/anaconda3/envs/venv/lib/python3.6/site-packages/tensorflow/python/util/tf_inspect.py:75: DeprecationWarning: inspect.getargspec() is deprecated, use inspect.signature() or inspect.getfullargspec()\n",
      "  return _inspect.getargspec(target)\n",
      "/home/telfaralex/anaconda3/envs/venv/lib/python3.6/site-packages/tensorflow/python/util/tf_inspect.py:75: DeprecationWarning: inspect.getargspec() is deprecated, use inspect.signature() or inspect.getfullargspec()\n",
      "  return _inspect.getargspec(target)\n",
      "/home/telfaralex/anaconda3/envs/venv/lib/python3.6/importlib/_bootstrap.py:219: ImportWarning: can't resolve package from __spec__ or __package__, falling back on __name__ and __path__\n",
      "  return f(*args, **kwds)\n",
      "/home/telfaralex/anaconda3/envs/venv/lib/python3.6/site-packages/tensor2tensor/utils/registry.py:180: DeprecationWarning: inspect.getargspec() is deprecated, use inspect.signature() or inspect.getfullargspec()\n",
      "  args, varargs, keywords, _ = inspect.getargspec(rhp_fn)\n",
      "/home/telfaralex/anaconda3/envs/venv/lib/python3.6/site-packages/tensor2tensor/utils/registry.py:180: DeprecationWarning: inspect.getargspec() is deprecated, use inspect.signature() or inspect.getfullargspec()\n",
      "  args, varargs, keywords, _ = inspect.getargspec(rhp_fn)\n",
      "/home/telfaralex/anaconda3/envs/venv/lib/python3.6/site-packages/tensor2tensor/utils/registry.py:180: DeprecationWarning: inspect.getargspec() is deprecated, use inspect.signature() or inspect.getfullargspec()\n",
      "  args, varargs, keywords, _ = inspect.getargspec(rhp_fn)\n",
      "/home/telfaralex/anaconda3/envs/venv/lib/python3.6/site-packages/tensor2tensor/utils/registry.py:180: DeprecationWarning: inspect.getargspec() is deprecated, use inspect.signature() or inspect.getfullargspec()\n",
      "  args, varargs, keywords, _ = inspect.getargspec(rhp_fn)\n",
      "/home/telfaralex/anaconda3/envs/venv/lib/python3.6/site-packages/tensor2tensor/utils/registry.py:180: DeprecationWarning: inspect.getargspec() is deprecated, use inspect.signature() or inspect.getfullargspec()\n",
      "  args, varargs, keywords, _ = inspect.getargspec(rhp_fn)\n",
      "/home/telfaralex/anaconda3/envs/venv/lib/python3.6/site-packages/tensor2tensor/utils/registry.py:180: DeprecationWarning: inspect.getargspec() is deprecated, use inspect.signature() or inspect.getfullargspec()\n",
      "  args, varargs, keywords, _ = inspect.getargspec(rhp_fn)\n",
      "/home/telfaralex/anaconda3/envs/venv/lib/python3.6/site-packages/tensor2tensor/utils/registry.py:180: DeprecationWarning: inspect.getargspec() is deprecated, use inspect.signature() or inspect.getfullargspec()\n",
      "  args, varargs, keywords, _ = inspect.getargspec(rhp_fn)\n",
      "/home/telfaralex/anaconda3/envs/venv/lib/python3.6/site-packages/tensor2tensor/utils/registry.py:180: DeprecationWarning: inspect.getargspec() is deprecated, use inspect.signature() or inspect.getfullargspec()\n",
      "  args, varargs, keywords, _ = inspect.getargspec(rhp_fn)\n",
      "/home/telfaralex/anaconda3/envs/venv/lib/python3.6/site-packages/tensor2tensor/utils/registry.py:180: DeprecationWarning: inspect.getargspec() is deprecated, use inspect.signature() or inspect.getfullargspec()\n",
      "  args, varargs, keywords, _ = inspect.getargspec(rhp_fn)\n",
      "/home/telfaralex/anaconda3/envs/venv/lib/python3.6/site-packages/tensor2tensor/utils/registry.py:180: DeprecationWarning: inspect.getargspec() is deprecated, use inspect.signature() or inspect.getfullargspec()\n",
      "  args, varargs, keywords, _ = inspect.getargspec(rhp_fn)\n",
      "/home/telfaralex/anaconda3/envs/venv/lib/python3.6/site-packages/tensor2tensor/utils/registry.py:180: DeprecationWarning: inspect.getargspec() is deprecated, use inspect.signature() or inspect.getfullargspec()\n",
      "  args, varargs, keywords, _ = inspect.getargspec(rhp_fn)\n",
      "/home/telfaralex/anaconda3/envs/venv/lib/python3.6/site-packages/tensor2tensor/utils/registry.py:180: DeprecationWarning: inspect.getargspec() is deprecated, use inspect.signature() or inspect.getfullargspec()\n",
      "  args, varargs, keywords, _ = inspect.getargspec(rhp_fn)\n",
      "/home/telfaralex/anaconda3/envs/venv/lib/python3.6/site-packages/tensor2tensor/utils/registry.py:180: DeprecationWarning: inspect.getargspec() is deprecated, use inspect.signature() or inspect.getfullargspec()\n",
      "  args, varargs, keywords, _ = inspect.getargspec(rhp_fn)\n",
      "/home/telfaralex/anaconda3/envs/venv/lib/python3.6/site-packages/tensor2tensor/utils/registry.py:180: DeprecationWarning: inspect.getargspec() is deprecated, use inspect.signature() or inspect.getfullargspec()\n",
      "  args, varargs, keywords, _ = inspect.getargspec(rhp_fn)\n",
      "/home/telfaralex/anaconda3/envs/venv/lib/python3.6/site-packages/tensor2tensor/utils/registry.py:180: DeprecationWarning: inspect.getargspec() is deprecated, use inspect.signature() or inspect.getfullargspec()\n",
      "  args, varargs, keywords, _ = inspect.getargspec(rhp_fn)\n",
      "/home/telfaralex/anaconda3/envs/venv/lib/python3.6/site-packages/tensor2tensor/utils/registry.py:180: DeprecationWarning: inspect.getargspec() is deprecated, use inspect.signature() or inspect.getfullargspec()\n",
      "  args, varargs, keywords, _ = inspect.getargspec(rhp_fn)\n",
      "/home/telfaralex/anaconda3/envs/venv/lib/python3.6/site-packages/tensor2tensor/utils/registry.py:180: DeprecationWarning: inspect.getargspec() is deprecated, use inspect.signature() or inspect.getfullargspec()\n",
      "  args, varargs, keywords, _ = inspect.getargspec(rhp_fn)\n",
      "/home/telfaralex/anaconda3/envs/venv/lib/python3.6/site-packages/tensor2tensor/utils/registry.py:180: DeprecationWarning: inspect.getargspec() is deprecated, use inspect.signature() or inspect.getfullargspec()\n",
      "  args, varargs, keywords, _ = inspect.getargspec(rhp_fn)\n",
      "/home/telfaralex/anaconda3/envs/venv/lib/python3.6/site-packages/tensor2tensor/utils/registry.py:180: DeprecationWarning: inspect.getargspec() is deprecated, use inspect.signature() or inspect.getfullargspec()\n",
      "  args, varargs, keywords, _ = inspect.getargspec(rhp_fn)\n",
      "/home/telfaralex/anaconda3/envs/venv/lib/python3.6/site-packages/tensor2tensor/utils/registry.py:180: DeprecationWarning: inspect.getargspec() is deprecated, use inspect.signature() or inspect.getfullargspec()\n",
      "  args, varargs, keywords, _ = inspect.getargspec(rhp_fn)\n"
     ]
    }
   ],
   "source": [
    "import tensorflow as tf\n",
    "import tensor2tensor.models\n",
    "# tf.enable_eager_execution()"
   ]
  },
  {
   "cell_type": "code",
   "execution_count": 2,
   "metadata": {},
   "outputs": [],
   "source": [
    "noisy_top_k_gating = tensor2tensor.utils.expert_utils.noisy_top_k_gating"
   ]
  },
  {
   "cell_type": "code",
   "execution_count": 3,
   "metadata": {},
   "outputs": [],
   "source": [
    "x = tf.random_normal([2, 16])"
   ]
  },
  {
   "cell_type": "code",
   "execution_count": 4,
   "metadata": {},
   "outputs": [],
   "source": [
    "y = noisy_top_k_gating(x, num_experts=12, train=True, k=2)"
   ]
  },
  {
   "cell_type": "code",
   "execution_count": 5,
   "metadata": {},
   "outputs": [
    {
     "data": {
      "text/plain": [
       "(<tf.Tensor 'noisy_top_k_gating/Reshape_2:0' shape=(2, 12) dtype=float32>,\n",
       " <tf.Tensor 'noisy_top_k_gating/Sum:0' shape=(12,) dtype=float32>)"
      ]
     },
     "execution_count": 5,
     "metadata": {},
     "output_type": "execute_result"
    }
   ],
   "source": [
    "y"
   ]
  },
  {
   "cell_type": "code",
   "execution_count": 6,
   "metadata": {},
   "outputs": [
    {
     "data": {
      "text/plain": [
       "[<tf.Variable 'noisy_top_k_gating/w_gate:0' shape=(16, 12) dtype=float32_ref>,\n",
       " <tf.Variable 'noisy_top_k_gating/w_noise:0' shape=(16, 12) dtype=float32_ref>]"
      ]
     },
     "execution_count": 6,
     "metadata": {},
     "output_type": "execute_result"
    }
   ],
   "source": [
    "tf.get_collection(tf.GraphKeys.TRAINABLE_VARIABLES)"
   ]
  },
  {
   "cell_type": "code",
   "execution_count": null,
   "metadata": {},
   "outputs": [],
   "source": []
  }
 ],
 "metadata": {
  "kernelspec": {
   "display_name": "venv",
   "language": "python",
   "name": "venv"
  },
  "language_info": {
   "codemirror_mode": {
    "name": "ipython",
    "version": 3
   },
   "file_extension": ".py",
   "mimetype": "text/x-python",
   "name": "python",
   "nbconvert_exporter": "python",
   "pygments_lexer": "ipython3",
   "version": "3.6.7"
  }
 },
 "nbformat": 4,
 "nbformat_minor": 2
}
