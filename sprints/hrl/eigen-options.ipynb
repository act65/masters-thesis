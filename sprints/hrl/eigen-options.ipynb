{
 "cells": [
  {
   "cell_type": "code",
   "execution_count": 1,
   "metadata": {},
   "outputs": [],
   "source": [
    "import tensorflow as tf\n",
    "import matplotlib.pyplot as plt\n",
    "import numpy as np\n",
    "import gym"
   ]
  },
  {
   "cell_type": "code",
   "execution_count": 2,
   "metadata": {},
   "outputs": [
    {
     "name": "stderr",
     "output_type": "stream",
     "text": [
      "Using numpy backend.\n"
     ]
    }
   ],
   "source": [
    "import tensorly as tl\n",
    "from tensorly.decomposition import tucker "
   ]
  },
  {
   "cell_type": "code",
   "execution_count": 3,
   "metadata": {},
   "outputs": [],
   "source": [
    "tf.enable_eager_execution()"
   ]
  },
  {
   "cell_type": "markdown",
   "metadata": {},
   "source": [
    "Why is this hard to think about!?\n",
    "\n",
    "Want to find temporally abstract patterns between observations, actions and rewards."
   ]
  },
  {
   "cell_type": "code",
   "execution_count": 56,
   "metadata": {},
   "outputs": [],
   "source": [
    "env = gym.make('LunarLander-v2')\n",
    "# env = gym.make('Pong-v0')"
   ]
  },
  {
   "cell_type": "code",
   "execution_count": 57,
   "metadata": {},
   "outputs": [],
   "source": [
    "def play_episode(player, env, len_episode=100):\n",
    "    obs = env.reset()\n",
    "    trajectory = []\n",
    "    old_obs = obs\n",
    "    done = False\n",
    "    \n",
    "    # need fixed length trajectories\n",
    "    for _ in range(len_episode):\n",
    "        if not done:\n",
    "            a = player(obs)\n",
    "            obs, r, done, info = env.step(a)\n",
    "            \n",
    "        else:  # pad with zeros\n",
    "            a = 0\n",
    "            obs, r, done, info = (np.zeros(obs.size), 0, done, None)\n",
    "\n",
    "        trajectory.append(np.concatenate([np.array([a]), old_obs.ravel(), np.array([r])]))\n",
    "        old_obs = obs\n",
    "    return np.vstack(trajectory)"
   ]
  },
  {
   "cell_type": "code",
   "execution_count": 58,
   "metadata": {},
   "outputs": [],
   "source": [
    "# plt.imshow(env.reset()[::4, ::4, :])"
   ]
  },
  {
   "cell_type": "code",
   "execution_count": 59,
   "metadata": {},
   "outputs": [
    {
     "name": "stdout",
     "output_type": "stream",
     "text": [
      "Total possible trajectories = 1267650600228229401496703205376\n"
     ]
    }
   ],
   "source": [
    "len_episode = 50\n",
    "n_actions = env.action_space.n\n",
    "n_possible_trajectories = n_actions**len_episode\n",
    "print('Total possible trajectories = {}'.format(n_possible_trajectories))"
   ]
  },
  {
   "cell_type": "code",
   "execution_count": 60,
   "metadata": {},
   "outputs": [],
   "source": [
    "trajectory = play_episode(lambda *args: env.action_space.sample(), env, len_episode)"
   ]
  },
  {
   "cell_type": "code",
   "execution_count": 63,
   "metadata": {},
   "outputs": [],
   "source": [
    "def generate_data(n_episodes, len_episodes):\n",
    "    # generate dataset using rnd policy\n",
    "    dataset = np.stack([play_episode(lambda *args: env.action_space.sample(), env, len_episode)\n",
    "                          for _ in range(n_episodes)], axis=0)\n",
    "    return dataset  # N x len x [a, obs, r]\n",
    "\n",
    "dataset = generate_data(1000, 50)"
   ]
  },
  {
   "cell_type": "code",
   "execution_count": 64,
   "metadata": {},
   "outputs": [
    {
     "data": {
      "text/plain": [
       "(1000, 50, 10)"
      ]
     },
     "execution_count": 64,
     "metadata": {},
     "output_type": "execute_result"
    }
   ],
   "source": [
    "dataset.shape"
   ]
  },
  {
   "cell_type": "code",
   "execution_count": 65,
   "metadata": {},
   "outputs": [],
   "source": [
    "def batch_to_options(dataset, n_actions_in_option):\n",
    "    # get all combinations of actions to \n",
    "    # eval the options we have data for\n",
    "    \n",
    "    # in: batch x len x [a, obs, r] \n",
    "    # out: traj x option x [a,obs, r]\n",
    "    B, L, D = dataset.shape\n",
    "    out = tf.extract_image_patches(\n",
    "        np.reshape(dataset, [B, 1, L, D]), \n",
    "        ksizes=[1,1,n_actions_in_option,1], \n",
    "        strides=[1,1,1,1], \n",
    "        rates=[1,1,1,1], \n",
    "        padding=\"SAME\").numpy()\n",
    "    out = np.reshape(out, [B*L, n_actions_in_option, D])\n",
    "    return out"
   ]
  },
  {
   "cell_type": "code",
   "execution_count": 66,
   "metadata": {},
   "outputs": [
    {
     "data": {
      "text/plain": [
       "(49000, 12)"
      ]
     },
     "execution_count": 66,
     "metadata": {},
     "output_type": "execute_result"
    }
   ],
   "source": [
    "actions = batch_to_options(dataset[:,:-1,0:1], 3)\n",
    "actions.shape\n",
    "actions = tf.constant(actions, dtype=tf.int32)\n",
    "actions = tf.one_hot(actions, axis=-1, depth=4, off_value=0.0,on_value=1.0)\n",
    "actions = actions.numpy()\n",
    "actions = np.reshape(actions, [actions.shape[0], -1])\n",
    "actions.shape"
   ]
  },
  {
   "cell_type": "code",
   "execution_count": 67,
   "metadata": {},
   "outputs": [
    {
     "data": {
      "text/plain": [
       "(49000, 27)"
      ]
     },
     "execution_count": 67,
     "metadata": {},
     "output_type": "execute_result"
    }
   ],
   "source": [
    "obs = batch_to_options(dataset[:,1:,1:] - dataset[:,:-1,1:], 3)\n",
    "obs = np.reshape(obs, [obs.shape[0], -1])\n",
    "obs.shape"
   ]
  },
  {
   "cell_type": "code",
   "execution_count": 68,
   "metadata": {},
   "outputs": [],
   "source": [
    "corr = np.cov(actions.T, obs.T)\n",
    "# plt.imshow(np.sqrt(np.abs(corr)), interpolation='nearest', cmap='gray')"
   ]
  },
  {
   "cell_type": "code",
   "execution_count": 69,
   "metadata": {},
   "outputs": [],
   "source": [
    "u, s, v = np.linalg.svd(corr)"
   ]
  },
  {
   "cell_type": "code",
   "execution_count": 70,
   "metadata": {},
   "outputs": [
    {
     "data": {
      "text/plain": [
       "<BarContainer object of 39 artists>"
      ]
     },
     "execution_count": 70,
     "metadata": {},
     "output_type": "execute_result"
    },
    {
     "data": {
      "image/png": "[encoded data removed]",
      "text/plain": [
       "<Figure size 432x288 with 1 Axes>"
      ]
     },
     "metadata": {
      "needs_background": "light"
     },
     "output_type": "display_data"
    }
   ],
   "source": [
    "plt.bar(range(len(s)), s)"
   ]
  },
  {
   "cell_type": "code",
   "execution_count": 71,
   "metadata": {
    "scrolled": false
   },
   "outputs": [
    {
     "data": {
      "image/png": "[encoded data removed]",
      "text/plain": [
       "<Figure size 432x288 with 1 Axes>"
      ]
     },
     "metadata": {
      "needs_background": "light"
     },
     "output_type": "display_data"
    },
    {
     "data": {
      "image/png": "[encoded data removed]",
      "text/plain": [
       "<Figure size 432x288 with 1 Axes>"
      ]
     },
     "metadata": {
      "needs_background": "light"
     },
     "output_type": "display_data"
    },
    {
     "data": {
      "image/png": "[encoded data removed]",
      "text/plain": [
       "<Figure size 432x288 with 1 Axes>"
      ]
     },
     "metadata": {
      "needs_background": "light"
     },
     "output_type": "display_data"
    },
    {
     "data": {
      "image/png": "[encoded data removed]",
      "text/plain": [
       "<Figure size 432x288 with 1 Axes>"
      ]
     },
     "metadata": {
      "needs_background": "light"
     },
     "output_type": "display_data"
    },
    {
     "data": {
      "image/png": "[encoded data removed]",
      "text/plain": [
       "<Figure size 432x288 with 1 Axes>"
      ]
     },
     "metadata": {
      "needs_background": "light"
     },
     "output_type": "display_data"
    },
    {
     "data": {
      "image/png": "[encoded data removed]",
      "text/plain": [
       "<Figure size 432x288 with 1 Axes>"
      ]
     },
     "metadata": {
      "needs_background": "light"
     },
     "output_type": "display_data"
    },
    {
     "data": {
      "image/png": "[encoded data removed]",
      "text/plain": [
       "<Figure size 432x288 with 1 Axes>"
      ]
     },
     "metadata": {
      "needs_background": "light"
     },
     "output_type": "display_data"
    },
    {
     "data": {
      "image/png": "[encoded data removed]",
      "text/plain": [
       "<Figure size 432x288 with 1 Axes>"
      ]
     },
     "metadata": {
      "needs_background": "light"
     },
     "output_type": "display_data"
    },
    {
     "data": {
      "image/png": "[encoded data removed]",
      "text/plain": [
       "<Figure size 432x288 with 1 Axes>"
      ]
     },
     "metadata": {
      "needs_background": "light"
     },
     "output_type": "display_data"
    },
    {
     "data": {
      "image/png": "[encoded data removed]",
      "text/plain": [
       "<Figure size 432x288 with 1 Axes>"
      ]
     },
     "metadata": {
      "needs_background": "light"
     },
     "output_type": "display_data"
    }
   ],
   "source": [
    "for i in range(10):\n",
    "    # these are not interpretable... want to use atari. but obs space is too big...\n",
    "    D = np.zeros([u.shape[0], v.shape[0]])\n",
    "    D[i,i] = s[i]\n",
    "    rankoneproj = np.dot(np.dot(u, D), v)\n",
    "    plt.figure()\n",
    "    plt.imshow(rankoneproj, interpolation='nearest', cmap='gray')"
   ]
  },
  {
   "cell_type": "code",
   "execution_count": 72,
   "metadata": {},
   "outputs": [
    {
     "data": {
      "text/plain": [
       "(39, 39)"
      ]
     },
     "execution_count": 72,
     "metadata": {},
     "output_type": "execute_result"
    }
   ],
   "source": [
    "corr.shape"
   ]
  },
  {
   "cell_type": "code",
   "execution_count": null,
   "metadata": {},
   "outputs": [],
   "source": []
  }
 ],
 "metadata": {
  "kernelspec": {
   "display_name": "Python (venv)",
   "language": "python",
   "name": "venv"
  },
  "language_info": {
   "codemirror_mode": {
    "name": "ipython",
    "version": 3
   },
   "file_extension": ".py",
   "mimetype": "text/x-python",
   "name": "python",
   "nbconvert_exporter": "python",
   "pygments_lexer": "ipython3",
   "version": "3.6.7"
  }
 },
 "nbformat": 4,
 "nbformat_minor": 2
}
