{
 "cells": [
  {
   "cell_type": "code",
   "execution_count": 1,
   "metadata": {},
   "outputs": [],
   "source": [
    "import tensorflow as tf\n",
    "import matplotlib.pyplot as plt\n",
    "import numpy as np\n",
    "import gym"
   ]
  },
  {
   "cell_type": "code",
   "execution_count": 2,
   "metadata": {},
   "outputs": [],
   "source": [
    "tf.enable_eager_execution()"
   ]
  },
  {
   "cell_type": "code",
   "execution_count": 3,
   "metadata": {},
   "outputs": [
    {
     "name": "stderr",
     "output_type": "stream",
     "text": [
      "Using numpy backend.\n"
     ]
    }
   ],
   "source": [
    "import tensorly as tl\n",
    "from tensorly.decomposition import tucker "
   ]
  },
  {
   "cell_type": "markdown",
   "metadata": {},
   "source": [
    "Why is this hard to think about!?\n",
    "\n",
    "Want to find temporally abstract patterns between observations, actions and rewards."
   ]
  },
  {
   "cell_type": "code",
   "execution_count": 4,
   "metadata": {},
   "outputs": [],
   "source": [
    "env = gym.make('LunarLander-v2')"
   ]
  },
  {
   "cell_type": "code",
   "execution_count": 20,
   "metadata": {},
   "outputs": [],
   "source": [
    "def play_episode(player, env, len_episode=100):\n",
    "    obs = env.reset()\n",
    "    trajectory = []\n",
    "    old_obs = obs\n",
    "    done = False\n",
    "    \n",
    "    # need fixed length trajectories\n",
    "    for _ in range(len_episode):\n",
    "        if not done:\n",
    "            a = player(obs)\n",
    "            obs, r, done, info = env.step(a)\n",
    "            \n",
    "        else:  # pad with zeros\n",
    "            a = 0\n",
    "            obs, r, done, info = (np.zeros(8), 0, done, None)\n",
    "            \n",
    "        trajectory.append(np.concatenate([np.array([a]), old_obs, np.array([r])]))\n",
    "        old_obs = obs\n",
    "    return np.vstack(trajectory)"
   ]
  },
  {
   "cell_type": "code",
   "execution_count": 21,
   "metadata": {},
   "outputs": [
    {
     "name": "stdout",
     "output_type": "stream",
     "text": [
      "Total possible trajectories = 1267650600228229401496703205376\n"
     ]
    }
   ],
   "source": [
    "len_episode = 50\n",
    "n_actions = 4\n",
    "n_possible_trajectories = n_actions**len_episode\n",
    "print('Total possible trajectories = {}'.format(n_possible_trajectories))"
   ]
  },
  {
   "cell_type": "code",
   "execution_count": 22,
   "metadata": {},
   "outputs": [],
   "source": [
    "trajectory = play_episode(lambda *args: env.action_space.sample(), env, len_episode)"
   ]
  },
  {
   "cell_type": "code",
   "execution_count": 23,
   "metadata": {},
   "outputs": [],
   "source": [
    "# generate dataset using rnd policy\n",
    "dataset = np.stack([play_episode(lambda *args: env.action_space.sample(), env, len_episode)\n",
    "                      for _ in range(1000)], axis=0)"
   ]
  },
  {
   "cell_type": "code",
   "execution_count": 24,
   "metadata": {},
   "outputs": [
    {
     "data": {
      "text/plain": [
       "(1000, 50, 10)"
      ]
     },
     "execution_count": 24,
     "metadata": {},
     "output_type": "execute_result"
    }
   ],
   "source": [
    "dataset.shape"
   ]
  },
  {
   "cell_type": "code",
   "execution_count": 10,
   "metadata": {},
   "outputs": [],
   "source": [
    "actions = dataset[:,1:,0]\n",
    "actions = tf.constant(actions, dtype=tf.int32)\n",
    "actions = tf.one_hot(actions, axis=-1, depth=4, off_value=0.0,on_value=1.0)\n",
    "actions = actions.numpy()"
   ]
  },
  {
   "cell_type": "code",
   "execution_count": 26,
   "metadata": {},
   "outputs": [
    {
     "name": "stdout",
     "output_type": "stream",
     "text": [
      "(1000, 49, 4) (1000, 49, 8)\n"
     ]
    }
   ],
   "source": [
    "# should use difference in observations/state?\n",
    "# actions wouldnt necessarily correlate with absolute obs\n",
    "# could have the same trajectory, with zero correlation bc different starting pts!?\n",
    "obs = dataset[:,1:,1:-1] - dataset[:,:-1,1:-1]\n",
    "print(actions.shape, obs.shape)"
   ]
  },
  {
   "cell_type": "code",
   "execution_count": 34,
   "metadata": {},
   "outputs": [],
   "source": [
    "R = np.sum(dataset[:,1:,-1], axis=-1)\n",
    "R.shape"
   ]
  },
  {
   "cell_type": "code",
   "execution_count": 28,
   "metadata": {},
   "outputs": [],
   "source": [
    "# what are we trying to do here?\n",
    "# are there any patterns between the trajectory of actions and the observations?!?\n",
    "corr = np.einsum('ijk,ijl->jkl', actions, obs)\n",
    "corr /= dataset.shape[0]  # need to normalise!?"
   ]
  },
  {
   "cell_type": "code",
   "execution_count": 29,
   "metadata": {},
   "outputs": [
    {
     "data": {
      "text/plain": [
       "(49, 4, 8)"
      ]
     },
     "execution_count": 29,
     "metadata": {},
     "output_type": "execute_result"
    }
   ],
   "source": [
    "corr.shape"
   ]
  },
  {
   "cell_type": "code",
   "execution_count": 30,
   "metadata": {},
   "outputs": [],
   "source": [
    "C, G = tucker(tensor=corr)"
   ]
  },
  {
   "cell_type": "code",
   "execution_count": 31,
   "metadata": {},
   "outputs": [
    {
     "data": {
      "text/plain": [
       "((49, 4, 8), [(49, 49), (4, 4), (8, 8)])"
      ]
     },
     "execution_count": 31,
     "metadata": {},
     "output_type": "execute_result"
    }
   ],
   "source": [
    "C.shape, [g.shape for g in G]"
   ]
  },
  {
   "cell_type": "code",
   "execution_count": 32,
   "metadata": {},
   "outputs": [
    {
     "data": {
      "text/plain": [
       "<matplotlib.image.AxesImage at 0x7f5140264438>"
      ]
     },
     "execution_count": 32,
     "metadata": {},
     "output_type": "execute_result"
    },
    {
     "data": {
      "image/png": "[encoded data removed]",
      "text/plain": [
       "<Figure size 432x288 with 1 Axes>"
      ]
     },
     "metadata": {
      "needs_background": "light"
     },
     "output_type": "display_data"
    }
   ],
   "source": [
    "out = np.einsum('ijk,li,jm->ij', C, G[0], G[1])\n",
    "# marginalise over g[-1] the observations\n",
    "plt.imshow(out)"
   ]
  },
  {
   "cell_type": "code",
   "execution_count": null,
   "metadata": {},
   "outputs": [],
   "source": [
    "n"
   ]
  }
 ],
 "metadata": {
  "kernelspec": {
   "display_name": "venv",
   "language": "python",
   "name": "venv"
  },
  "language_info": {
   "codemirror_mode": {
    "name": "ipython",
    "version": 3
   },
   "file_extension": ".py",
   "mimetype": "text/x-python",
   "name": "python",
   "nbconvert_exporter": "python",
   "pygments_lexer": "ipython3",
   "version": "3.6.6"
  }
 },
 "nbformat": 4,
 "nbformat_minor": 2
}
