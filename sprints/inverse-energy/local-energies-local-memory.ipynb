{
 "cells": [
  {
   "cell_type": "code",
   "execution_count": 2,
   "metadata": {},
   "outputs": [],
   "source": [
    "import gym\n",
    "import numpy as np\n",
    "\n",
    "import tensorflow as tf\n",
    "import sonnet as snt\n",
    "import tensorflow_probability as tfp\n",
    "tfd = tfp.distributions\n",
    "\n",
    "tf.enable_eager_execution()"
   ]
  },
  {
   "cell_type": "code",
   "execution_count": 66,
   "metadata": {},
   "outputs": [],
   "source": [
    "embedding_dim = 4\n",
    "memory_dim = 8\n",
    "n_memory_dims = 4"
   ]
  },
  {
   "cell_type": "code",
   "execution_count": 67,
   "metadata": {},
   "outputs": [
    {
     "name": "stderr",
     "output_type": "stream",
     "text": [
      "/home/act65/anaconda3/lib/python3.6/site-packages/gym/envs/registration.py:14: DeprecationWarning: Parameters to load are deprecated.  Call .resolve and .require separately.\n",
      "  result = entry_point.load(False)\n"
     ]
    }
   ],
   "source": [
    "env = gym.make('CartPole-v0')"
   ]
  },
  {
   "cell_type": "code",
   "execution_count": 68,
   "metadata": {},
   "outputs": [],
   "source": [
    "# [Cart Position, Cart Velocity, Pole Angle , Pole Velocity At Tip]\n",
    "obs = env.reset()"
   ]
  },
  {
   "cell_type": "code",
   "execution_count": 69,
   "metadata": {},
   "outputs": [],
   "source": [
    "encoder = tf.keras.Sequential([\n",
    "    tf.keras.layers.Dense(16, activation=tf.nn.selu),\n",
    "    tf.keras.layers.Dense(16, activation=tf.nn.selu),\n",
    "    tf.keras.layers.Dense(embedding_dim),\n",
    "])\n",
    "# encode into a space where"
   ]
  },
  {
   "cell_type": "code",
   "execution_count": 70,
   "metadata": {},
   "outputs": [],
   "source": [
    "vq_vae = snt.nets.VectorQuantizer(\n",
    "  embedding_dim=embedding_dim,\n",
    "  num_embeddings=30,\n",
    "  commitment_cost=1)"
   ]
  },
  {
   "cell_type": "code",
   "execution_count": 73,
   "metadata": {},
   "outputs": [],
   "source": [
    "h = encoder(tf.constant(obs, shape=[1, 4], dtype=tf.float32))\n",
    "vq_results = vq_vae(h, True) \n",
    "# want to generalise to more dims\n",
    "# also want to minimise its entropy. introduce more structure!\n",
    "# needs to return a neighborhood. not just a single one?\n",
    "z = vq_results['quantize']"
   ]
  },
  {
   "cell_type": "code",
   "execution_count": 88,
   "metadata": {},
   "outputs": [],
   "source": [
    " # extract neighborhoods\n",
    "idx = vq_results['encoding_indices'][0]\n",
    "neighbors = tf.nn.embedding_lookup(tf.transpose(vq_vae.embeddings), [idx-1, idx, idx+1])"
   ]
  },
  {
   "cell_type": "code",
   "execution_count": 92,
   "metadata": {},
   "outputs": [],
   "source": [
    "energy_fn = tf.keras.Sequential([\n",
    "    tf.keras.layers.Dense(16, activation=tf.nn.selu),\n",
    "    tf.keras.layers.Dense(16, activation=tf.nn.selu),\n",
    "    tf.keras.layers.Dense(1),\n",
    "])"
   ]
  },
  {
   "cell_type": "code",
   "execution_count": 100,
   "metadata": {},
   "outputs": [],
   "source": [
    "global_state = None\n",
    "neighbors = fn(global_state)\n",
    "energies = energy_fn(neighbors)\n",
    "\n",
    "# linear comb from probabilities. or could sample. but it needs to be differentiable\n",
    "dist = tfd.RelaxedOneHotCategorical(1.0, logits=energies)\n",
    "next_state_idx = dist.sample()\n",
    "next_state = tf.matmul(states, next_state_idx)"
   ]
  },
  {
   "cell_type": "code",
   "execution_count": 108,
   "metadata": {},
   "outputs": [],
   "source": [
    "# 2 types of neighbor\n",
    "# - the local energies\n",
    "# - the neighboring states\n",
    "\n",
    "# but these are related!?\n",
    "# the likely neighboring states are determined by the local energies!?"
   ]
  },
  {
   "cell_type": "code",
   "execution_count": 107,
   "metadata": {},
   "outputs": [],
   "source": [
    "# same energy fn is applied to all neighborhoods\n",
    "# neighborhoods are indexed by current observation\n",
    "\n",
    "# want: energy fn doesnt get access to the global state. \n",
    "# rather works locally. aka the global state is locally structured. "
   ]
  },
  {
   "cell_type": "code",
   "execution_count": null,
   "metadata": {},
   "outputs": [],
   "source": []
  }
 ],
 "metadata": {
  "kernelspec": {
   "display_name": "Python 3",
   "language": "python",
   "name": "python3"
  },
  "language_info": {
   "codemirror_mode": {
    "name": "ipython",
    "version": 3
   },
   "file_extension": ".py",
   "mimetype": "text/x-python",
   "name": "python",
   "nbconvert_exporter": "python",
   "pygments_lexer": "ipython3",
   "version": "3.6.5"
  }
 },
 "nbformat": 4,
 "nbformat_minor": 2
}
