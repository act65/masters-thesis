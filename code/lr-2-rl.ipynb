{
 "cells": [
  {
   "cell_type": "markdown",
   "metadata": {},
   "source": [
    "Want a simple example of learning to reinforcement learn.\n",
    "\n",
    "https://arxiv.org/abs/1611.05763\n",
    "\n",
    "\n",
    "https://hackernoon.com/learning-policies-for-learning-policies-meta-reinforcement-learning-rl%C2%B2-in-tensorflow-b15b592a2ddf"
   ]
  },
  {
   "cell_type": "code",
   "execution_count": 1,
   "metadata": {},
   "outputs": [],
   "source": [
    "import numpy as np\n",
    "import tensorflow as tf\n",
    "import trfl\n",
    "\n",
    "import tensorflow_probability as tfp\n",
    "tfd = tfp.distributions\n",
    "tf.enable_eager_execution()\n",
    "\n",
    "import matplotlib.pyplot as plt"
   ]
  },
  {
   "cell_type": "code",
   "execution_count": 2,
   "metadata": {},
   "outputs": [],
   "source": [
    "class Env():\n",
    "    \"\"\"\n",
    "    A super simple environment to play with.\n",
    "    A multi-armed bandit.\n",
    "    \"\"\"\n",
    "    def __init__(self, n_bandits, maxsteps=100):\n",
    "        self.n_bandits = n_bandits\n",
    "        self.means = np.random.standard_normal(n_bandits)\n",
    "        self.stddev = np.abs(np.random.standard_normal(n_bandits))\n",
    "        \n",
    "        self.reset()\n",
    "        self.maxsteps = maxsteps\n",
    "        \n",
    "    def step(self, action):\n",
    "        reward = self.means[action] + self.stddev[action] * 0.1*np.random.standard_normal()\n",
    "        \n",
    "        if self.timestep >= self.maxsteps-1:\n",
    "            done = True\n",
    "            self.reset()\n",
    "        else:\n",
    "            done = False\n",
    "            self.timestep += 1\n",
    "            \n",
    "        return None, reward, done\n",
    "    \n",
    "    def reset(self):\n",
    "        self.timestep = 0\n",
    "        return None, 0, False\n",
    "    \n",
    "    def show(self):\n",
    "        plt.figure(figsize=(8, 4))\n",
    "        plt.title('Bandit arm values')\n",
    "        plt.bar(range(self.n_bandits), self.means, 0.5, yerr=self.stddev)\n",
    "        plt.xlabel('Arms')\n",
    "        plt.ylabel('Payoff')"
   ]
  },
  {
   "cell_type": "code",
   "execution_count": 3,
   "metadata": {},
   "outputs": [
    {
     "data": {
      "image/png": "[encoded data removed]",
      "text/plain": [
       "<Figure size 576x288 with 1 Axes>"
      ]
     },
     "metadata": {
      "needs_background": "light"
     },
     "output_type": "display_data"
    }
   ],
   "source": [
    "n_arms = 10\n",
    "bandit = Env(n_arms)\n",
    "bandit.show()"
   ]
  },
  {
   "cell_type": "code",
   "execution_count": 4,
   "metadata": {},
   "outputs": [],
   "source": [
    "class Memory():\n",
    "    def __init__(self):\n",
    "        self.mem = {}\n",
    "        self.counter = 0\n",
    "    \n",
    "    def append(self, x):\n",
    "        self.mem[self.counter] = x\n",
    "        self.counter += 1\n",
    "            \n",
    "    def get_batch(self, batch_size):\n",
    "        idxs = np.random.randint(0,len(self.mem), batch_size)\n",
    "        batch = [self.mem[idx] for idx in idxs]  # a list of [[obs_s, a_s, r_s], ...]\n",
    "        return [np.stack(arr, axis=0) for arr in zip(*batch)]\n",
    "    \n",
    "    @property\n",
    "    def size(self):\n",
    "        return len(self.mem)"
   ]
  },
  {
   "cell_type": "code",
   "execution_count": 5,
   "metadata": {},
   "outputs": [
    {
     "data": {
      "text/plain": [
       "[array([2, 2, 2]), array([3, 3, 3]), array([4, 4, 4])]"
      ]
     },
     "execution_count": 5,
     "metadata": {},
     "output_type": "execute_result"
    }
   ],
   "source": [
    "M = Memory()\n",
    "for _ in range(10):\n",
    "    M.append([2,3,4])\n",
    "\n",
    "M.mem\n",
    "list(M.get_batch(3))"
   ]
  },
  {
   "cell_type": "code",
   "execution_count": 6,
   "metadata": {},
   "outputs": [],
   "source": [
    "# \"\"\"\n",
    "# Want to baseline agaisnt a simple UCB learner with hparam tuning.\n",
    "# \"\"\"\n",
    "\n",
    "# # utils\n",
    "# def onehot(idx, N):\n",
    "#     return np.eye(N)[idx]\n",
    "\n",
    "# def softmax(x):\n",
    "#     return np.exp(x)/np.sum(np.exp(x))\n",
    "\n",
    "# class QLeaner():\n",
    "#     def __init__(self, n_states, n_actions, util_fn):\n",
    "#         self.gamma = 0.9\n",
    "#         self.lr = 0.001\n",
    "#         self.util_fn = util_fn\n",
    "\n",
    "#         self.qs = np.zeros([n_states, n_actions])\n",
    "        \n",
    "#         self.old_s = None\n",
    "#         self.old_a = None\n",
    "#         self.old_r = None\n",
    "    \n",
    "#     def __call__(self, s, r, done):\n",
    "#         a = self.util_fn(s, self.qs)\n",
    "        \n",
    "#         if self.old_s is not None:\n",
    "#             self.train_step(self.old_s, self.old_a, self.old_r, s, a)\n",
    "                \n",
    "#         # loop past observations so we can use them for training\n",
    "#         self.old_s = s\n",
    "#         self.old_a = a\n",
    "#         self.old_r = r\n",
    "                \n",
    "#         return a\n",
    "    \n",
    "#     def train_step(self, old_s, old_a, old_r, s, a):\n",
    "#         target = (old_r + self.gamma*self.qs[s, a])  # bootstrap off next step. TD!\n",
    "#         # wait a minute. in https://arxiv.org/abs/1807.03765 they actually update \n",
    "#         # the q values with the uncertainty estimates. delta + bt. hmph\n",
    "#         # why would you combine them??? \n",
    "#         # oh. If you dont combine them then you are doing offpolicy...!?\n",
    "#         delta =  target - self.qs[old_s, old_a]\n",
    "#         self.qs[old_s, old_a] += self.lr * delta  # incremental update. exp avg/GD!\n",
    "        \n",
    "# class UCB_Hoeffding():\n",
    "#     def __init__(self, n_states, action_space):\n",
    "#         self.counts = np.zeros([n_states, len(action_space)])\n",
    "#         self.action_space = action_space\n",
    "\n",
    "#     def __call__(self, s, qs):\n",
    "#         if s is None:\n",
    "#             s = 0\n",
    "#         util = qs[s, ...] + 1/np.sqrt(self.counts[s, ...]+1)  # utility = exploit + explore\n",
    "#         p = softmax(util)\n",
    "#         a = np.random.choice(self.action_space, p=p)\n",
    "\n",
    "#         self.counts[s, a] += 1\n",
    "\n",
    "#         return a\n",
    "    \n",
    "# player = QLeaner(1, 5, UCB_Hoeffding(1, list(range(5))))\n",
    "# rs = eval_player(bandit, player, 2000)\n",
    "# plt.plot(rs)"
   ]
  },
  {
   "cell_type": "code",
   "execution_count": 24,
   "metadata": {},
   "outputs": [
    {
     "name": "stdout",
     "output_type": "stream",
     "text": [
      "[TensorShape([Dimension(2), Dimension(5)]), TensorShape([Dimension(2), Dimension(5)]), TensorShape([Dimension(2), Dimension(5)]), TensorShape([Dimension(2), Dimension(5)]), TensorShape([Dimension(2), Dimension(5)]), TensorShape([Dimension(2), Dimension(5)]), TensorShape([Dimension(2), Dimension(5)]), TensorShape([Dimension(2), Dimension(5)]), TensorShape([Dimension(2), Dimension(5)]), TensorShape([Dimension(2), Dimension(5)])]\n"
     ]
    }
   ],
   "source": [
    "class RNN():\n",
    "    \"\"\"\n",
    "    Handles sharing parameters between worker and learner RNNs.\n",
    "    Need to be able to run the RNN for next step prediction, and end to end training.\n",
    "    \"\"\"\n",
    "    def __init__(self, n_hidden, batch_size):\n",
    "        self.cell = tf.nn.rnn_cell.LSTMCell(n_hidden)\n",
    "        self.reset_state(batch_size)\n",
    "        self.variables = self.cell.variables\n",
    "\n",
    "    def __call__(self, x):   \n",
    "        # TODO want deep RNN\n",
    "        ys = []\n",
    "        for t in range(x.shape[1]):\n",
    "            y, self.state = self.cell(x[:, t, :], state=self.state)\n",
    "            ys.append(y)\n",
    "        return ys\n",
    "    \n",
    "    def step(self, x, state):\n",
    "        return self.cell(x, state=state) \n",
    "    \n",
    "    def reset_state(self, batch_size):\n",
    "        self.state = self.cell.zero_state(batch_size=batch_size, dtype=tf.float32)\n",
    "        return self.state\n",
    "    \n",
    "    \n",
    "rnn = RNN(5, 2)\n",
    "inputs = tf.random_normal([2, 10, 2])\n",
    "output = rnn(inputs)\n",
    "print([o.shape for o in output])\n",
    "\n",
    "# output, state = rnn.step(inputs[0:1, 0, :], rnn.reset_state(1))\n",
    "# print(output.shape)"
   ]
  },
  {
   "cell_type": "code",
   "execution_count": 25,
   "metadata": {},
   "outputs": [],
   "source": [
    "class Worker():\n",
    "    def __init__(self, learner, batch_size):\n",
    "        self.buffer = Memory()\n",
    "        self.trajectory = []\n",
    "        \n",
    "        self.learner = learner\n",
    "        self.batch_size = batch_size\n",
    "    \n",
    "    def __call__(self, x, r, done, is_training=True):\n",
    "        if x is None:\n",
    "            x = 0\n",
    "        # call policy and take action\n",
    "        a, _ = self.learner(x, r)\n",
    "        \n",
    "        # add experience to buffer\n",
    "        if done:\n",
    "            self.buffer.append([np.stack(arr, axis=0) for arr in zip(*self.trajectory)])\n",
    "            self.trajectory = []\n",
    "        else:\n",
    "            # current obs, current action, old reward\n",
    "            self.trajectory.append([x, a, r])\n",
    "            \n",
    "        # train\n",
    "        if self.buffer.size > self.batch_size and done and is_training:\n",
    "            # runs a training step every episode\n",
    "            self.learner.train_step(*self.buffer.get_batch(self.batch_size))\n",
    "            \n",
    "        return a"
   ]
  },
  {
   "cell_type": "code",
   "execution_count": 26,
   "metadata": {},
   "outputs": [],
   "source": [
    "def discrete_reparam(x):\n",
    "    return tfd.OneHotCategorical(logits=x).sample()\n",
    "\n",
    "class ActorCritic():\n",
    "    def __init__(self, n_actions, time_steps, batch_size):\n",
    "        self.n_actions = n_actions\n",
    "        self.batch_size = batch_size\n",
    "        self.time_steps = time_steps\n",
    "        \n",
    "        self.rnn = RNN(128, batch_size=batch_size)\n",
    "        self.nn = tf.keras.Sequential([\n",
    "            tf.keras.layers.Dense(64, activation=tf.nn.selu),\n",
    "            tf.keras.layers.Dense(n_actions+1)\n",
    "        ])\n",
    "        self.state = self.rnn.reset_state(1)\n",
    "        self.a_old = tf.constant(0, shape=[1, 1], dtype=tf.float32)\n",
    "        \n",
    "        self.opt = tf.train.AdamOptimizer()\n",
    "        self.global_step = tf.train.get_or_create_global_step()\n",
    "        \n",
    "    def forward(self, inputs):\n",
    "        \"\"\"\n",
    "        A forward function for BPTT.\n",
    "        The key is that we need to be able to differentiate wrt all inputs.\n",
    "        \"\"\"\n",
    "        # QUESTION how can the net explore? cannot take random actions\n",
    "        # as it is a deterministic fn of its inputs.\n",
    "        # it could enumerate the different actions and try each!?\n",
    "        self.rnn.reset_state(self.batch_size)\n",
    "        hs = self.rnn(inputs)\n",
    "        # BUG gradients are not working!!! why!?\n",
    "        zs = tf.stack(list(map(self.nn, hs)), axis=0)\n",
    "        return zs[:, :,:self.n_actions], zs[:, :,self.n_actions:]\n",
    "        \n",
    "    def train_step(self, x, a, r):\n",
    "        \"\"\"\n",
    "        Train on a batch of data.\n",
    "        \n",
    "        x: (B, T)\n",
    "        a: (B, T)\n",
    "        r: (B, T)\n",
    "        \"\"\"\n",
    "        x = tf.constant(x, shape=[self.batch_size, self.time_steps, 1], dtype=tf.float32)\n",
    "        a = tf.constant(a, shape=[self.batch_size, self.time_steps, 1], dtype=tf.float32)\n",
    "        r = tf.constant(r, shape=[self.batch_size, self.time_steps, 1], dtype=tf.float32)\n",
    "\n",
    "        # current obs, old action, old reward\n",
    "        inputs = tf.concat([x[:, 1:, :], a[:, :-1:, ], r[:, 1:, :]], axis=-1)\n",
    "\n",
    "        a = tf.transpose(tf.squeeze(tf.cast(a[:, 1:, :], tf.int32)))\n",
    "        r = tf.transpose(r[:, 1:, 0])\n",
    "\n",
    "        with tf.GradientTape() as tape:\n",
    "\n",
    "            logits, v = self.forward(inputs)\n",
    "            policy_loss, extra = trfl.sequence_advantage_actor_critic_loss(\n",
    "                policy_logits=logits, baseline_values=v[..., 0], actions=a, \n",
    "                rewards=r, pcontinues=tf.ones_like(r), bootstrap_value=tf.reduce_sum(r, axis=0))\n",
    "            policy_loss = tf.reduce_mean(extra.policy_gradient_loss)\n",
    "            value_loss = tf.reduce_mean(extra.baseline_loss) \n",
    "            # tf.losses.mean_squared_error(extra.discounted_returns, v[..., 0])\n",
    "            \n",
    "        # BUG. rnn grads not working\n",
    "        grads = tape.gradient([value_loss, policy_loss, value_loss, policy_loss], \n",
    "                              [self.nn.variables, self.nn.variables, self.rnn.variables, self.rnn.variables])\n",
    "        gnvs = [(g, v) for grad, var in zip(grads, [self.nn.variables, self.nn.variables]) for g, v in zip(grad, var)]\n",
    "        self.opt.apply_gradients(gnvs, global_step=self.global_step)\n",
    "\n",
    "                    \n",
    "    def __call__(self, x, r):\n",
    "        \"\"\"\n",
    "        Choose actions online. Use the current parameters to choose an action.\n",
    "        Keep the state from the last choice.\n",
    "        \"\"\"\n",
    "        # current observation/state (x) and the r from t-1.\n",
    "        x = tf.constant(x, shape=[1, 1], dtype=tf.float32)\n",
    "        r = tf.constant(x, shape=[1, 1], dtype=tf.float32)\n",
    "\n",
    "        inputs = tf.concat([x, self.a_old, r], axis=1)\n",
    "        h, self.state = self.rnn.step(inputs, self.state)\n",
    "        \n",
    "        z = self.nn(h)\n",
    "        a = tf.squeeze(tf.argmax(discrete_reparam(z[..., :-1]), axis=1))\n",
    "        v = z[..., -1:]\n",
    "        return a, v"
   ]
  },
  {
   "cell_type": "code",
   "execution_count": 27,
   "metadata": {},
   "outputs": [],
   "source": [
    "def play_episode(player, env, is_training):\n",
    "    obs, r, done = env.reset()\n",
    "    total_R = 0\n",
    "    while not done:\n",
    "        a = player(obs, r, done, is_training)\n",
    "        obs, r, done = env.step(a)\n",
    "        total_R += r\n",
    "    a = player(obs, r, done)\n",
    "    return total_R"
   ]
  },
  {
   "cell_type": "code",
   "execution_count": 28,
   "metadata": {},
   "outputs": [],
   "source": [
    "def eval_player(env, player, n_episodes, is_training=True):\n",
    "    \"\"\"\n",
    "    Args:\n",
    "        env: must have a callable env.step fn that takes [state x action)s and returns (new_state, reward)\n",
    "        player: a callable fn that returns actions given the current state\n",
    "        \n",
    "    Returns:\n",
    "        Rs: Rewards as a fn of time\n",
    "    \"\"\"\n",
    "    Rs = []\n",
    "    for i in range(n_episodes):\n",
    "\n",
    "        r = play_episode(player, env, is_training)\n",
    "        Rs.append(r)\n",
    "\n",
    "        print('\\rStep: {}, R: {}'.format(i, r), end='', flush=True)\n",
    "\n",
    "    return Rs"
   ]
  },
  {
   "cell_type": "code",
   "execution_count": null,
   "metadata": {},
   "outputs": [
    {
     "name": "stdout",
     "output_type": "stream",
     "text": [
      "Step: 394, R: 76.170436582987132"
     ]
    }
   ],
   "source": [
    "player = Worker(ActorCritic(n_arms, batch_size=50, time_steps=100), 50)\n",
    "rs = eval_player(bandit, player, 500)\n",
    "plt.plot(rs)"
   ]
  },
  {
   "cell_type": "code",
   "execution_count": null,
   "metadata": {},
   "outputs": [],
   "source": [
    "# make a new bandit and evaluate\n",
    "bandit = Env(n_arms)\n",
    "rs = eval_player(bandit, player, 100, is_training=False)\n",
    "plt.plot(rs)"
   ]
  },
  {
   "cell_type": "code",
   "execution_count": 13,
   "metadata": {},
   "outputs": [
    {
     "name": "stdout",
     "output_type": "stream",
     "text": [
      "Step: 399, R: -2.75787198537116683"
     ]
    },
    {
     "data": {
      "text/plain": [
       "[<matplotlib.lines.Line2D at 0x7ff04c38ff28>]"
      ]
     },
     "execution_count": 13,
     "metadata": {},
     "output_type": "execute_result"
    },
    {
     "data": {
      "image/png": "[encoded data removed]",
      "text/plain": [
       "<Figure size 432x288 with 1 Axes>"
      ]
     },
     "metadata": {
      "needs_background": "light"
     },
     "output_type": "display_data"
    }
   ],
   "source": [
    "player = lambda x, y, z: np.random.randint(0, n_arms)\n",
    "rs = eval_player(bandit, player, 500)\n",
    "plt.plot(rs)"
   ]
  },
  {
   "cell_type": "code",
   "execution_count": 18,
   "metadata": {},
   "outputs": [],
   "source": [
    "def eval_meta_player(player, n_episodes):\n",
    "    \"\"\"\n",
    "    Meta learning. We give the learner a new problem to solve every time.\n",
    "    We hope to see that as training progresses, the learner can solve them 'better'.\n",
    "    \"\"\"\n",
    "    Rs = []\n",
    "    for i in range(n_episodes):\n",
    "        bandit = Env(n_arms)  # a new env every time\n",
    "        r = eval_player(env=bandit, player=player, n_episodes=1)\n",
    "        r = sum(r)\n",
    "        Rs.append(r)\n",
    "        print('\\rStep: {}, R: {}'.format(i, r), end='', flush=True)\n",
    "\n",
    "    return Rs"
   ]
  },
  {
   "cell_type": "code",
   "execution_count": 19,
   "metadata": {},
   "outputs": [
    {
     "name": "stdout",
     "output_type": "stream",
     "text": [
      "Step: 399, R: -113.290255297607842"
     ]
    },
    {
     "data": {
      "text/plain": [
       "[<matplotlib.lines.Line2D at 0x7ff04c2b9b38>]"
      ]
     },
     "execution_count": 19,
     "metadata": {},
     "output_type": "execute_result"
    },
    {
     "data": {
      "image/png": "[encoded data removed]",
      "text/plain": [
       "<Figure size 432x288 with 1 Axes>"
      ]
     },
     "metadata": {
      "needs_background": "light"
     },
     "output_type": "display_data"
    }
   ],
   "source": [
    "player = Worker(ActorCritic(n_arms, batch_size=50, time_steps=100), 50)\n",
    "rs = eval_meta_player(player, 500)\n",
    "plt.plot(rs)"
   ]
  },
  {
   "cell_type": "code",
   "execution_count": null,
   "metadata": {},
   "outputs": [],
   "source": [
    "# how can you fairly evaluate this? \n",
    "# we have been training on the test data...!?"
   ]
  }
 ],
 "metadata": {
  "kernelspec": {
   "display_name": "venv",
   "language": "python",
   "name": "venv"
  },
  "language_info": {
   "codemirror_mode": {
    "name": "ipython",
    "version": 3
   },
   "file_extension": ".py",
   "mimetype": "text/x-python",
   "name": "python",
   "nbconvert_exporter": "python",
   "pygments_lexer": "ipython3",
   "version": "3.6.7"
  }
 },
 "nbformat": 4,
 "nbformat_minor": 2
}
