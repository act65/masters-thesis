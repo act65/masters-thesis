{
 "cells": [
  {
   "cell_type": "code",
   "execution_count": 1,
   "metadata": {},
   "outputs": [
    {
     "name": "stderr",
     "output_type": "stream",
     "text": [
      "/home/act65/anaconda3/lib/python3.6/site-packages/h5py/__init__.py:36: FutureWarning: Conversion of the second argument of issubdtype from `float` to `np.floating` is deprecated. In future, it will be treated as `np.float64 == np.dtype(float).type`.\n",
      "  from ._conv import register_converters as _register_converters\n",
      "/home/act65/anaconda3/lib/python3.6/site-packages/tensorflow/python/util/tf_inspect.py:75: DeprecationWarning: inspect.getargspec() is deprecated, use inspect.signature() or inspect.getfullargspec()\n",
      "  return _inspect.getargspec(target)\n",
      "/home/act65/anaconda3/lib/python3.6/importlib/_bootstrap.py:219: ImportWarning: can't resolve package from __spec__ or __package__, falling back on __name__ and __path__\n",
      "  return f(*args, **kwds)\n"
     ]
    }
   ],
   "source": [
    "import tensorflow as tf\n",
    "import sonnet as snt\n",
    "\n",
    "import matplotlib.pyplot as plt\n",
    "\n",
    "import graph_nets as gn\n",
    "import pgm"
   ]
  },
  {
   "cell_type": "code",
   "execution_count": 2,
   "metadata": {},
   "outputs": [],
   "source": [
    "model = pgm.PGM(lambda: pgm.linear_model_fn)"
   ]
  },
  {
   "cell_type": "code",
   "execution_count": 3,
   "metadata": {},
   "outputs": [],
   "source": [
    "def init_graph(dims, n_edges, n_nodes):\n",
    "    # random edge pairs: sender - receiver\n",
    "    with tf.variable_scope('init_graph_test'):\n",
    "        edges = tf.random_uniform(minval=0, maxval=n_nodes, dtype=tf.int32, shape=[n_edges//2, 2])\n",
    "        receivers = edges[:, 0]\n",
    "        senders = edges[:, 1]\n",
    "\n",
    "        edge_attr = tf.Variable(tf.random_normal([n_edges, dims, dims]))\n",
    "        graph = {\n",
    "              \"globals\": tf.random_normal([dims]),\n",
    "              \"nodes\": tf.random_normal([n_nodes, dims]),\n",
    "              \"edges\": edge_attr,\n",
    "              \"receivers\": tf.concat([edges[:, 0], edges[:, 1]], axis=0),\n",
    "              \"senders\": tf.concat([edges[:, 1], edges[:, 0]], axis=0),  # symmetric\n",
    "          }\n",
    "        return gn.utils_tf.data_dicts_to_graphs_tuple([graph])\n",
    "\n",
    "def set_input(x, graph):\n",
    "    nodes = tf.concat([x + graph.nodes[0, ...], \n",
    "                   graph.nodes[1:, ...]], \n",
    "                  axis=0)\n",
    "    return graph.replace(nodes=nodes)    "
   ]
  },
  {
   "cell_type": "code",
   "execution_count": 4,
   "metadata": {},
   "outputs": [],
   "source": [
    "input_graph = init_graph(dims=2,n_edges=32,n_nodes=3)\n",
    "x = tf.random_normal([1, 2])\n",
    "t = 3*x + 1\n",
    "graph = set_input(x, input_graph)\n",
    "for _ in range(3):\n",
    "    graph = model(graph)\n",
    "    \n",
    "y = graph.nodes[-1, ...]\n",
    "loss = tf.reduce_sum(tf.square(t - y))"
   ]
  },
  {
   "cell_type": "code",
   "execution_count": 5,
   "metadata": {},
   "outputs": [],
   "source": [
    "opt = tf.train.AdamOptimizer(0.01)\n",
    "gnvs = opt.compute_gradients(loss)\n",
    "train_step = opt.apply_gradients(gnvs, global_step=tf.train.get_or_create_global_step())"
   ]
  },
  {
   "cell_type": "code",
   "execution_count": 6,
   "metadata": {},
   "outputs": [
    {
     "name": "stdout",
     "output_type": "stream",
     "text": [
      "loss: 31.09215545654297"
     ]
    }
   ],
   "source": [
    "Losses = []\n",
    "\n",
    "with tf.Session() as sess:\n",
    "    sess.run(tf.global_variables_initializer())\n",
    "    \n",
    "    for _ in range(10000):\n",
    "        L, _ = sess.run([loss, train_step])\n",
    "        print('\\rloss: {}'.format(L), end='', flush=True)\n",
    "        Losses.append(L)\n",
    "        \n",
    "    L, Y, T = sess.run([loss, y, t])"
   ]
  },
  {
   "cell_type": "code",
   "execution_count": 7,
   "metadata": {},
   "outputs": [
    {
     "name": "stdout",
     "output_type": "stream",
     "text": [
      "3.0266893 [ 3.596105  -1.1416367] [[ 4.774403 -2.421599]]\n"
     ]
    }
   ],
   "source": [
    "print(L, Y, T)"
   ]
  },
  {
   "cell_type": "code",
   "execution_count": 8,
   "metadata": {},
   "outputs": [
    {
     "data": {
      "text/plain": [
       "[<matplotlib.lines.Line2D at 0x7f222c14ad68>]"
      ]
     },
     "execution_count": 8,
     "metadata": {},
     "output_type": "execute_result"
    },
    {
     "data": {
      "image/png": "[encoded data removed]",
      "text/plain": [
       "<Figure size 432x288 with 1 Axes>"
      ]
     },
     "metadata": {},
     "output_type": "display_data"
    }
   ],
   "source": [
    "plt.plot(Losses)"
   ]
  },
  {
   "cell_type": "code",
   "execution_count": null,
   "metadata": {},
   "outputs": [],
   "source": []
  }
 ],
 "metadata": {
  "kernelspec": {
   "display_name": "Python 3",
   "language": "python",
   "name": "python3"
  },
  "language_info": {
   "codemirror_mode": {
    "name": "ipython",
    "version": 3
   },
   "file_extension": ".py",
   "mimetype": "text/x-python",
   "name": "python",
   "nbconvert_exporter": "python",
   "pygments_lexer": "ipython3",
   "version": "3.6.5"
  }
 },
 "nbformat": 4,
 "nbformat_minor": 2
}
