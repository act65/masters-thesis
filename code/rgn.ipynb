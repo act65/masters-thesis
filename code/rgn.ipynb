{
 "cells": [
  {
   "cell_type": "code",
   "execution_count": 1,
   "metadata": {},
   "outputs": [
    {
     "name": "stderr",
     "output_type": "stream",
     "text": [
      "/home/act65/anaconda3/lib/python3.6/site-packages/h5py/__init__.py:36: FutureWarning: Conversion of the second argument of issubdtype from `float` to `np.floating` is deprecated. In future, it will be treated as `np.float64 == np.dtype(float).type`.\n",
      "  from ._conv import register_converters as _register_converters\n",
      "/home/act65/anaconda3/lib/python3.6/site-packages/tensorflow/python/util/tf_inspect.py:75: DeprecationWarning: inspect.getargspec() is deprecated, use inspect.signature() or inspect.getfullargspec()\n",
      "  return _inspect.getargspec(target)\n"
     ]
    }
   ],
   "source": [
    "import tensorflow as tf\n",
    "\n",
    "import graph_nets as gn\n",
    "from graph_nets import utils_tf\n",
    "\n",
    "import sonnet as snt\n",
    "tf.enable_eager_execution()"
   ]
  },
  {
   "cell_type": "code",
   "execution_count": 11,
   "metadata": {},
   "outputs": [],
   "source": [
    "def make_state_graph(dims, n_edges, n_nodes):\n",
    "    graph = {\n",
    "          \"globals\": tf.random_normal([dims]),\n",
    "          \"nodes\": tf.random_normal([n_nodes, dims]),\n",
    "          \"edges\": tf.random_normal([n_edges, dims]),\n",
    "          \"receivers\": tf.random_uniform(minval=0, maxval=n_nodes, dtype=tf.int32, shape=[n_edges]),\n",
    "          \"senders\": tf.random_uniform(minval=0, maxval=n_nodes, dtype=tf.int32, shape=[n_edges]),\n",
    "      }\n",
    "    return utils_tf.data_dicts_to_graphs_tuple([graph])\n",
    "\n",
    "state_graph = make_state_graph(dims=4, n_edges=16, n_nodes=8)"
   ]
  },
  {
   "cell_type": "code",
   "execution_count": 12,
   "metadata": {},
   "outputs": [],
   "source": [
    "def make_input_graph(dims, n_edges, n_nodes):\n",
    "    graph = {\n",
    "          \"globals\": tf.random_normal([dims]),\n",
    "          \"nodes\": tf.random_normal([n_nodes, dims]),\n",
    "          \"edges\": tf.random_normal([n_edges, dims]),\n",
    "          \"receivers\": tf.random_uniform(minval=0, maxval=n_nodes, dtype=tf.int32, shape=[n_edges]),\n",
    "          \"senders\": tf.random_uniform(minval=0, maxval=n_nodes, dtype=tf.int32, shape=[n_edges]),\n",
    "      }\n",
    "    return utils_tf.data_dicts_to_graphs_tuple([graph])\n",
    "\n",
    "# start with graphs being the same shape...\n",
    "input_graph = make_input_graph(dims=4, n_edges=16, n_nodes=8)"
   ]
  },
  {
   "cell_type": "code",
   "execution_count": null,
   "metadata": {},
   "outputs": [],
   "source": [
    "def graph_lstm(x, c):\n",
    "    # options;\n",
    "    # - apply a rnn to the nodes and edges independently!?\n",
    "    # - concat the nodes/edges and apply a GN to reduce back to the right size? \n",
    "    nodes_state, nodes = lstm(x.nodes, c.nodes)\n",
    "    edges_state, edges = lstm(x.edges, c.edges)\n",
    "    return new_graph(nodes=nodes, edges=edges)"
   ]
  },
  {
   "cell_type": "code",
   "execution_count": null,
   "metadata": {},
   "outputs": [],
   "source": [
    "state_graph, output = graph_lstm(input_graph, state_graph)"
   ]
  }
 ],
 "metadata": {
  "kernelspec": {
   "display_name": "Python 3",
   "language": "python",
   "name": "python3"
  },
  "language_info": {
   "codemirror_mode": {
    "name": "ipython",
    "version": 3
   },
   "file_extension": ".py",
   "mimetype": "text/x-python",
   "name": "python",
   "nbconvert_exporter": "python",
   "pygments_lexer": "ipython3",
   "version": "3.6.5"
  }
 },
 "nbformat": 4,
 "nbformat_minor": 2
}
