{
 "cells": [
  {
   "cell_type": "code",
   "execution_count": 1,
   "metadata": {},
   "outputs": [
    {
     "name": "stderr",
     "output_type": "stream",
     "text": [
      "/home/act65/anaconda3/lib/python3.6/site-packages/h5py/__init__.py:36: FutureWarning: Conversion of the second argument of issubdtype from `float` to `np.floating` is deprecated. In future, it will be treated as `np.float64 == np.dtype(float).type`.\n",
      "  from ._conv import register_converters as _register_converters\n",
      "/home/act65/anaconda3/lib/python3.6/site-packages/tensorflow/python/util/tf_inspect.py:75: DeprecationWarning: inspect.getargspec() is deprecated, use inspect.signature() or inspect.getfullargspec()\n",
      "  return _inspect.getargspec(target)\n"
     ]
    }
   ],
   "source": [
    "import tensorflow as tf\n",
    "import sonnet as snt\n",
    "import dnc\n",
    "import trfl\n",
    "from dnc import dnc\n",
    "# tf.enable_eager_execution()"
   ]
  },
  {
   "cell_type": "code",
   "execution_count": 2,
   "metadata": {},
   "outputs": [],
   "source": [
    "env = []\n",
    "# we could make it partial info by removing\n",
    "# the image of the player from the observations"
   ]
  },
  {
   "cell_type": "code",
   "execution_count": 9,
   "metadata": {},
   "outputs": [],
   "source": [
    "def local_idx(indexes, values):\n",
    "    \"\"\"\n",
    "    \n",
    "    \"\"\"\n",
    "    # BUG indexes is not differentiable!?\n",
    "    \n",
    "    \n",
    "    B = tf.shape(indexes)[0]\n",
    "    H = tf.shape(values)[0]\n",
    "    W = tf.shape(values)[1]\n",
    "    D = tf.shape(values)[2]\n",
    "    \n",
    "    # scale by shape of values\n",
    "    x_idx = indexes[:, 1]*tf.cast(W, tf.float32)\n",
    "    y_idx = indexes[:, 0]*tf.cast(H, tf.float32)\n",
    "\n",
    "    # cast to ints and construct indexes\n",
    "    idx = tf.stack([x_idx, y_idx], axis=-1)\n",
    "    idx = tf.cast(tf.round(idx), tf.int32)\n",
    "    # idx = [[x_idx, y_idx], ...]\n",
    "\n",
    "    values = tf.image.resize_image_with_crop_or_pad(\n",
    "        values, target_height=H+2, target_width=W+2)\n",
    "    \n",
    "    # TODO want a more general way to do this.\n",
    "    # for kernels of size N\n",
    "    x_shift = tf.stack([ #tf.zeros([B], dtype=tf.int32), \n",
    "                    tf.ones([B], dtype=tf.int32), \n",
    "                    tf.zeros([B], dtype=tf.int32)], \n",
    "                       axis=-1)\n",
    "    \n",
    "    y_shift = tf.stack([#tf.zeros([B], dtype=tf.int32), \n",
    "                        tf.zeros([B], dtype=tf.int32), \n",
    "                        tf.ones([B], dtype=tf.int32)], \n",
    "                       axis=-1)\n",
    "    \n",
    "    c = tf.gather_nd(values, idx)\n",
    "    l = tf.gather_nd(values, idx - x_shift)\n",
    "    r = tf.gather_nd(values, idx + x_shift)\n",
    "    t = tf.gather_nd(values, idx - y_shift)\n",
    "    b = tf.gather_nd(values, idx + y_shift)\n",
    "    \n",
    "    # TODO use a guassian kernel instead.\n",
    "    # and expore the variance as an argument.\n",
    "    v = 0.5*c + 0.1*l + 0.1*r + 0.1*t + 0.1*b\n",
    "    \n",
    "    return v\n",
    "    \n",
    "# B, H, W, D = (50, 12, 12, 8)\n",
    "# #     kernel = gaussian_kernel(1, indexes, 1.0)\n",
    "# indexes = tf.nn.sigmoid(tf.random_normal([B, 3]))  # x and y (and ?)\n",
    "# values = tf.random_normal([H, W, D])\n",
    "# local_idx(indexes, values)\n",
    "\n",
    "class SimpleMemory2D(snt.AbstractModule):\n",
    "    \"\"\"\n",
    "    A simple memory. Does not learn how to write to memory.\n",
    "    Only to read.\n",
    "    The content of the memory is trained via GD on the task.\n",
    "    \n",
    "    Want to test. \n",
    "    Q? If we give an agent 2D memory, and constrain it to be locally indexed,\n",
    "    then is the index an estimate of the agents location?\n",
    "    (and thus does structure of the memory match the environment?) \n",
    "    \"\"\"\n",
    "    def __init__(self, height, width, dims, name='Memory2d'):\n",
    "        super(SimpleMemory2D, self).__init__(name=name)\n",
    "        \n",
    "        self._height = height\n",
    "        self._width = width\n",
    "        self._dims = dims\n",
    "        \n",
    "        with self._enter_variable_scope():\n",
    "            self.memory = tf.get_variable(name='memory', shape=[height, width, dims])\n",
    "        \n",
    "    def _build(self, inputs):\n",
    "        return local_idx(indexes=inputs, values=self.memory)"
   ]
  },
  {
   "cell_type": "code",
   "execution_count": 10,
   "metadata": {},
   "outputs": [
    {
     "data": {
      "text/plain": [
       "<tf.Tensor 'Memory2d_3_1/add_7:0' shape=(50, 1) dtype=float32>"
      ]
     },
     "execution_count": 10,
     "metadata": {},
     "output_type": "execute_result"
    }
   ],
   "source": [
    "mem = Memory2D(8,8,1)\n",
    "mem(tf.random_normal([50, 3]))"
   ]
  },
  {
   "cell_type": "code",
   "execution_count": null,
   "metadata": {},
   "outputs": [],
   "source": []
  },
  {
   "cell_type": "code",
   "execution_count": null,
   "metadata": {},
   "outputs": [],
   "source": []
  },
  {
   "cell_type": "code",
   "execution_count": null,
   "metadata": {},
   "outputs": [],
   "source": [
    "class DNC(snt.RNNCore):\n",
    "    def __init__(self, name='dnc'):\n",
    "        super(DNC, self).__init__(name=name)\n",
    "\n",
    "        with self._enter_variable_scope():\n",
    "            self._controller = snt.LSTM(**controller_config)\n",
    "            self._memory = \n",
    "\n",
    "    def _build(self, x):"
   ]
  },
  {
   "cell_type": "code",
   "execution_count": null,
   "metadata": {},
   "outputs": [],
   "source": []
  },
  {
   "cell_type": "code",
   "execution_count": null,
   "metadata": {},
   "outputs": [],
   "source": []
  },
  {
   "cell_type": "code",
   "execution_count": null,
   "metadata": {},
   "outputs": [],
   "source": []
  },
  {
   "cell_type": "code",
   "execution_count": null,
   "metadata": {},
   "outputs": [],
   "source": []
  },
  {
   "cell_type": "code",
   "execution_count": null,
   "metadata": {},
   "outputs": [],
   "source": []
  },
  {
   "cell_type": "code",
   "execution_count": null,
   "metadata": {},
   "outputs": [],
   "source": []
  },
  {
   "cell_type": "code",
   "execution_count": null,
   "metadata": {},
   "outputs": [],
   "source": []
  },
  {
   "cell_type": "code",
   "execution_count": null,
   "metadata": {},
   "outputs": [],
   "source": []
  },
  {
   "cell_type": "code",
   "execution_count": 125,
   "metadata": {},
   "outputs": [],
   "source": [
    "def gaussian_kernel(size: int,\n",
    "                    mean: float,\n",
    "                    std: float,\n",
    "                   ):\n",
    "    \"\"\"Makes 2D gaussian Kernel for convolution.\"\"\"\n",
    "\n",
    "    d = tf.distributions.Normal(mean, std)\n",
    "    vals = d.prob(tf.range(start=-size, limit=size+1, dtype=tf.float32))\n",
    "    gauss_kernel = tf.einsum('i,j->ij', vals, vals)\n",
    "    return gauss_kernel / tf.reduce_sum(gauss_kernel)"
   ]
  },
  {
   "cell_type": "code",
   "execution_count": null,
   "metadata": {},
   "outputs": [],
   "source": []
  },
  {
   "cell_type": "code",
   "execution_count": null,
   "metadata": {},
   "outputs": [],
   "source": []
  },
  {
   "cell_type": "code",
   "execution_count": null,
   "metadata": {},
   "outputs": [],
   "source": []
  },
  {
   "cell_type": "code",
   "execution_count": null,
   "metadata": {},
   "outputs": [],
   "source": []
  },
  {
   "cell_type": "code",
   "execution_count": null,
   "metadata": {},
   "outputs": [],
   "source": []
  },
  {
   "cell_type": "code",
   "execution_count": null,
   "metadata": {},
   "outputs": [],
   "source": []
  },
  {
   "cell_type": "code",
   "execution_count": 32,
   "metadata": {},
   "outputs": [],
   "source": []
  },
  {
   "cell_type": "code",
   "execution_count": 34,
   "metadata": {},
   "outputs": [],
   "source": [
    "T = 12\n",
    "B = 1\n",
    "dims = 1\n",
    "\n",
    "observations = tf.placeholder(shape=[T, B, dims], dtype=tf.float32)\n",
    "actions = tf.placeholder(shape=[T, B], dtype=tf.float32)\n",
    "rewards = tf.placeholder(shape=[T, B], dtype=tf.float32)"
   ]
  },
  {
   "cell_type": "code",
   "execution_count": null,
   "metadata": {},
   "outputs": [],
   "source": [
    "q_values, _, pos = tf.nn.dynamic_rnn(dnc_core, input_seq, init_state, time_major=True)\n",
    "\n",
    "losses = [qlearning(q_tm1, a_tm1, r_t, pcont_t, q_t) \n",
    "          for q_tm1, a_tm1, r_t, pcont_t, q_t in zip(q_values[:-1], actions, rewards, ???, q_values[1:])]"
   ]
  },
  {
   "cell_type": "code",
   "execution_count": 35,
   "metadata": {},
   "outputs": [],
   "source": []
  },
  {
   "cell_type": "code",
   "execution_count": null,
   "metadata": {},
   "outputs": [],
   "source": []
  },
  {
   "cell_type": "code",
   "execution_count": null,
   "metadata": {},
   "outputs": [],
   "source": [
    "class MemoryAccess2D(snt.RNNCore):\n",
    "    def __init__(self, height, width, name='Memory2d'):\n",
    "        super(MemoryAccess2D, self).__init__(name=name)\n",
    "        \n",
    "        self._height = height\n",
    "        self._width = width\n",
    "        self._dims = dims\n",
    "        \n",
    "    def _build(self, inputs, state):\n",
    "        \"\"\"\n",
    "        Use inputs to look up a value from state.\n",
    "        \n",
    "        Args:\n",
    "            inputs ():\n",
    "            state (tf.tensor): 2d tensors. [width x height x dims]\n",
    "            \n",
    "        Returns:\n",
    "            (tf.tensor): the value looked up\n",
    "        \"\"\"\n",
    "        inputs = self.parse_inputs(inputs)\n",
    "        \n",
    "        state = self.write_local(index=inputs, value=state)\n",
    "        output = self.read_local(index=inputs, value=state)\n",
    "        \n",
    "        return output, state\n",
    "        \n",
    "    @property\n",
    "    def state_size(self):\n",
    "        \"\"\"Returns a tuple of the shape of the state tensors.\"\"\"\n",
    "        return AccessState2d(\n",
    "            memory=tf.TensorShape([self._width, self._height, self._dims]))\n",
    "\n",
    "    @property\n",
    "    def output_size(self):\n",
    "        \"\"\"Returns the output shape.\"\"\"\n",
    "        return tf.TensorShape([self._dims])"
   ]
  },
  {
   "cell_type": "code",
   "execution_count": null,
   "metadata": {},
   "outputs": [],
   "source": []
  },
  {
   "cell_type": "code",
   "execution_count": null,
   "metadata": {},
   "outputs": [],
   "source": []
  },
  {
   "cell_type": "code",
   "execution_count": null,
   "metadata": {},
   "outputs": [],
   "source": []
  },
  {
   "cell_type": "code",
   "execution_count": null,
   "metadata": {},
   "outputs": [],
   "source": []
  },
  {
   "cell_type": "code",
   "execution_count": null,
   "metadata": {},
   "outputs": [],
   "source": []
  },
  {
   "cell_type": "code",
   "execution_count": null,
   "metadata": {},
   "outputs": [],
   "source": []
  },
  {
   "cell_type": "code",
   "execution_count": 56,
   "metadata": {},
   "outputs": [],
   "source": [
    "x = tf.Variable(tf.random_normal([1, 8]))"
   ]
  },
  {
   "cell_type": "code",
   "execution_count": null,
   "metadata": {},
   "outputs": [],
   "source": []
  },
  {
   "cell_type": "code",
   "execution_count": 39,
   "metadata": {},
   "outputs": [
    {
     "data": {
      "text/plain": [
       "<tf.Tensor 'ArgMax_1:0' shape=(1,) dtype=int64>"
      ]
     },
     "execution_count": 39,
     "metadata": {},
     "output_type": "execute_result"
    }
   ],
   "source": []
  }
 ],
 "metadata": {
  "kernelspec": {
   "display_name": "Python 3",
   "language": "python",
   "name": "python3"
  },
  "language_info": {
   "codemirror_mode": {
    "name": "ipython",
    "version": 3
   },
   "file_extension": ".py",
   "mimetype": "text/x-python",
   "name": "python",
   "nbconvert_exporter": "python",
   "pygments_lexer": "ipython3",
   "version": "3.6.5"
  }
 },
 "nbformat": 4,
 "nbformat_minor": 2
}
