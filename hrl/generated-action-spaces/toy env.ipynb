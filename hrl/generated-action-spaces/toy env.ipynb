{
 "cells": [
  {
   "cell_type": "code",
   "execution_count": 1,
   "metadata": {},
   "outputs": [],
   "source": [
    "import numpy as np\n",
    "import matplotlib.pyplot as plt"
   ]
  },
  {
   "cell_type": "code",
   "execution_count": 2,
   "metadata": {},
   "outputs": [],
   "source": [
    "n_actions = 100  # a centipede with 100 legs"
   ]
  },
  {
   "cell_type": "code",
   "execution_count": 5,
   "metadata": {},
   "outputs": [],
   "source": [
    "class ActionWrapper():\n",
    "    def __init__(self, n_input_actions, n_output_actions):\n",
    "        self.proj = np.random.standard_normal((n_input_actions, n_output_actions))\n",
    "        \n",
    "    def __call__(self, x):\n",
    "        return np.dot(x, self.prog)"
   ]
  },
  {
   "cell_type": "code",
   "execution_count": null,
   "metadata": {},
   "outputs": [],
   "source": [
    "class DiscreteActionWrapper():\n",
    "    def __init__(self, n_input_actions, n_output_actions):\n",
    "        self.proj = np.random.standard_normal((n_input_actions, n_output_actions))\n",
    "        \n",
    "    def __call__(self, a_idx):\n",
    "        a = onehot(a_idx)\n",
    "        return np.dot(self.proj, a)"
   ]
  },
  {
   "cell_type": "code",
   "execution_count": null,
   "metadata": {},
   "outputs": [],
   "source": []
  }
 ],
 "metadata": {
  "kernelspec": {
   "display_name": "Python (venv)",
   "language": "python",
   "name": "venv"
  },
  "language_info": {
   "codemirror_mode": {
    "name": "ipython",
    "version": 3
   },
   "file_extension": ".py",
   "mimetype": "text/x-python",
   "name": "python",
   "nbconvert_exporter": "python",
   "pygments_lexer": "ipython3",
   "version": "3.6.7"
  }
 },
 "nbformat": 4,
 "nbformat_minor": 2
}
